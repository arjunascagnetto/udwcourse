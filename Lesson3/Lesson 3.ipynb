{
 "cells": [
  {
   "cell_type": "code",
   "execution_count": 5,
   "metadata": {
    "collapsed": false
   },
   "outputs": [
    {
     "name": "stdout",
     "output_type": "stream",
     "text": [
      "Androna: 143\n",
      "Bazoviška: 4\n",
      "Belvedere: 4\n",
      "Benčičeva: 1\n",
      "Borgo: 178\n",
      "Calle: 97\n",
      "Campo: 74\n",
      "Capo: 5\n",
      "Cesta: 22\n",
      "Clivio: 40\n",
      "Corso: 91\n",
      "Erta: 81\n",
      "Foro: 9\n",
      "Galleria: 15\n",
      "Gradnikova: 7\n",
      "Gregorčičeva: 17\n",
      "Igriška: 8\n",
      "Istrska: 1\n",
      "Kamnarska: 4\n",
      "Kettejeva: 2\n",
      "Kratka: 3\n",
      "Krvavi: 2\n",
      "Largo: 171\n",
      "Lipica: 3\n",
      "Lipiška: 10\n",
      "Lokavska: 6\n",
      "Lokev: 3\n",
      "Lungomare: 9\n",
      "Mestni: 1\n",
      "Mihele: 2\n",
      "Mirna: 5\n",
      "Molo: 30\n",
      "Partizanska: 5\n",
      "Passeggio: 7\n",
      "Passo: 10\n",
      "Pendice: 36\n",
      "Piazza: 329\n",
      "Piazzale: 168\n",
      "Piazzetta: 23\n",
      "Pod: 8\n",
      "Ponte: 2\n",
      "Pontile: 4\n",
      "Portici: 1\n",
      "Punto: 13\n",
      "Ratto: 33\n",
      "Riva: 90\n",
      "Rotonda: 6\n",
      "Rožna: 6\n",
      "Salita: 579\n",
      "Scala: 478\n",
      "Sentiero: 1\n",
      "Sežanska: 18\n",
      "Skalna: 16\n",
      "Sončna: 8\n",
      "Strada: 1659\n",
      "Traversale: 8\n",
      "Ulica: 28\n",
      "Via: 22773\n",
      "Viale: 629\n",
      "Vicolo: 316\n",
      "Vileniška: 1\n",
      "Vodovodna: 6\n"
     ]
    }
   ],
   "source": [
    "#!/usr/bin/env python\n",
    "# -*- coding: utf-8 -*-\n",
    "import xml.etree.cElementTree as ET\n",
    "from collections import defaultdict\n",
    "import re\n",
    "\n",
    "osm_file = open(\"data/map.osm\", \"r\")\n",
    "\n",
    "street_type_re = re.compile(r'^\\S+\\.?', re.IGNORECASE)\n",
    "street_types = defaultdict(int)\n",
    "\n",
    "def audit_street_type(street_types, street_name):\n",
    "    m = street_type_re.search(street_name)\n",
    "    if m:\n",
    "        street_type = m.group()\n",
    "\n",
    "        street_types[street_type] += 1\n",
    "\n",
    "def print_sorted_dict(d):\n",
    "    keys = d.keys()\n",
    "    keys = sorted(keys, key=lambda s: s.lower())\n",
    "    for k in keys:\n",
    "        v = d[k]\n",
    "        print \"%s: %d\" % (k, v) \n",
    "\n",
    "def is_street_name(elem):\n",
    "    return (elem.tag == \"tag\") and (elem.attrib['k'] == \"addr:street\")\n",
    "\n",
    "def audit():\n",
    "    for event, elem in ET.iterparse(osm_file):\n",
    "        if is_street_name(elem):\n",
    "            audit_street_type(street_types, elem.attrib['v'])   \n",
    "    print_sorted_dict(street_types) \n",
    "\n",
    "if __name__ == '__main__':\n",
    "    audit()"
   ]
  },
  {
   "cell_type": "code",
   "execution_count": null,
   "metadata": {
    "collapsed": true
   },
   "outputs": [],
   "source": []
  },
  {
   "cell_type": "code",
   "execution_count": null,
   "metadata": {
    "collapsed": true
   },
   "outputs": [],
   "source": []
  }
 ],
 "metadata": {
  "kernelspec": {
   "display_name": "Python 2",
   "language": "python",
   "name": "python2"
  },
  "language_info": {
   "codemirror_mode": {
    "name": "ipython",
    "version": 2
   },
   "file_extension": ".py",
   "mimetype": "text/x-python",
   "name": "python",
   "nbconvert_exporter": "python",
   "pygments_lexer": "ipython2",
   "version": "2.7.9"
  }
 },
 "nbformat": 4,
 "nbformat_minor": 0
}
