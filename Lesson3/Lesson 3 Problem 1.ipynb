{
 "cells": [
  {
   "cell_type": "markdown",
   "metadata": {},
   "source": [
    "In this problem set you work with cities infobox data, audit it, come up with a\n",
    "cleaning idea and then clean it up. \n",
    "\n",
    "In the first exercise we want you to audit\n",
    "the datatypes that can be found in some particular fields in the dataset.\n",
    "\n",
    "The possible types of values can be:\n",
    "\n",
    "- NoneType if the value is a string \"NULL\" or an empty string \"\"\n",
    "- list, if the value starts with \"{\"\n",
    "- int, if the value can be cast to int\n",
    "- float, if the value can be cast to float, but CANNOT be cast to int. For example, '3.23e+07' should be considered a float because it can be cast as float but int('3.23e+07') will throw a ValueError\n",
    "- 'str', for all other values\n",
    "\n",
    "The audit_file function should return a dictionary containing fieldnames and a \n",
    "SET of the types that can be found in the field. e.g.\n",
    "{\"field1\": set([type(float()), type(int()), type(str())]),\n",
    " \"field2\": set([type(str())]),\n",
    "  ....\n",
    "}\n",
    "The type() function returns a type object describing the argument given to the \n",
    "function. You can also use examples of objects to create type objects, e.g.\n",
    "type(1.1) for a float: see the test function below for examples.\n",
    "\n",
    "All the data initially is a string, so you have to do some checks on the values\n",
    "first."
   ]
  },
  {
   "cell_type": "code",
   "execution_count": 1,
   "metadata": {
    "collapsed": true
   },
   "outputs": [],
   "source": [
    "import codecs\n",
    "import csv\n",
    "import json\n",
    "import pprint\n",
    "\n",
    "CITIES = 'data/cities.csv'\n",
    "\n",
    "FIELDS = [\"name\", \"timeZone_label\", \"utcOffset\", \"homepage\", \"governmentType_label\", \"isPartOf_label\", \n",
    "          \"areaCode\", \"populationTotal\", \"elevation\", \"maximumElevation\", \"minimumElevation\", \"populationDensity\", \n",
    "          \"wgs84_pos#lat\", \"wgs84_pos#long\", \"areaLand\", \"areaMetro\", \"areaUrban\"]"
   ]
  },
  {
   "cell_type": "code",
   "execution_count": 8,
   "metadata": {
    "collapsed": true
   },
   "outputs": [
    {
     "name": "stdout",
     "output_type": "stream",
     "text": [
      "3 --> [{'name': 'Kud'}, {'timeZone_label': 'Indian Standard Time'}, {'utcOffset': '+5:30'}, {'homepage': 'NULL'}, {'governmentType_label': 'NULL'}, {'isPartOf_label': '{Jammu and Kashmir|Udhampur district}'}, {'areaCode': 'NULL'}, {'populationTotal': '1140'}, {'elevation': '1855.0'}, {'maximumElevation': 'NULL'}, {'minimumElevation': 'NULL'}, {'populationDensity': 'NULL'}, {'wgs84_pos#lat': '33.08'}, {'wgs84_pos#long': '75.28'}, {'areaLand': 'NULL'}, {'areaMetro': 'NULL'}, {'areaUrban': 'NULL'}] \n",
      "\n",
      "4 --> [{'name': 'Kuju'}, {'timeZone_label': 'Indian Standard Time'}, {'utcOffset': '+5:30'}, {'homepage': 'NULL'}, {'governmentType_label': 'NULL'}, {'isPartOf_label': '{Jharkhand|Ramgarh district}'}, {'areaCode': 'NULL'}, {'populationTotal': '18049'}, {'elevation': '426.0'}, {'maximumElevation': 'NULL'}, {'minimumElevation': 'NULL'}, {'populationDensity': 'NULL'}, {'wgs84_pos#lat': '23.72'}, {'wgs84_pos#long': '85.5'}, {'areaLand': 'NULL'}, {'areaMetro': 'NULL'}, {'areaUrban': 'NULL'}] \n",
      "\n",
      "5 --> [{'name': 'Kumbhraj'}, {'timeZone_label': 'Indian Standard Time'}, {'utcOffset': '+5:30'}, {'homepage': 'NULL'}, {'governmentType_label': 'NULL'}, {'isPartOf_label': '{Guna district|Madhya Pradesh}'}, {'areaCode': 'NULL'}, {'populationTotal': '13999'}, {'elevation': '419.0'}, {'maximumElevation': 'NULL'}, {'minimumElevation': 'NULL'}, {'populationDensity': 'NULL'}, {'wgs84_pos#lat': '24.37'}, {'wgs84_pos#long': '77.05'}, {'areaLand': 'NULL'}, {'areaMetro': 'NULL'}, {'areaUrban': 'NULL'}] \n",
      "\n",
      "6 --> [{'name': 'Kumhari'}, {'timeZone_label': 'Indian Standard Time'}, {'utcOffset': '+5:30'}, {'homepage': 'NULL'}, {'governmentType_label': 'NULL'}, {'isPartOf_label': '{Chhattisgarh|Durg district}'}, {'areaCode': 'NULL'}, {'populationTotal': '29737'}, {'elevation': '285.0'}, {'maximumElevation': 'NULL'}, {'minimumElevation': 'NULL'}, {'populationDensity': 'NULL'}, {'wgs84_pos#lat': '21.27'}, {'wgs84_pos#long': '81.52'}, {'areaLand': 'NULL'}, {'areaMetro': 'NULL'}, {'areaUrban': 'NULL'}] \n",
      "\n",
      "7 --> [{'name': 'Kunigal'}, {'timeZone_label': 'Indian Standard Time'}, {'utcOffset': '+5:30'}, {'homepage': 'NULL'}, {'governmentType_label': 'NULL'}, {'isPartOf_label': '{Karnataka|Tumkur district}'}, {'areaCode': '91-8132'}, {'populationTotal': '30291'}, {'elevation': '773.0'}, {'maximumElevation': 'NULL'}, {'minimumElevation': 'NULL'}, {'populationDensity': 'NULL'}, {'wgs84_pos#lat': '13.02'}, {'wgs84_pos#long': '77.03'}, {'areaLand': 'NULL'}, {'areaMetro': 'NULL'}, {'areaUrban': 'NULL'}] \n",
      "\n",
      "8 --> [{'name': 'Kurgunta'}, {'timeZone_label': 'Indian Standard Time'}, {'utcOffset': '+5:30'}, {'homepage': 'NULL'}, {'governmentType_label': 'NULL'}, {'isPartOf_label': '{Gulbarga district|Karnataka}'}, {'areaCode': 'NULL'}, {'populationTotal': '8584'}, {'elevation': '418.0'}, {'maximumElevation': 'NULL'}, {'minimumElevation': 'NULL'}, {'populationDensity': 'NULL'}, {'wgs84_pos#lat': '17.2'}, {'wgs84_pos#long': '77.35'}, {'areaLand': 'NULL'}, {'areaMetro': 'NULL'}, {'areaUrban': 'NULL'}] \n",
      "\n",
      "9 --> [{'name': 'Athens'}, {'timeZone_label': 'Central Time Zone (North America)'}, {'utcOffset': '{-5|-6}'}, {'homepage': 'NULL'}, {'governmentType_label': 'NULL'}, {'isPartOf_label': '{Alabama|Limestone County Alabama}'}, {'areaCode': '256 938'}, {'populationTotal': '21897'}, {'elevation': '{243.1|243.23}'}, {'maximumElevation': 'NULL'}, {'minimumElevation': 'NULL'}, {'populationDensity': 'NULL'}, {'wgs84_pos#lat': '34.7897'}, {'wgs84_pos#long': '-86.9694'}, {'areaLand': '{1.01787e+08|1.019e+08}'}, {'areaMetro': 'NULL'}, {'areaUrban': 'NULL'}] \n",
      "\n",
      "10 --> [{'name': 'Demopolis'}, {'timeZone_label': 'Central Time Zone (North America)'}, {'utcOffset': '{-5|-6}'}, {'homepage': 'http://www.demopolisal.gov'}, {'governmentType_label': 'NULL'}, {'isPartOf_label': '{Alabama|Marengo County Alabama}'}, {'areaCode': '334'}, {'populationTotal': '7540'}, {'elevation': '{36.8808|37.0}'}, {'maximumElevation': 'NULL'}, {'minimumElevation': 'NULL'}, {'populationDensity': '{233.4|234.789}'}, {'wgs84_pos#lat': '32.5094'}, {'wgs84_pos#long': '-87.8372'}, {'areaLand': '{3.15979e+07|3.17e+07}'}, {'areaMetro': 'NULL'}, {'areaUrban': 'NULL'}] \n",
      "\n",
      "11 --> [{'name': 'Chelsea Alabama'}, {'timeZone_label': 'Central Time Zone (North America)'}, {'utcOffset': '{-5|-6}'}, {'homepage': 'http://www.cityofchelsea.com'}, {'governmentType_label': 'NULL'}, {'isPartOf_label': '{Alabama|Shelby County Alabama}'}, {'areaCode': '205'}, {'populationTotal': '10183'}, {'elevation': '{156.0|156.058}'}, {'maximumElevation': 'NULL'}, {'minimumElevation': 'NULL'}, {'populationDensity': '{181.159|1215.3}'}, {'wgs84_pos#lat': '33.3292'}, {'wgs84_pos#long': '-86.6508'}, {'areaLand': '{5.51667e+07|5.53e+07}'}, {'areaMetro': 'NULL'}, {'areaUrban': 'NULL'}] \n",
      "\n",
      "12 --> [{'name': 'Pell City Alabama'}, {'timeZone_label': 'Central Time Zone (North America)'}, {'utcOffset': '{-5|-6}'}, {'homepage': 'http://www.epell.net/'}, {'governmentType_label': 'NULL'}, {'isPartOf_label': '{Alabama|St. Clair County Alabama}'}, {'areaCode': '205'}, {'populationTotal': '12463'}, {'elevation': '{181.966|182.0}'}, {'maximumElevation': 'NULL'}, {'minimumElevation': 'NULL'}, {'populationDensity': '{176.912|177.3}'}, {'wgs84_pos#lat': '33.5708'}, {'wgs84_pos#long': '-86.2739'}, {'areaLand': '{6.36e+07|6.37137e+07}'}, {'areaMetro': 'NULL'}, {'areaUrban': 'NULL'}] \n",
      "\n",
      "13 --> [{'name': 'City of Northport'}, {'timeZone_label': 'Central Time Zone (North America)'}, {'utcOffset': '{-5|-6}'}, {'homepage': 'http://www.cityofnorthport.org/'}, {'governmentType_label': 'NULL'}, {'isPartOf_label': '{Alabama|Tuscaloosa County Alabama}'}, {'areaCode': '205'}, {'populationTotal': '23442'}, {'elevation': '{67.0|67.056}'}, {'maximumElevation': 'NULL'}, {'minimumElevation': 'NULL'}, {'populationDensity': '{504.8|507.029}'}, {'wgs84_pos#lat': '33.2539'}, {'wgs84_pos#long': '-87.5922'}, {'areaLand': '{3.78138e+07|3.79e+07}'}, {'areaMetro': 'NULL'}, {'areaUrban': 'NULL'}] \n",
      "\n",
      "14 --> [{'name': 'Sand Point'}, {'timeZone_label': 'Alaska Time Zone'}, {'utcOffset': '{-8|-9}'}, {'homepage': 'http://www.ci.sandpoint.ak.us/'}, {'governmentType_label': 'Mayor'}, {'isPartOf_label': '{Alaska|Aleutians East Borough Alaska}'}, {'areaCode': '907'}, {'populationTotal': '976'}, {'elevation': '{11.8872|12.0}'}, {'maximumElevation': 'NULL'}, {'minimumElevation': 'NULL'}, {'populationDensity': '{47.1|47.1431}'}, {'wgs84_pos#lat': '55.3367'}, {'wgs84_pos#long': '-160.493'}, {'areaLand': '{2.02e+07|2.02019e+07}'}, {'areaMetro': 'NULL'}, {'areaUrban': 'NULL'}] \n",
      "\n",
      "15 --> [{'name': 'Unalaska Alaska'}, {'timeZone_label': 'Alaska Time Zone'}, {'utcOffset': '{-8|-9}'}, {'homepage': 'NULL'}, {'governmentType_label': 'NULL'}, {'isPartOf_label': '{Alaska|Aleutians West Census Area Alaska}'}, {'areaCode': '907'}, {'populationTotal': '4376'}, {'elevation': '{3.9624|4.0}'}, {'maximumElevation': 'NULL'}, {'minimumElevation': 'NULL'}, {'populationDensity': 'NULL'}, {'wgs84_pos#lat': '53.8889'}, {'wgs84_pos#long': '-166.527'}, {'areaLand': '{2.87489e+08|2.875e+08}'}, {'areaMetro': 'NULL'}, {'areaUrban': 'NULL'}] \n",
      "\n",
      "16 --> [{'name': 'City of Menlo Park'}, {'timeZone_label': 'Pacific Time Zone'}, {'utcOffset': '{-7|-8}'}, {'homepage': 'http://www.menlopark.org/'}, {'governmentType_label': 'NULL'}, {'isPartOf_label': '{California|San Mateo County California}'}, {'areaCode': '650'}, {'populationTotal': '32026'}, {'elevation': '{21.9456|22.0}'}, {'maximumElevation': 'NULL'}, {'minimumElevation': 'NULL'}, {'populationDensity': 'NULL'}, {'wgs84_pos#lat': '37.4542'}, {'wgs84_pos#long': '-122.179'}, {'areaLand': '{2.5355e+07|2.5356e+07}'}, {'areaMetro': 'NULL'}, {'areaUrban': 'NULL'}] \n",
      "\n",
      "17 --> [{'name': '{Negtemiut|Nightmute}'}, {'timeZone_label': 'Alaska Time Zone'}, {'utcOffset': '{-8|-9}'}, {'homepage': 'NULL'}, {'governmentType_label': 'NULL'}, {'isPartOf_label': '{Alaska|Bethel Census Area Alaska}'}, {'areaCode': '907'}, {'populationTotal': '280'}, {'elevation': '{22.86|23.0}'}, {'maximumElevation': 'NULL'}, {'minimumElevation': 'NULL'}, {'populationDensity': 'NULL'}, {'wgs84_pos#lat': '60.4914'}, {'wgs84_pos#long': '-164.826'}, {'areaLand': '{2.512e+08|2.51229e+08}'}, {'areaMetro': 'NULL'}, {'areaUrban': 'NULL'}] \n",
      "\n",
      "18 --> [{'name': 'Fairbanks Alaska'}, {'timeZone_label': 'Alaska Time Zone'}, {'utcOffset': '{-8|-9}'}, {'homepage': 'NULL'}, {'governmentType_label': 'Home Rule in the United States'}, {'isPartOf_label': '{Alaska|Fairbanks North Star Borough Alaska}'}, {'areaCode': '907'}, {'populationTotal': '31535'}, {'elevation': '{135.941|136.0}'}, {'maximumElevation': 'NULL'}, {'minimumElevation': 'NULL'}, {'populationDensity': '{379.114|379.7}'}, {'wgs84_pos#lat': '64.8436'}, {'wgs84_pos#long': '-147.723'}, {'areaLand': '{8.25e+07|8.26206e+07}'}, {'areaMetro': 'NULL'}, {'areaUrban': 'NULL'}] \n",
      "\n",
      "19 --> [{'name': 'Homer'}, {'timeZone_label': 'Alaska Time Zone'}, {'utcOffset': '{-8|-9}'}, {'homepage': 'http://www.ci.homer.ak.us/'}, {'governmentType_label': 'NULL'}, {'isPartOf_label': '{Alaska|Kenai Peninsula Borough Alaska}'}, {'areaCode': '907'}, {'populationTotal': '5003'}, {'elevation': '{28.956|29.0}'}, {'maximumElevation': 'NULL'}, {'minimumElevation': 'NULL'}, {'populationDensity': 'NULL'}, {'wgs84_pos#lat': '59.6431'}, {'wgs84_pos#long': '-151.526'}, {'areaLand': '3.58195e+07'}, {'areaMetro': 'NULL'}, {'areaUrban': 'NULL'}] \n",
      "\n",
      "20 --> [{'name': 'Ketchikan Alaska'}, {'timeZone_label': 'Alaska Time Zone'}, {'utcOffset': '{-8|-9}'}, {'homepage': 'NULL'}, {'governmentType_label': 'NULL'}, {'isPartOf_label': '{Alaska|Ketchikan Gateway Borough Alaska}'}, {'areaCode': '907'}, {'populationTotal': '8050'}, {'elevation': '0.0'}, {'maximumElevation': 'NULL'}, {'minimumElevation': 'NULL'}, {'populationDensity': '714.1'}, {'wgs84_pos#lat': '55.35'}, {'wgs84_pos#long': '-131.673'}, {'areaLand': '1.13e+07'}, {'areaMetro': 'NULL'}, {'areaUrban': 'NULL'}] \n",
      "\n",
      "21 --> [{'name': '{Nuniaq|Old Harbor}'}, {'timeZone_label': 'Alaska Time Zone'}, {'utcOffset': '{-8|-9}'}, {'homepage': 'NULL'}, {'governmentType_label': 'NULL'}, {'isPartOf_label': '{Alaska|Kodiak Island Borough Alaska}'}, {'areaCode': '907'}, {'populationTotal': '218'}, {'elevation': '{0.9144|1.0}'}, {'maximumElevation': 'NULL'}, {'minimumElevation': 'NULL'}, {'populationDensity': '4.1'}, {'wgs84_pos#lat': '57.1972'}, {'wgs84_pos#long': '-153.308'}, {'areaLand': '5.32e+07'}, {'areaMetro': 'NULL'}, {'areaUrban': 'NULL'}] \n",
      "\n",
      "22 --> [{'name': 'Rainier Washington'}, {'timeZone_label': 'Pacific Time Zone'}, {'utcOffset': '{-7|-8}'}, {'homepage': 'NULL'}, {'governmentType_label': 'NULL'}, {'isPartOf_label': '{Thurston County Washington|Washington (state)}'}, {'areaCode': '360'}, {'populationTotal': '1794'}, {'elevation': '{131.978|132.0}'}, {'maximumElevation': 'NULL'}, {'minimumElevation': 'NULL'}, {'populationDensity': '{400.388|400.4}'}, {'wgs84_pos#lat': '46.8908'}, {'wgs84_pos#long': '-122.69'}, {'areaLand': '{4.48e+06|4.48068e+06}'}, {'areaMetro': 'NULL'}, {'areaUrban': 'NULL'}] \n",
      "\n",
      "23 --> [{'name': 'City of Blaine'}, {'timeZone_label': 'Pacific Time Zone'}, {'utcOffset': '{-7|-8}'}, {'homepage': 'http://www.cityofblaine.com/'}, {'governmentType_label': 'NULL'}, {'isPartOf_label': '{Washington (state)|Whatcom County Washington}'}, {'areaCode': '360'}, {'populationTotal': '4684'}, {'elevation': '{16.0|16.1544}'}, {'maximumElevation': 'NULL'}, {'minimumElevation': 'NULL'}, {'populationDensity': '{321.2|321.237}'}, {'wgs84_pos#lat': '48.9881'}, {'wgs84_pos#long': '-122.744'}, {'areaLand': '{1.458e+07|1.45816e+07}'}, {'areaMetro': 'NULL'}, {'areaUrban': 'NULL'}] \n",
      "\n",
      "24 --> [{'name': 'Ferndale Washington'}, {'timeZone_label': 'Pacific Time Zone'}, {'utcOffset': '{-7|-8}'}, {'homepage': 'http://www.ci.ferndale.wa.us/'}, {'governmentType_label': 'NULL'}, {'isPartOf_label': '{Washington (state)|Whatcom County Washington}'}, {'areaCode': '360'}, {'populationTotal': '11415'}, {'elevation': '{10.9728|11.0}'}, {'maximumElevation': 'NULL'}, {'minimumElevation': 'NULL'}, {'populationDensity': '{666.76|666.8}'}, {'wgs84_pos#lat': '48.8489'}, {'wgs84_pos#long': '-122.59'}, {'areaLand': '{1.71198e+07|1.712e+07}'}, {'areaMetro': 'NULL'}, {'areaUrban': 'NULL'}] \n",
      "\n",
      "25 --> [{'name': 'Mabton Washington'}, {'timeZone_label': 'Pacific Time Zone'}, {'utcOffset': '{-7|-8}'}, {'homepage': 'NULL'}, {'governmentType_label': 'NULL'}, {'isPartOf_label': '{Washington (state)|Yakima County Washington}'}, {'areaCode': '509'}, {'populationTotal': '2286'}, {'elevation': '{217.932|218.0}'}, {'maximumElevation': 'NULL'}, {'minimumElevation': 'NULL'}, {'populationDensity': '{1103.29|1103.3}'}, {'wgs84_pos#lat': '46.2117'}, {'wgs84_pos#long': '-119.996'}, {'areaLand': '{2.07e+06|2.07199e+06}'}, {'areaMetro': 'NULL'}, {'areaUrban': 'NULL'}] \n",
      "\n",
      "26 --> [{'name': 'Zillah Washington'}, {'timeZone_label': 'Pacific Time Zone'}, {'utcOffset': '{-7|-8}'}, {'homepage': 'http://www.cityofzillah.us/'}, {'governmentType_label': 'NULL'}, {'isPartOf_label': '{Washington (state)|Yakima County Washington}'}, {'areaCode': '509'}, {'populationTotal': '2964'}, {'elevation': '{249.936|250.0}'}, {'maximumElevation': 'NULL'}, {'minimumElevation': 'NULL'}, {'populationDensity': '{642.9|642.937}'}, {'wgs84_pos#lat': '46.4036'}, {'wgs84_pos#long': '-120.261'}, {'areaLand': '{4.61e+06|4.61018e+06}'}, {'areaMetro': 'NULL'}, {'areaUrban': 'NULL'}] \n",
      "\n",
      "27 --> [{'name': 'Kenova West Virginia'}, {'timeZone_label': 'Eastern Time Zone'}, {'utcOffset': '{-4|-5}'}, {'homepage': 'http://www.cityofkenova.com'}, {'governmentType_label': 'NULL'}, {'isPartOf_label': '{Wayne County West Virginia|West Virginia}'}, {'areaCode': '304'}, {'populationTotal': '3216'}, {'elevation': '{170.0|170.078}'}, {'maximumElevation': 'NULL'}, {'minimumElevation': 'NULL'}, {'populationDensity': '{985.487|985.5}'}, {'wgs84_pos#lat': '38.3997'}, {'wgs84_pos#long': '-82.5786'}, {'areaLand': '{3.26e+06|3.26339e+06}'}, {'areaMetro': 'NULL'}, {'areaUrban': 'NULL'}] \n",
      "\n",
      "28 --> [{'name': 'Fitchburg Wisconsin'}, {'timeZone_label': 'Central Time Zone (North America)'}, {'utcOffset': '{-5|-6}'}, {'homepage': 'http://www.city.fitchburg.wi.us/index.php'}, {'governmentType_label': 'NULL'}, {'isPartOf_label': '{Dane County Wisconsin|Wisconsin}'}, {'areaCode': '608'}, {'populationTotal': '25260'}, {'elevation': 'NULL'}, {'maximumElevation': 'NULL'}, {'minimumElevation': 'NULL'}, {'populationDensity': '{278.882|278.9}'}, {'wgs84_pos#lat': '43.0064'}, {'wgs84_pos#long': '-89.4314'}, {'areaLand': '{9.057e+07|9.05719e+07}'}, {'areaMetro': 'NULL'}, {'areaUrban': 'NULL'}] \n",
      "\n",
      "29 --> [{'name': 'Stoughton Wisconsin'}, {'timeZone_label': 'Central Time Zone (North America)'}, {'utcOffset': '{-5|-6}'}, {'homepage': 'http://www.cityofstoughton.com'}, {'governmentType_label': 'NULL'}, {'isPartOf_label': '{Dane County Wisconsin|Wisconsin}'}, {'areaCode': '608'}, {'populationTotal': '12611'}, {'elevation': '{267.0|267.005}'}, {'maximumElevation': 'NULL'}, {'minimumElevation': 'NULL'}, {'populationDensity': '{989.657|989.7}'}, {'wgs84_pos#lat': '42.9211'}, {'wgs84_pos#long': '-89.2244'}, {'areaLand': '{1.274e+07|1.27427e+07}'}, {'areaMetro': 'NULL'}, {'areaUrban': 'NULL'}] \n",
      "\n",
      "30 --> [{'name': 'Watertown Wisconsin'}, {'timeZone_label': 'Central Time Zone (North America)'}, {'utcOffset': '{-5|-6}'}, {'homepage': 'NULL'}, {'governmentType_label': 'NULL'}, {'isPartOf_label': '{Dodge County Wisconsin|Jefferson County Wisconsin|Wisconsin}'}, {'areaCode': '920'}, {'populationTotal': '23861'}, {'elevation': '{259.994|260.0}'}, {'maximumElevation': 'NULL'}, {'minimumElevation': 'NULL'}, {'populationDensity': '{760.776|760.8}'}, {'wgs84_pos#lat': '43.2'}, {'wgs84_pos#long': '-88.7167'}, {'areaLand': '{3.136e+07|3.13648e+07}'}, {'areaMetro': 'NULL'}, {'areaUrban': 'NULL'}] \n",
      "\n",
      "31 --> [{'name': 'LaCrosse Wisconsin'}, {'timeZone_label': 'Central Time Zone (North America)'}, {'utcOffset': '{-5|-6}'}, {'homepage': 'http://www.cityoflacrosse.org/'}, {'governmentType_label': 'NULL'}, {'isPartOf_label': '{La Crosse County Wisconsin|Wisconsin}'}, {'areaCode': '608'}, {'populationTotal': '51320'}, {'elevation': '{203.911|204.0}'}, {'maximumElevation': 'NULL'}, {'minimumElevation': 'NULL'}, {'populationDensity': '{965.6|965.641}'}, {'wgs84_pos#lat': '43.8133'}, {'wgs84_pos#long': '-91.2331'}, {'areaLand': '{5.31466e+07|5.315e+07}'}, {'areaMetro': 'NULL'}, {'areaUrban': 'NULL'}] \n",
      "\n",
      "32 --> [{'name': 'Wauwatosa Wisconsin'}, {'timeZone_label': 'Central Time Zone (North America)'}, {'utcOffset': '{-5|-6}'}, {'homepage': 'http://www.wauwatosa.net'}, {'governmentType_label': 'NULL'}, {'isPartOf_label': '{Milwaukee County Wisconsin|Wisconsin}'}, {'areaCode': '414'}, {'populationTotal': '46396'}, {'elevation': '{205.0|205.13}'}, {'maximumElevation': 'NULL'}, {'minimumElevation': 'NULL'}, {'populationDensity': '{1351.98|1352.0}'}, {'wgs84_pos#lat': '43.0589'}, {'wgs84_pos#long': '-88.0261'}, {'areaLand': '{3.43173e+07|3.432e+07}'}, {'areaMetro': 'NULL'}, {'areaUrban': 'NULL'}] \n",
      "\n",
      "33 --> [{'name': 'Osseo Wisconsin'}, {'timeZone_label': 'Central Time Zone (North America)'}, {'utcOffset': '{-5|-6}'}, {'homepage': 'NULL'}, {'governmentType_label': 'NULL'}, {'isPartOf_label': '{Trempealeau County Wisconsin|Wisconsin}'}, {'areaCode': '715 & 534'}, {'populationTotal': '1701'}, {'elevation': '{291.998|292.0}'}, {'maximumElevation': 'NULL'}, {'minimumElevation': 'NULL'}, {'populationDensity': '{318.8|318.805}'}, {'wgs84_pos#lat': '44.5783'}, {'wgs84_pos#long': '-91.2183'}, {'areaLand': '{5.33538e+06|5.34e+06}'}, {'areaMetro': 'NULL'}, {'areaUrban': 'NULL'}] \n",
      "\n",
      "34 --> [{'name': 'Muskego Wisconsin'}, {'timeZone_label': 'Central Time Zone (North America)'}, {'utcOffset': '{-5|-6}'}, {'homepage': 'http://www.ci.muskego.wi.us/'}, {'governmentType_label': 'NULL'}, {'isPartOf_label': '{Waukesha County Wisconsin|Wisconsin}'}, {'areaCode': '414 262'}, {'populationTotal': '24135'}, {'elevation': '{244.0|244.145}'}, {'maximumElevation': 'NULL'}, {'minimumElevation': 'NULL'}, {'populationDensity': '{294.9|294.905}'}, {'wgs84_pos#lat': '42.9012'}, {'wgs84_pos#long': '-88.1246'}, {'areaLand': '{8.184e+07|8.18436e+07}'}, {'areaMetro': 'NULL'}, {'areaUrban': 'NULL'}] \n",
      "\n",
      "35 --> [{'name': 'Clintonville Wisconsin'}, {'timeZone_label': 'Central Time Zone (North America)'}, {'utcOffset': '{-5|-6}'}, {'homepage': 'NULL'}, {'governmentType_label': 'NULL'}, {'isPartOf_label': '{Waupaca County Wisconsin|Wisconsin}'}, {'areaCode': '715 & 534'}, {'populationTotal': '4559'}, {'elevation': '{248.0|248.107}'}, {'maximumElevation': 'NULL'}, {'minimumElevation': 'NULL'}, {'populationDensity': '{400.0|400.04}'}, {'wgs84_pos#lat': '44.6242'}, {'wgs84_pos#long': '-88.7581'}, {'areaLand': '{1.13959e+07|1.14e+07}'}, {'areaMetro': 'NULL'}, {'areaUrban': 'NULL'}] \n",
      "\n",
      "36 --> [{'name': 'Hartford Wisconsin'}, {'timeZone_label': 'Central Time Zone (North America)'}, {'utcOffset': '{-5|-6}'}, {'homepage': 'NULL'}, {'governmentType_label': 'NULL'}, {'isPartOf_label': '{Dodge County Wisconsin|Washington County Wisconsin|Wisconsin}'}, {'areaCode': '262'}, {'populationTotal': '14223'}, {'elevation': '{299.0|299.009}'}, {'maximumElevation': 'NULL'}, {'minimumElevation': 'NULL'}, {'populationDensity': '{691.6|691.625}'}, {'wgs84_pos#lat': '43.3183'}, {'wgs84_pos#long': '-88.3789'}, {'areaLand': '{2.056e+07|2.05645e+07}'}, {'areaMetro': 'NULL'}, {'areaUrban': 'NULL'}] \n",
      "\n",
      "37 --> [{'name': 'City of Spokane Valley Washington'}, {'timeZone_label': 'Pacific Time Zone'}, {'utcOffset': '{-7|-8}'}, {'homepage': 'http://www.spokanevalley.org/'}, {'governmentType_label': 'NULL'}, {'isPartOf_label': '{Spokane County Washington|Washington (state)}'}, {'areaCode': '509'}, {'populationTotal': '89755'}, {'elevation': 'NULL'}, {'maximumElevation': 'NULL'}, {'minimumElevation': 'NULL'}, {'populationDensity': '{917.5|917.533}'}, {'wgs84_pos#lat': '47.6733'}, {'wgs84_pos#long': '-117.239'}, {'areaLand': '{9.782e+07|9.78239e+07}'}, {'areaMetro': 'NULL'}, {'areaUrban': 'NULL'}] \n",
      "\n",
      "38 --> [{'name': 'NULL'}, {'timeZone_label': 'Time in China'}, {'utcOffset': '+8'}, {'homepage': 'http://www.harbin.gov.cn/'}, {'governmentType_label': 'NULL'}, {'isPartOf_label': 'Heilongjiang'}, {'areaCode': '451'}, {'populationTotal': '10635971'}, {'elevation': '{148.742|150.0}'}, {'maximumElevation': 'NULL'}, {'minimumElevation': 'NULL'}, {'populationDensity': 'NULL'}, {'wgs84_pos#lat': '45.75'}, {'wgs84_pos#long': '126.633'}, {'areaLand': 'NULL'}, {'areaMetro': '7.068e+09'}, {'areaUrban': '7.068e+09'}] \n",
      "\n",
      "39 --> [{'name': 'Dortmund'}, {'timeZone_label': 'NULL'}, {'utcOffset': 'NULL'}, {'homepage': 'http://www.dortmund.de/'}, {'governmentType_label': 'NULL'}, {'isPartOf_label': 'NULL'}, {'areaCode': '0231 02304'}, {'populationTotal': 'NULL'}, {'elevation': '86.0'}, {'maximumElevation': 'NULL'}, {'minimumElevation': 'NULL'}, {'populationDensity': 'NULL'}, {'wgs84_pos#lat': '51.5167'}, {'wgs84_pos#long': '7.46667'}, {'areaLand': 'NULL'}, {'areaMetro': 'NULL'}, {'areaUrban': 'NULL'}] \n",
      "\n",
      "40 --> [{'name': 'Stratford Iowa'}, {'timeZone_label': 'Central Time Zone (North America)'}, {'utcOffset': '{-5|-6}'}, {'homepage': 'http://www.stratfordiowa.com'}, {'governmentType_label': 'NULL'}, {'isPartOf_label': '{Hamilton County Iowa|Iowa|Webster County Iowa}'}, {'areaCode': '515'}, {'populationTotal': '743'}, {'elevation': '{338.0|338.023}'}, {'maximumElevation': 'NULL'}, {'minimumElevation': 'NULL'}, {'populationDensity': '{150.194|150.2}'}, {'wgs84_pos#lat': '42.2708'}, {'wgs84_pos#long': '-93.9269'}, {'areaLand': '{4.94688e+06|4.95e+06}'}, {'areaMetro': 'NULL'}, {'areaUrban': 'NULL'}] \n",
      "\n",
      "41 --> [{'name': 'Forest City Iowa'}, {'timeZone_label': 'Central Time Zone (North America)'}, {'utcOffset': '{-5|-6}'}, {'homepage': 'NULL'}, {'governmentType_label': 'NULL'}, {'isPartOf_label': '{Hancock County Iowa|Iowa|Winnebago County Iowa}'}, {'areaCode': '641'}, {'populationTotal': '4151'}, {'elevation': '{383.0|383.134}'}, {'maximumElevation': 'NULL'}, {'minimumElevation': 'NULL'}, {'populationDensity': '{345.4|345.407}'}, {'wgs84_pos#lat': '43.2619'}, {'wgs84_pos#long': '-93.6403'}, {'areaLand': '{1.20175e+07|1.202e+07}'}, {'areaMetro': 'NULL'}, {'areaUrban': 'NULL'}] \n",
      "\n"
     ]
    }
   ],
   "source": [
    "with open(CITIES,'r') as infile:\n",
    "    soup = csv.DictReader(infile)\n",
    "    for i,row in enumerate(soup):\n",
    "        if 'dbpedia' in row['URI']:\n",
    "            print i,'-->',[{key:row[key]} for key in FIELDS],'\\n'"
   ]
  },
  {
   "cell_type": "code",
   "execution_count": 23,
   "metadata": {
    "collapsed": false
   },
   "outputs": [],
   "source": [
    "data = []\n",
    "with open(CITIES,'r') as infile:\n",
    "    soup = csv.DictReader(infile)\n",
    "    for row in soup:\n",
    "        if 'dbpedia' in row['URI']:\n",
    "            data.append({key:row[key] for key in FIELDS})"
   ]
  },
  {
   "cell_type": "code",
   "execution_count": 25,
   "metadata": {
    "collapsed": false,
    "scrolled": true
   },
   "outputs": [
    {
     "data": {
      "text/plain": [
       "{'areaCode': 'NULL',\n",
       " 'areaLand': 'NULL',\n",
       " 'areaMetro': 'NULL',\n",
       " 'areaUrban': 'NULL',\n",
       " 'elevation': '1855.0',\n",
       " 'governmentType_label': 'NULL',\n",
       " 'homepage': 'NULL',\n",
       " 'isPartOf_label': '{Jammu and Kashmir|Udhampur district}',\n",
       " 'maximumElevation': 'NULL',\n",
       " 'minimumElevation': 'NULL',\n",
       " 'name': 'Kud',\n",
       " 'populationDensity': 'NULL',\n",
       " 'populationTotal': '1140',\n",
       " 'timeZone_label': 'Indian Standard Time',\n",
       " 'utcOffset': '+5:30',\n",
       " 'wgs84_pos#lat': '33.08',\n",
       " 'wgs84_pos#long': '75.28'}"
      ]
     },
     "execution_count": 25,
     "metadata": {},
     "output_type": "execute_result"
    }
   ],
   "source": [
    "data[0]"
   ]
  },
  {
   "cell_type": "code",
   "execution_count": 2,
   "metadata": {
    "collapsed": false
   },
   "outputs": [],
   "source": [
    "import re\n",
    "\n",
    "def isfloat(value):\n",
    "    try:\n",
    "        float(value)\n",
    "        return True\n",
    "    except ValueError:\n",
    "        return False\n",
    "\n",
    "def parse(value):\n",
    "    if value == 'NULL' or value == '':\n",
    "        #print value,'-->None'\n",
    "        typo = type(None)\n",
    "    elif re.match(u'{',value):\n",
    "        #print value,'-->list'\n",
    "        typo = type([])\n",
    "    elif value.isdigit():\n",
    "        #print value,'-->Int'\n",
    "        typo = type(1)\n",
    "    elif isfloat(value):\n",
    "        typo = type(1.1)\n",
    "        #print value,'-->float'\n",
    "    else:\n",
    "        typo = type('string')\n",
    "        #print value,'-->string'\n",
    "    return typo"
   ]
  },
  {
   "cell_type": "code",
   "execution_count": 78,
   "metadata": {
    "collapsed": true
   },
   "outputs": [
    {
     "name": "stdout",
     "output_type": "stream",
     "text": [
      "<type 'NoneType'> \n",
      "\n",
      "<type 'NoneType'> \n",
      "\n",
      "<type 'NoneType'> \n",
      "\n",
      "<type 'NoneType'> \n",
      "\n",
      "<type 'str'> \n",
      "\n",
      "<type 'NoneType'> \n",
      "\n",
      "<type 'str'> \n",
      "\n",
      "<type 'int'> \n",
      "\n",
      "<type 'int'> \n",
      "\n",
      "<type 'int'> \n",
      "\n",
      "<type 'int'> \n",
      "\n",
      "<type 'int'> \n",
      "\n",
      "<type 'int'> \n",
      "\n",
      "<type 'int'> \n",
      "\n",
      "<type 'int'> \n",
      "\n",
      "<type 'int'> \n",
      "\n",
      "<type 'int'> \n",
      "\n",
      "<type 'int'> \n",
      "\n",
      "<type 'int'> \n",
      "\n",
      "<type 'int'> \n",
      "\n",
      "<type 'int'> \n",
      "\n",
      "<type 'int'> \n",
      "\n",
      "<type 'int'> \n",
      "\n",
      "<type 'int'> \n",
      "\n",
      "<type 'int'> \n",
      "\n",
      "<type 'int'> \n",
      "\n",
      "<type 'int'> \n",
      "\n",
      "<type 'int'> \n",
      "\n",
      "<type 'int'> \n",
      "\n",
      "<type 'int'> \n",
      "\n",
      "<type 'str'> \n",
      "\n",
      "<type 'str'> \n",
      "\n",
      "<type 'str'> \n",
      "\n",
      "<type 'int'> \n",
      "\n",
      "<type 'int'> \n",
      "\n",
      "<type 'int'> \n",
      "\n",
      "<type 'str'> \n",
      "\n",
      "<type 'int'> \n",
      "\n",
      "<type 'int'> \n",
      "\n"
     ]
    }
   ],
   "source": [
    "for di in data:\n",
    "    print parse(di['areaCode']),'\\n'"
   ]
  },
  {
   "cell_type": "markdown",
   "metadata": {},
   "source": [
    "Dictionary learning section"
   ]
  },
  {
   "cell_type": "code",
   "execution_count": 113,
   "metadata": {
    "collapsed": true
   },
   "outputs": [],
   "source": [
    "mydict = {}"
   ]
  },
  {
   "cell_type": "code",
   "execution_count": 114,
   "metadata": {
    "collapsed": false
   },
   "outputs": [
    {
     "name": "stdout",
     "output_type": "stream",
     "text": [
      "{'i1': ['v1']}\n"
     ]
    }
   ],
   "source": [
    "mydict.update({'i1':['v1']})\n",
    "print mydict"
   ]
  },
  {
   "cell_type": "code",
   "execution_count": 115,
   "metadata": {
    "collapsed": false
   },
   "outputs": [
    {
     "name": "stdout",
     "output_type": "stream",
     "text": [
      "{'i1': ['v1'], 'i2': [45]}\n"
     ]
    }
   ],
   "source": [
    "mydict.update({'i2':[45]})\n",
    "print mydict"
   ]
  },
  {
   "cell_type": "markdown",
   "metadata": {},
   "source": [
    "The `update` method overwrites the previous stoder value."
   ]
  },
  {
   "cell_type": "code",
   "execution_count": 116,
   "metadata": {
    "collapsed": false
   },
   "outputs": [
    {
     "name": "stdout",
     "output_type": "stream",
     "text": [
      "{'i1': ['v1.2'], 'i2': [45]}\n"
     ]
    }
   ],
   "source": [
    "mydict.update({'i1':['v1.2']})\n",
    "print mydict"
   ]
  },
  {
   "cell_type": "markdown",
   "metadata": {},
   "source": [
    "We need to append instead of update."
   ]
  },
  {
   "cell_type": "code",
   "execution_count": 117,
   "metadata": {
    "collapsed": false
   },
   "outputs": [
    {
     "name": "stdout",
     "output_type": "stream",
     "text": [
      "{'i1': ['v1.2', 'v2'], 'i2': [45]}\n"
     ]
    }
   ],
   "source": [
    "mydict['i1'].append('v2')\n",
    "print mydict"
   ]
  },
  {
   "cell_type": "code",
   "execution_count": 118,
   "metadata": {
    "collapsed": false
   },
   "outputs": [
    {
     "name": "stdout",
     "output_type": "stream",
     "text": [
      "{'i1': ['v1.2', 'v2'], 'i2': [45, 56]}\n"
     ]
    }
   ],
   "source": [
    "mydict['i2'].append(56)\n",
    "print mydict"
   ]
  },
  {
   "cell_type": "code",
   "execution_count": 122,
   "metadata": {
    "collapsed": false
   },
   "outputs": [
    {
     "name": "stdout",
     "output_type": "stream",
     "text": [
      "0\n"
     ]
    }
   ],
   "source": [
    "try:\n",
    "    mydict['i3']\n",
    "    print 1\n",
    "except:\n",
    "    print 0"
   ]
  },
  {
   "cell_type": "markdown",
   "metadata": {},
   "source": [
    "And then ..."
   ]
  },
  {
   "cell_type": "code",
   "execution_count": 3,
   "metadata": {
    "collapsed": false,
    "scrolled": false
   },
   "outputs": [],
   "source": [
    "fieldtypes = {}\n",
    "with open(CITIES,'r') as infile:\n",
    "    soup = csv.DictReader(infile)\n",
    "    for row in soup:\n",
    "        if 'dbpedia' in row['URI']:\n",
    "            for key in FIELDS:\n",
    "                try:\n",
    "                    fieldtypes[key]\n",
    "                    #print 1\n",
    "                    fieldtypes[key].append(parse(row[key]))\n",
    "                except:\n",
    "                    #print 0\n",
    "                    fieldtypes.update({key:[parse(row[key])]})\n",
    "                                        "
   ]
  },
  {
   "cell_type": "code",
   "execution_count": 4,
   "metadata": {
    "collapsed": false
   },
   "outputs": [
    {
     "data": {
      "text/plain": [
       "[NoneType,\n",
       " NoneType,\n",
       " NoneType,\n",
       " NoneType,\n",
       " NoneType,\n",
       " NoneType,\n",
       " list,\n",
       " list,\n",
       " list,\n",
       " list,\n",
       " list,\n",
       " list,\n",
       " list,\n",
       " list,\n",
       " list,\n",
       " list,\n",
       " float,\n",
       " float,\n",
       " float,\n",
       " list,\n",
       " list,\n",
       " list,\n",
       " list,\n",
       " list,\n",
       " list,\n",
       " list,\n",
       " list,\n",
       " list,\n",
       " list,\n",
       " list,\n",
       " list,\n",
       " list,\n",
       " list,\n",
       " list,\n",
       " list,\n",
       " NoneType,\n",
       " NoneType,\n",
       " list,\n",
       " list]"
      ]
     },
     "execution_count": 4,
     "metadata": {},
     "output_type": "execute_result"
    }
   ],
   "source": [
    "fieldtypes['areaLand']"
   ]
  },
  {
   "cell_type": "code",
   "execution_count": 5,
   "metadata": {
    "collapsed": true
   },
   "outputs": [],
   "source": [
    "for key in fieldtypes.keys():\n",
    "    fieldtypes[key] = set(fieldtypes[key])"
   ]
  },
  {
   "cell_type": "code",
   "execution_count": 6,
   "metadata": {
    "collapsed": false
   },
   "outputs": [
    {
     "data": {
      "text/plain": [
       "{'areaCode': {int, NoneType, str},\n",
       " 'areaLand': {float, NoneType, list},\n",
       " 'areaMetro': {float, NoneType},\n",
       " 'areaUrban': {float, NoneType},\n",
       " 'elevation': {float, NoneType, list},\n",
       " 'governmentType_label': {NoneType, str},\n",
       " 'homepage': {NoneType, str},\n",
       " 'isPartOf_label': {NoneType, str, list},\n",
       " 'maximumElevation': {NoneType},\n",
       " 'minimumElevation': {NoneType},\n",
       " 'name': {NoneType, str, list},\n",
       " 'populationDensity': {float, NoneType, list},\n",
       " 'populationTotal': {int, NoneType},\n",
       " 'timeZone_label': {NoneType, str},\n",
       " 'utcOffset': {float, NoneType, str, list},\n",
       " 'wgs84_pos#lat': {float},\n",
       " 'wgs84_pos#long': {float}}"
      ]
     },
     "execution_count": 6,
     "metadata": {},
     "output_type": "execute_result"
    }
   ],
   "source": [
    "fieldtypes"
   ]
  },
  {
   "cell_type": "code",
   "execution_count": null,
   "metadata": {
    "collapsed": true
   },
   "outputs": [],
   "source": []
  },
  {
   "cell_type": "code",
   "execution_count": null,
   "metadata": {
    "collapsed": true
   },
   "outputs": [],
   "source": []
  },
  {
   "cell_type": "code",
   "execution_count": 77,
   "metadata": {
    "collapsed": true
   },
   "outputs": [],
   "source": [
    "def audit_file(filename, fields):\n",
    "    fieldtypes = {}\n",
    "    #CODE HERE\n",
    "    return fieldtypes"
   ]
  },
  {
   "cell_type": "code",
   "execution_count": null,
   "metadata": {
    "collapsed": true
   },
   "outputs": [],
   "source": [
    "def test():\n",
    "    fieldtypes = audit_file(CITIES, FIELDS)\n",
    "\n",
    "    pprint.pprint(fieldtypes)\n",
    "\n",
    "    assert fieldtypes[\"areaLand\"] == set([type(1.1), type([]), type(None)])\n",
    "    assert fieldtypes['areaMetro'] == set([type(1.1), type(None)])\n",
    "    \n",
    "if __name__ == \"__main__\":\n",
    "    test()"
   ]
  }
 ],
 "metadata": {
  "kernelspec": {
   "display_name": "Python 2",
   "language": "python",
   "name": "python2"
  },
  "language_info": {
   "codemirror_mode": {
    "name": "ipython",
    "version": 2
   },
   "file_extension": ".py",
   "mimetype": "text/x-python",
   "name": "python",
   "nbconvert_exporter": "python",
   "pygments_lexer": "ipython2",
   "version": "2.7.9"
  }
 },
 "nbformat": 4,
 "nbformat_minor": 0
}
