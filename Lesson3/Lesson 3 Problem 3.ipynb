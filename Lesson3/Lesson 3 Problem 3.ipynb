{
 "cells": [
  {
   "cell_type": "code",
   "execution_count": 1,
   "metadata": {
    "collapsed": true
   },
   "outputs": [],
   "source": [
    "import codecs\n",
    "import csv\n",
    "import json\n",
    "import pprint\n",
    "import re"
   ]
  },
  {
   "cell_type": "code",
   "execution_count": 2,
   "metadata": {
    "collapsed": true
   },
   "outputs": [],
   "source": [
    "CITIES = 'data/cities.csv'\n",
    "\n",
    "FIELDS = [\"name\", \"timeZone_label\", \"utcOffset\", \"homepage\", \"governmentType_label\", \"isPartOf_label\", \n",
    "          \"areaCode\", \"populationTotal\", \"elevation\", \"maximumElevation\", \"minimumElevation\", \"populationDensity\", \n",
    "          \"wgs84_pos#lat\", \"wgs84_pos#long\", \"areaLand\", \"areaMetro\", \"areaUrban\"]"
   ]
  },
  {
   "cell_type": "code",
   "execution_count": 74,
   "metadata": {
    "collapsed": false
   },
   "outputs": [
    {
     "name": "stdout",
     "output_type": "stream",
     "text": [
      "0 1.01787\n",
      "1 1.019\n",
      "{1: 7, 2: 5}  Massimo 1 101787000.0 \n",
      "\n",
      "0 3.15979\n",
      "1 3.17\n",
      "{1: 7, 2: 4}  Massimo 1 31597900.0 \n",
      "\n",
      "0 5.51667\n",
      "1 5.53\n",
      "{1: 7, 2: 4}  Massimo 1 55166700.0 \n",
      "\n",
      "0 6.36\n",
      "1 6.37137\n",
      "{1: 4, 2: 7}  Massimo 2 63713700.0 \n",
      "\n",
      "0 3.78138\n",
      "1 3.79\n",
      "{1: 7, 2: 4}  Massimo 1 37813800.0 \n",
      "\n",
      "0 2.02\n",
      "1 2.02019\n",
      "{1: 4, 2: 7}  Massimo 2 20201900.0 \n",
      "\n",
      "0 2.87489\n",
      "1 2.875\n",
      "{1: 7, 2: 5}  Massimo 1 287489000.0 \n",
      "\n",
      "0 2.5355\n",
      "1 2.5356\n",
      "{1: 6, 2: 6}  Massimo 1 25355000.0 \n",
      "\n",
      "0 2.512\n",
      "1 2.51229\n",
      "{1: 5, 2: 7}  Massimo 2 251229000.0 \n",
      "\n",
      "0 8.25\n",
      "1 8.26206\n",
      "{1: 4, 2: 7}  Massimo 2 82620600.0 \n",
      "\n",
      "0 4.48\n",
      "1 4.48068\n",
      "{1: 4, 2: 7}  Massimo 2 4480680.0 \n",
      "\n",
      "0 1.458\n",
      "1 1.45816\n",
      "{1: 5, 2: 7}  Massimo 2 14581600.0 \n",
      "\n",
      "0 1.71198\n",
      "1 1.712\n",
      "{1: 7, 2: 5}  Massimo 1 17119800.0 \n",
      "\n",
      "0 2.07\n",
      "1 2.07199\n",
      "{1: 4, 2: 7}  Massimo 2 2071990.0 \n",
      "\n",
      "0 4.61\n",
      "1 4.61018\n",
      "{1: 4, 2: 7}  Massimo 2 4610180.0 \n",
      "\n",
      "0 3.26\n",
      "1 3.26339\n",
      "{1: 4, 2: 7}  Massimo 2 3263390.0 \n",
      "\n",
      "0 9.057\n",
      "1 9.05719\n",
      "{1: 5, 2: 7}  Massimo 2 90571900.0 \n",
      "\n",
      "0 1.274\n",
      "1 1.27427\n",
      "{1: 5, 2: 7}  Massimo 2 12742700.0 \n",
      "\n",
      "0 3.136\n",
      "1 3.13648\n",
      "{1: 5, 2: 7}  Massimo 2 31364800.0 \n",
      "\n",
      "0 5.31466\n",
      "1 5.315\n",
      "{1: 7, 2: 5}  Massimo 1 53146600.0 \n",
      "\n",
      "0 3.43173\n",
      "1 3.432\n",
      "{1: 7, 2: 5}  Massimo 1 34317300.0 \n",
      "\n",
      "0 5.33538\n",
      "1 5.34\n",
      "{1: 7, 2: 4}  Massimo 1 5335380.0 \n",
      "\n",
      "0 8.184\n",
      "1 8.18436\n",
      "{1: 5, 2: 7}  Massimo 2 81843600.0 \n",
      "\n",
      "0 1.13959\n",
      "1 1.14\n",
      "{1: 7, 2: 4}  Massimo 1 11395900.0 \n",
      "\n",
      "0 2.056\n",
      "1 2.05645\n",
      "{1: 5, 2: 7}  Massimo 2 20564500.0 \n",
      "\n",
      "0 9.782\n",
      "1 9.78239\n",
      "{1: 5, 2: 7}  Massimo 2 97823900.0 \n",
      "\n",
      "0 4.94688\n",
      "1 4.95\n",
      "{1: 7, 2: 4}  Massimo 1 4946880.0 \n",
      "\n",
      "0 1.20175\n",
      "1 1.202\n",
      "{1: 7, 2: 5}  Massimo 1 12017500.0 \n",
      "\n"
     ]
    }
   ],
   "source": [
    "with open('data/cities.csv') as ifile:\n",
    "    soup = csv.DictReader(ifile)\n",
    "    for row in soup:\n",
    "        if re.match(u'{',row['areaLand']):\n",
    "            values = re.sub(u'[{}]','',row['areaLand']).split('|')\n",
    "            vv = {1:0,2:0}\n",
    "            out = []\n",
    "            for i,v in enumerate(values):\n",
    "                print i,v.split('e')[0]\n",
    "                out.append(float(v)) \n",
    "                l = len(v.split('e')[0])\n",
    "                #print 'Prima',vv,l\n",
    "                vv.update({i+1:l})\n",
    "                #print 'Dopo',vv\n",
    "            print vv,' Massimo',max(vv,key=vv.get),out[max(vv,key=vv.get)-1],'\\n'\n",
    "            this = out[max(vv,key=vv.get)-1]\n",
    "    "
   ]
  },
  {
   "cell_type": "code",
   "execution_count": 39,
   "metadata": {
    "collapsed": true
   },
   "outputs": [],
   "source": [
    "vv = {1:0,2:0}"
   ]
  },
  {
   "cell_type": "code",
   "execution_count": 46,
   "metadata": {
    "collapsed": false
   },
   "outputs": [
    {
     "name": "stdout",
     "output_type": "stream",
     "text": [
      "{1: 7, 2: 0, 3: 3}\n"
     ]
    }
   ],
   "source": [
    "vv.update({1:7})\n",
    "print vv"
   ]
  },
  {
   "cell_type": "code",
   "execution_count": 47,
   "metadata": {
    "collapsed": false
   },
   "outputs": [
    {
     "data": {
      "text/plain": [
       "7"
      ]
     },
     "execution_count": 47,
     "metadata": {},
     "output_type": "execute_result"
    }
   ],
   "source": [
    "max(vv.values())"
   ]
  },
  {
   "cell_type": "code",
   "execution_count": 48,
   "metadata": {
    "collapsed": false
   },
   "outputs": [
    {
     "data": {
      "text/plain": [
       "[7, 0, 3]"
      ]
     },
     "execution_count": 48,
     "metadata": {},
     "output_type": "execute_result"
    }
   ],
   "source": [
    "vv.values()"
   ]
  },
  {
   "cell_type": "code",
   "execution_count": 72,
   "metadata": {
    "collapsed": false
   },
   "outputs": [
    {
     "data": {
      "text/plain": [
       "'1.20175'"
      ]
     },
     "execution_count": 72,
     "metadata": {},
     "output_type": "execute_result"
    }
   ],
   "source": [
    "this*10"
   ]
  },
  {
   "cell_type": "code",
   "execution_count": null,
   "metadata": {
    "collapsed": true
   },
   "outputs": [],
   "source": []
  },
  {
   "cell_type": "code",
   "execution_count": null,
   "metadata": {
    "collapsed": true
   },
   "outputs": [],
   "source": []
  },
  {
   "cell_type": "code",
   "execution_count": null,
   "metadata": {
    "collapsed": true
   },
   "outputs": [],
   "source": []
  },
  {
   "cell_type": "code",
   "execution_count": null,
   "metadata": {
    "collapsed": true
   },
   "outputs": [],
   "source": [
    "def isfloat(value):\n",
    "    try:\n",
    "        float(value)\n",
    "        return True\n",
    "    except ValueError:\n",
    "        return False\n",
    "\n",
    "def parse(value):\n",
    "    if value == 'NULL' or value == '':\n",
    "        #print value,'-->None'\n",
    "        typo = type(None)\n",
    "    elif re.match(u'{',value):\n",
    "        #print value,'-->list'\n",
    "        typo = type([])\n",
    "    elif value.isdigit():\n",
    "        #print value,'-->Int'\n",
    "        typo = type(1)\n",
    "    elif isfloat(value):\n",
    "        typo = type(1.1)\n",
    "        #print value,'-->float'\n",
    "    else:\n",
    "        typo = type('string')\n",
    "        #print value,'-->string'\n",
    "    return typo\n",
    "\n",
    "fieldtypes = {}\n",
    "with open(CITIES,'r') as infile:\n",
    "    soup = csv.DictReader(infile)\n",
    "    for row in soup:\n",
    "        if 'dbpedia' in row['URI']:\n",
    "            for key in FIELDS:\n",
    "                try:\n",
    "                    fieldtypes[key]\n",
    "                    fieldtypes[key].append(parse(row[key]))\n",
    "                except:\n",
    "                    fieldtypes.update({key:[parse(row[key])]})\n",
    "\n",
    "for key in fieldtypes.keys():\n",
    "    fieldtypes[key] = set(fieldtypes[key])"
   ]
  }
 ],
 "metadata": {
  "kernelspec": {
   "display_name": "Python 2",
   "language": "python",
   "name": "python2"
  },
  "language_info": {
   "codemirror_mode": {
    "name": "ipython",
    "version": 2
   },
   "file_extension": ".py",
   "mimetype": "text/x-python",
   "name": "python",
   "nbconvert_exporter": "python",
   "pygments_lexer": "ipython2",
   "version": "2.7.9"
  }
 },
 "nbformat": 4,
 "nbformat_minor": 0
}
