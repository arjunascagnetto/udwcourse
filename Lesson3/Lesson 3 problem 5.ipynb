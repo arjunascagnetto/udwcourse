{
 "cells": [
  {
   "cell_type": "code",
   "execution_count": 13,
   "metadata": {
    "collapsed": true
   },
   "outputs": [],
   "source": [
    "import csv\n",
    "import re"
   ]
  },
  {
   "cell_type": "code",
   "execution_count": 20,
   "metadata": {
    "collapsed": false
   },
   "outputs": [
    {
     "name": "stdout",
     "output_type": "stream",
     "text": [
      "['Kud']\n",
      "['Kuju']\n",
      "['Kumbhraj']\n",
      "['Kumhari']\n",
      "['Kunigal']\n",
      "['Kurgunta']\n",
      "['Athens']\n",
      "['Demopolis']\n",
      "['Chelsea Alabama']\n",
      "['Pell City Alabama']\n",
      "['City of Northport']\n",
      "['Sand Point']\n",
      "['Unalaska Alaska']\n",
      "['City of Menlo Park']\n",
      "['Negtemiut', 'Nightmute']\n",
      "['Fairbanks Alaska']\n",
      "['Homer']\n",
      "['Ketchikan Alaska']\n",
      "['Nuniaq', 'Old Harbor']\n",
      "['Rainier Washington']\n",
      "['City of Blaine']\n",
      "['Ferndale Washington']\n",
      "['Mabton Washington']\n",
      "['Zillah Washington']\n",
      "['Kenova West Virginia']\n",
      "['Fitchburg Wisconsin']\n",
      "['Stoughton Wisconsin']\n",
      "['Watertown Wisconsin']\n",
      "['LaCrosse Wisconsin']\n",
      "['Wauwatosa Wisconsin']\n",
      "['Osseo Wisconsin']\n",
      "['Muskego Wisconsin']\n",
      "['Clintonville Wisconsin']\n",
      "['Hartford Wisconsin']\n",
      "['City of Spokane Valley Washington']\n",
      "None\n",
      "['Dortmund']\n",
      "['Stratford Iowa']\n",
      "['Forest City Iowa']\n"
     ]
    }
   ],
   "source": [
    "with open('../data/cities.csv') as ifile:\n",
    "    soup = csv.DictReader(ifile)\n",
    "    for row in soup:\n",
    "        if 'dbpedia' in row['URI']:\n",
    "            name = fix_name(row['name'])\n",
    "            print name"
   ]
  },
  {
   "cell_type": "code",
   "execution_count": 19,
   "metadata": {
    "collapsed": false
   },
   "outputs": [],
   "source": [
    "def fix_name(name):\n",
    "    if name == 'NULL':\n",
    "        out = None\n",
    "    else:\n",
    "        out = []\n",
    "        for n in name.split('|'):\n",
    "            out.append(re.sub(u'[{}]','',n))\n",
    "    return out"
   ]
  },
  {
   "cell_type": "code",
   "execution_count": null,
   "metadata": {
    "collapsed": true
   },
   "outputs": [],
   "source": []
  }
 ],
 "metadata": {
  "kernelspec": {
   "display_name": "Python 2",
   "language": "python",
   "name": "python2"
  },
  "language_info": {
   "codemirror_mode": {
    "name": "ipython",
    "version": 2
   },
   "file_extension": ".py",
   "mimetype": "text/x-python",
   "name": "python",
   "nbconvert_exporter": "python",
   "pygments_lexer": "ipython2",
   "version": "2.7.9"
  }
 },
 "nbformat": 4,
 "nbformat_minor": 0
}
