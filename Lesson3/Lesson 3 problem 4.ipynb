{
 "cells": [
  {
   "cell_type": "code",
   "execution_count": 1,
   "metadata": {
    "collapsed": true
   },
   "outputs": [],
   "source": [
    "import csv"
   ]
  },
  {
   "cell_type": "code",
   "execution_count": 6,
   "metadata": {
    "collapsed": false
   },
   "outputs": [
    {
     "name": "stdout",
     "output_type": "stream",
     "text": [
      "NULL\n",
      "NULL\n",
      "NULL\n",
      "NULL\n",
      "572130\n",
      "NULL\n",
      "35611-35614-35613\n",
      "36732\n",
      "35043\n",
      "35125 35128 35054\n",
      "35473 35475 35476\n",
      "99661\n",
      "99685\n",
      "94025-94029\n",
      "99690\n",
      "99701 99702 99703 99705 99706 99707 99708 99709 99710 99711  99712 99714 99716 99767 99775-(UAF) 99790\n",
      "99603\n",
      "99901 99928\n",
      "99643\n",
      "98576\n",
      "98230 (home delivery) and 98231 (post office boxes)\n",
      "98248\n",
      "98935\n",
      "98953\n",
      "25530\n",
      "53711\n",
      "53589\n",
      "NULL\n",
      "54601 54602 54603\n",
      "NULL\n",
      "NULL\n",
      "53150\n",
      "54929\n",
      "53027\n",
      "99206\n",
      "150000\n",
      "44001-44388\n",
      "50249\n",
      "50436\n"
     ]
    }
   ],
   "source": [
    "with open('data/cities.csv') as ifile:\n",
    "    soup = csv.DictReader(ifile)\n",
    "    for row in soup:\n",
    "        if 'dbpedia' in row['URI']:\n",
    "            print row['postalCode']"
   ]
  },
  {
   "cell_type": "code",
   "execution_count": 10,
   "metadata": {
    "collapsed": false
   },
   "outputs": [
    {
     "name": "stdout",
     "output_type": "stream",
     "text": [
      "1140\n",
      "18049\n",
      "13999\n",
      "29737\n",
      "30291\n",
      "8584\n",
      "21897\n",
      "7540\n",
      "10183\n",
      "12463\n",
      "23442\n",
      "976\n",
      "4376\n",
      "32026\n",
      "280\n",
      "31535\n",
      "5003\n",
      "8050\n",
      "218\n",
      "1794\n",
      "4684\n",
      "11415\n",
      "2286\n",
      "2964\n",
      "3216\n",
      "25260\n",
      "12611\n",
      "23861\n",
      "51320\n",
      "46396\n",
      "1701\n",
      "24135\n",
      "4559\n",
      "14223\n",
      "89755\n",
      "10635971\n",
      "NULL\n",
      "743\n",
      "4151\n"
     ]
    }
   ],
   "source": [
    "with open('data/cities.csv') as ifile:\n",
    "    soup = csv.DictReader(ifile)\n",
    "    for row in soup:\n",
    "        if 'dbpedia' in row['URI']:\n",
    "            print row['populationTotal']"
   ]
  },
  {
   "cell_type": "code",
   "execution_count": 8,
   "metadata": {
    "collapsed": false
   },
   "outputs": [
    {
     "name": "stdout",
     "output_type": "stream",
     "text": [
      "Kud\n",
      "Kuju\n",
      "Kumbhraj\n",
      "Kumhari\n",
      "Kunigal\n",
      "Kurgunta\n",
      "Athens\n",
      "Demopolis\n",
      "Chelsea Alabama\n",
      "Pell City Alabama\n",
      "City of Northport\n",
      "Sand Point\n",
      "Unalaska Alaska\n",
      "City of Menlo Park\n",
      "{Negtemiut|Nightmute}\n",
      "Fairbanks Alaska\n",
      "Homer\n",
      "Ketchikan Alaska\n",
      "{Nuniaq|Old Harbor}\n",
      "Rainier Washington\n",
      "City of Blaine\n",
      "Ferndale Washington\n",
      "Mabton Washington\n",
      "Zillah Washington\n",
      "Kenova West Virginia\n",
      "Fitchburg Wisconsin\n",
      "Stoughton Wisconsin\n",
      "Watertown Wisconsin\n",
      "LaCrosse Wisconsin\n",
      "Wauwatosa Wisconsin\n",
      "Osseo Wisconsin\n",
      "Muskego Wisconsin\n",
      "Clintonville Wisconsin\n",
      "Hartford Wisconsin\n",
      "City of Spokane Valley Washington\n",
      "NULL\n",
      "Dortmund\n",
      "Stratford Iowa\n",
      "Forest City Iowa\n"
     ]
    }
   ],
   "source": [
    "with open('data/cities.csv') as ifile:\n",
    "    soup = csv.DictReader(ifile)\n",
    "    for row in soup:\n",
    "        if 'dbpedia' in row['URI']:\n",
    "            print row['name']"
   ]
  },
  {
   "cell_type": "code",
   "execution_count": 9,
   "metadata": {
    "collapsed": false
   },
   "outputs": [
    {
     "name": "stdout",
     "output_type": "stream",
     "text": [
      "NULL\n",
      "NULL\n",
      "NULL\n",
      "NULL\n",
      "NULL\n",
      "NULL\n",
      "NULL\n",
      "NULL\n",
      "NULL\n",
      "NULL\n",
      "NULL\n",
      "NULL\n",
      "NULL\n",
      "NULL\n",
      "NULL\n",
      "NULL\n",
      "NULL\n",
      "NULL\n",
      "NULL\n",
      "NULL\n",
      "NULL\n",
      "NULL\n",
      "NULL\n",
      "NULL\n",
      "NULL\n",
      "NULL\n",
      "NULL\n",
      "NULL\n",
      "NULL\n",
      "NULL\n",
      "NULL\n",
      "NULL\n",
      "NULL\n",
      "NULL\n",
      "NULL\n",
      "7.068e+09\n",
      "NULL\n",
      "NULL\n",
      "NULL\n"
     ]
    }
   ],
   "source": [
    "with open('data/cities.csv') as ifile:\n",
    "    soup = csv.DictReader(ifile)\n",
    "    for row in soup:\n",
    "        if 'dbpedia' in row['URI']:\n",
    "            print row['areaMetro']"
   ]
  },
  {
   "cell_type": "code",
   "execution_count": null,
   "metadata": {
    "collapsed": true
   },
   "outputs": [],
   "source": []
  }
 ],
 "metadata": {
  "kernelspec": {
   "display_name": "Python 2",
   "language": "python",
   "name": "python2"
  },
  "language_info": {
   "codemirror_mode": {
    "name": "ipython",
    "version": 2
   },
   "file_extension": ".py",
   "mimetype": "text/x-python",
   "name": "python",
   "nbconvert_exporter": "python",
   "pygments_lexer": "ipython2",
   "version": "2.7.9"
  }
 },
 "nbformat": 4,
 "nbformat_minor": 0
}
