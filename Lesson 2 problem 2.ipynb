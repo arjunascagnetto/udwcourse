{
 "cells": [
  {
   "cell_type": "code",
   "execution_count": 1,
   "metadata": {
    "collapsed": true
   },
   "outputs": [],
   "source": [
    "from bs4 import BeautifulSoup"
   ]
  },
  {
   "cell_type": "code",
   "execution_count": 2,
   "metadata": {
    "collapsed": false
   },
   "outputs": [],
   "source": [
    "with open('data/options.html','r') as html:\n",
    "    soup = BeautifulSoup(html,'html.parser')"
   ]
  },
  {
   "cell_type": "code",
   "execution_count": 3,
   "metadata": {
    "collapsed": false
   },
   "outputs": [
    {
     "data": {
      "text/plain": [
       "[<select class=\"slcBox\" id=\"AirportList\" name=\"AirportList\" style=\"width:250px;\">\n",
       " <option selected=\"selected\" value=\"All\">All</option>\n",
       " <option value=\"AllMajors\">All Major Airports</option>\n",
       " <option value=\"ATL\"> - Atlanta, GA: Hartsfield-Jackson Atlanta International</option>\n",
       " <option value=\"BWI\"> - Baltimore, MD: Baltimore/Washington International Thurgood Marshall</option>\n",
       " <option value=\"BOS\"> - Boston, MA: Logan International</option>\n",
       " <option value=\"CLT\"> - Charlotte, NC: Charlotte Douglas International</option>\n",
       " <option value=\"MDW\"> - Chicago, IL: Chicago Midway International</option>\n",
       " <option value=\"ORD\"> - Chicago, IL: Chicago O'Hare International</option>\n",
       " <option value=\"DFW\"> - Dallas/Fort Worth, TX: Dallas/Fort Worth International</option>\n",
       " <option value=\"DEN\"> - Denver, CO: Denver International</option>\n",
       " <option value=\"DTW\"> - Detroit, MI: Detroit Metro Wayne County</option>\n",
       " <option value=\"FLL\"> - Fort Lauderdale, FL: Fort Lauderdale-Hollywood International</option>\n",
       " <option value=\"IAH\"> - Houston, TX: George Bush Intercontinental/Houston</option>\n",
       " <option value=\"LAS\"> - Las Vegas, NV: McCarran International</option>\n",
       " <option value=\"LAX\"> - Los Angeles, CA: Los Angeles International</option>\n",
       " <option value=\"AllOthers\">All Other Airports</option>\n",
       " <option value=\"ABR\"> - Aberdeen, SD: Aberdeen Regional</option>\n",
       " <option value=\"ABI\"> - Abilene, TX: Abilene Regional</option>\n",
       " </select>]"
      ]
     },
     "execution_count": 3,
     "metadata": {},
     "output_type": "execute_result"
    }
   ],
   "source": [
    "soup.find_all(id=\"AirportList\")"
   ]
  },
  {
   "cell_type": "code",
   "execution_count": 4,
   "metadata": {
    "collapsed": false
   },
   "outputs": [],
   "source": [
    "options = soup.find_all(id=\"AirportList\")[0].find_all('option')"
   ]
  },
  {
   "cell_type": "code",
   "execution_count": 5,
   "metadata": {
    "collapsed": false
   },
   "outputs": [
    {
     "name": "stdout",
     "output_type": "stream",
     "text": [
      "ATL\n",
      "BWI\n",
      "BOS\n",
      "CLT\n",
      "MDW\n",
      "ORD\n",
      "DFW\n",
      "DEN\n",
      "DTW\n",
      "FLL\n",
      "IAH\n",
      "LAS\n",
      "LAX\n",
      "ABR\n",
      "ABI\n"
     ]
    }
   ],
   "source": [
    "for op in options:\n",
    "    if 'All' not in op['value']:\n",
    "        print op['value']"
   ]
  },
  {
   "cell_type": "code",
   "execution_count": 6,
   "metadata": {
    "collapsed": false
   },
   "outputs": [
    {
     "name": "stdout",
     "output_type": "stream",
     "text": [
      "<class 'bs4.element.Tag'>\n",
      "<class 'bs4.element.Tag'>\n",
      "<class 'bs4.element.Tag'>\n",
      "<class 'bs4.element.Tag'>\n",
      "<class 'bs4.element.Tag'>\n",
      "<class 'bs4.element.Tag'>\n",
      "<class 'bs4.element.Tag'>\n",
      "<class 'bs4.element.Tag'>\n",
      "<class 'bs4.element.Tag'>\n",
      "<class 'bs4.element.Tag'>\n",
      "<class 'bs4.element.Tag'>\n",
      "<class 'bs4.element.Tag'>\n",
      "<class 'bs4.element.Tag'>\n",
      "<class 'bs4.element.Tag'>\n",
      "<class 'bs4.element.Tag'>\n"
     ]
    }
   ],
   "source": [
    "for op in options:\n",
    "    if 'All' not in op['value']:\n",
    "        print type(op)"
   ]
  },
  {
   "cell_type": "code",
   "execution_count": null,
   "metadata": {
    "collapsed": true
   },
   "outputs": [],
   "source": []
  }
 ],
 "metadata": {
  "kernelspec": {
   "display_name": "Python 2",
   "language": "python",
   "name": "python2"
  },
  "language_info": {
   "codemirror_mode": {
    "name": "ipython",
    "version": 2
   },
   "file_extension": ".py",
   "mimetype": "text/x-python",
   "name": "python",
   "nbconvert_exporter": "python",
   "pygments_lexer": "ipython2",
   "version": "2.7.9"
  }
 },
 "nbformat": 4,
 "nbformat_minor": 0
}
