{
 "cells": [
  {
   "cell_type": "code",
   "execution_count": null,
   "metadata": {
    "collapsed": true
   },
   "outputs": [],
   "source": [
    "import numpy as np"
   ]
  },
  {
   "cell_type": "code",
   "execution_count": 2,
   "metadata": {
    "collapsed": false
   },
   "outputs": [
    {
     "name": "stdout",
     "output_type": "stream",
     "text": [
      "0 7\n",
      "Title,Released,Label,UK Chart Position,US Chart Position,BPI Certification,RIAA Certification\n",
      "\n",
      "1 7\n",
      "Please Please Me,22 March 1963,Parlophone(UK),1,—,Gold,Platinum\n",
      "\n",
      "2 7\n",
      "With the Beatles,22 November 1963,Parlophone(UK),1,—,Platinum,Gold\n",
      "\n",
      "3 7\n",
      "Beatlemania! With the Beatles,25 November 1963,Capitol(CAN),—,—,,\n",
      "\n",
      "4 7\n",
      "Introducing... The Beatles,10 January 1964,Vee-Jay(US),—,2,,\n",
      "\n",
      "5 7\n",
      "Meet the Beatles!,20 January 1964,Capitol(US),—,1,,5xPlatinum\n",
      "\n",
      "6 7\n",
      "Twist and Shout,3 February 1964,Capitol(CAN),—,—,,\n",
      "\n",
      "7 7\n",
      "The Beatles' Second Album,10 April 1964,Capitol(US),—,1,,2xPlatinum\n",
      "\n",
      "8 7\n",
      "The Beatles' Long Tall Sally,11 May 1964,Capitol(CAN),—,—,,\n",
      "\n",
      "9 7\n",
      "A Hard Day's Night,26 June 1964,United Artists(US)[C],—,1,,4xPlatinum\n",
      "\n",
      "10 7\n",
      ",10 July 1964,Parlophone(UK),1,—,Gold,\n",
      "\n",
      "11 7\n",
      "Something New,20 July 1964,Capitol(US),—,2,,Platinum\n",
      "\n",
      "12 7\n",
      "Beatles for Sale,4 December 1964,Parlophone(UK),1,—,Gold,Platinum\n",
      "\n",
      "13 7\n",
      "Beatles '65,15 December 1964,Capitol(US),—,1,,3xPlatinum\n",
      "\n",
      "14 8\n",
      "Beatles VI,14 June 1965,\"Parlophone(NZ), Capitol(US)\",—,1,,Platinum\n",
      "\n",
      "15 7\n",
      "Help!,6 August 1965,Parlophone(UK),1,—,Platinum,\n",
      "\n",
      "16 7\n",
      ",13 August 1965,Capitol(US)[C],—,1,,3xPlatinum\n",
      "\n",
      "17 7\n",
      "Rubber Soul,3 December 1965,Parlophone(UK),1,—,Platinum,\n",
      "\n",
      "18 7\n",
      ",6 December 1965,Capitol(US)[C],—,1,,6xPlatinum\n",
      "\n",
      "19 7\n",
      "Yesterday and Today,15 June 1966,Capitol(US),—,1,,2xPlatinum\n",
      "\n",
      "20 7\n",
      "Revolver,5 August 1966,Parlophone(UK),1,—,Platinum,\n",
      "\n",
      "21 7\n",
      ",8 August 1966,Capitol(US)[C],—,1,,5xPlatinum\n",
      "\n",
      "22 8\n",
      "Sgt. Pepper's Lonely Hearts Club Band,1 June 1967,\"Parlophone(UK), Capitol(US)\",1,1,3xPlatinum,11xPlatinum\n",
      "\n",
      "23 8\n",
      "Magical Mystery Tour,27 November 1967,\"Parlophone(UK), Capitol(US)\",31[D],1,Platinum,6xPlatinum\n",
      "\n",
      "24 8\n",
      "The Beatles,22 November 1968,\"Apple(UK), Capitol(US)\",1,1,Platinum,19xPlatinum\n",
      "\n",
      "25 8\n",
      "Yellow Submarine,13 January 1969,\"Apple(UK), Capitol(US)\",3,2,Silver,Platinum\n",
      "\n",
      "26 8\n",
      "Abbey Road,26 September 1969,\"Apple(UK), Capitol(US)\",1,1,2xPlatinum,12xPlatinum\n",
      "\n",
      "27 8\n",
      "Let It Be,8 May 1970,\"Apple(UK),United Artists(US)\",1,1,Gold,4xPlatinum\n"
     ]
    }
   ],
   "source": [
    "f = open('data/beatles-diskography.csv')\n",
    "for i,line in enumerate(f):\n",
    "    print i,len(line.strip().split(','))\n",
    "    print line"
   ]
  },
  {
   "cell_type": "code",
   "execution_count": 138,
   "metadata": {
    "collapsed": false
   },
   "outputs": [],
   "source": [
    "def parse(filename):\n",
    "    data = []\n",
    "    with open(filename,'rb') as file:\n",
    "        for i,line in enumerate(file):\n",
    "            if i == 0:\n",
    "                #Creiamo le chiavi del dizionario\n",
    "                keys = line.strip().split(',')\n",
    "                print keys\n",
    "                dictionary = dict.fromkeys(keys)\n",
    "                print dictionary.keys(),'\\n'\n",
    "                continue\n",
    "            if i == 11:\n",
    "                break\n",
    "            # Creiamo i valori per ogni riga\n",
    "            values = line.strip().split(',')\n",
    "            #print values\n",
    "            # Assembliamo keys e values per formare il dizionario\n",
    "            for j,key in enumerate(dictionary):\n",
    "                dictionary[key] = values[j]\n",
    "                #print key,':',values[j]\n",
    "            #print \"\\n\"\n",
    "            # Inseriamo il dizionario nei dati\n",
    "            #print dictionary\n",
    "            data.append(dictionary)\n",
    "    return data"
   ]
  },
  {
   "cell_type": "code",
   "execution_count": 139,
   "metadata": {
    "collapsed": false
   },
   "outputs": [
    {
     "name": "stdout",
     "output_type": "stream",
     "text": [
      "['Title', 'Released', 'Label', 'UK Chart Position', 'US Chart Position', 'BPI Certification', 'RIAA Certification']\n",
      "['Title', 'UK Chart Position', 'Label', 'Released', 'US Chart Position', 'RIAA Certification', 'BPI Certification'] \n",
      "\n"
     ]
    }
   ],
   "source": [
    "data = parse('data/beatles-diskography.csv')"
   ]
  },
  {
   "cell_type": "code",
   "execution_count": 77,
   "metadata": {
    "collapsed": true
   },
   "outputs": [],
   "source": [
    "line1 = {'BPI Certification': 'Gold',\n",
    " 'UK Chart Position': '8 May 1970',\n",
    " 'Label': '\"Apple(UK)',\n",
    " 'RIAA Certification': '1',\n",
    " 'Released': 'United Artists(US)\"',\n",
    " 'Title': 'Let It Be',\n",
    " 'US Chart Position': '1'}"
   ]
  },
  {
   "cell_type": "code",
   "execution_count": 101,
   "metadata": {
    "collapsed": false
   },
   "outputs": [],
   "source": [
    "assert data[0]==line1"
   ]
  },
  {
   "cell_type": "code",
   "execution_count": 79,
   "metadata": {
    "collapsed": false
   },
   "outputs": [
    {
     "data": {
      "text/plain": [
       "dict"
      ]
     },
     "execution_count": 79,
     "metadata": {},
     "output_type": "execute_result"
    }
   ],
   "source": [
    "type(line1)"
   ]
  },
  {
   "cell_type": "code",
   "execution_count": 123,
   "metadata": {
    "collapsed": false
   },
   "outputs": [
    {
     "name": "stdout",
     "output_type": "stream",
     "text": [
      "0 Title\n",
      "1 UK Chart Position\n",
      "2 Label\n",
      "3 Released\n",
      "4 US Chart Position\n",
      "5 RIAA Certification\n",
      "6 BPI Certification\n"
     ]
    }
   ],
   "source": [
    "for i,key in enumerate(line1):\n",
    "    print i,key"
   ]
  },
  {
   "cell_type": "code",
   "execution_count": 152,
   "metadata": {
    "collapsed": false
   },
   "outputs": [
    {
     "data": {
      "text/plain": [
       "<dictionary-keyiterator at 0x7facc424c4c8>"
      ]
     },
     "execution_count": 152,
     "metadata": {},
     "output_type": "execute_result"
    }
   ],
   "source": [
    "line2 = {}\n",
    "line2[]"
   ]
  },
  {
   "cell_type": "code",
   "execution_count": 168,
   "metadata": {
    "collapsed": true
   },
   "outputs": [],
   "source": [
    "def parse(filename):\n",
    "    data = []\n",
    "    with open(filename,'rb') as file:\n",
    "        for i,line in enumerate(file):\n",
    "            if i == 0:\n",
    "                #Creiamo le chiavi del dizionario\n",
    "                keys = line.strip().split(',')\n",
    "                continue\n",
    "            if i == 11:\n",
    "                break\n",
    "            # Creiamo i valori per ogni riga\n",
    "            values = line.strip().split(',')\n",
    "            print len(values)\n",
    "            #print values\n",
    "            # Assembliamo keys e values per formare il dizionario\n",
    "            dictionary = {}\n",
    "            for j,v in enumerate(values):\n",
    "                dictionary[keys[j]] = values[j]\n",
    "            #    print keys[j],':',values[j]\n",
    "            #print \"\\n\"\n",
    "            # Inseriamo il dizionario nei dati\n",
    "            #print dictionary\n",
    "            data.append(dictionary)\n",
    "    return data"
   ]
  },
  {
   "cell_type": "code",
   "execution_count": 169,
   "metadata": {
    "collapsed": false
   },
   "outputs": [
    {
     "name": "stdout",
     "output_type": "stream",
     "text": [
      "7\n",
      "7\n",
      "7\n",
      "7\n",
      "7\n",
      "7\n",
      "7\n",
      "7\n",
      "7\n",
      "7\n"
     ]
    }
   ],
   "source": [
    "data = parse('data/beatles-diskography.csv')"
   ]
  },
  {
   "cell_type": "code",
   "execution_count": 171,
   "metadata": {
    "collapsed": false
   },
   "outputs": [
    {
     "data": {
      "text/plain": [
       "{'BPI Certification': 'Gold',\n",
       " 'Label': 'Parlophone(UK)',\n",
       " 'RIAA Certification': '',\n",
       " 'Released': '10 July 1964',\n",
       " 'Title': '',\n",
       " 'UK Chart Position': '1',\n",
       " 'US Chart Position': '\\xe2\\x80\\x94'}"
      ]
     },
     "execution_count": 171,
     "metadata": {},
     "output_type": "execute_result"
    }
   ],
   "source": [
    "data[9]"
   ]
  },
  {
   "cell_type": "code",
   "execution_count": null,
   "metadata": {
    "collapsed": true
   },
   "outputs": [],
   "source": []
  }
 ],
 "metadata": {
  "kernelspec": {
   "display_name": "Python 2",
   "language": "python",
   "name": "python2"
  },
  "language_info": {
   "codemirror_mode": {
    "name": "ipython",
    "version": 2
   },
   "file_extension": ".py",
   "mimetype": "text/x-python",
   "name": "python",
   "nbconvert_exporter": "python",
   "pygments_lexer": "ipython2",
   "version": "2.7.9"
  }
 },
 "nbformat": 4,
 "nbformat_minor": 0
}
