{
 "cells": [
  {
   "cell_type": "code",
   "execution_count": 1,
   "metadata": {
    "collapsed": true
   },
   "outputs": [],
   "source": [
    "from bs4 import BeautifulSoup"
   ]
  },
  {
   "cell_type": "code",
   "execution_count": 2,
   "metadata": {
    "collapsed": true
   },
   "outputs": [],
   "source": [
    "with open('data/FL-ATL.html','r') as html:\n",
    "    soup = BeautifulSoup(html,'html.parser')"
   ]
  },
  {
   "cell_type": "code",
   "execution_count": 3,
   "metadata": {
    "collapsed": false
   },
   "outputs": [],
   "source": [
    "tables = soup.find_all('tr',class_=\"dataTDRight\")"
   ]
  },
  {
   "cell_type": "code",
   "execution_count": 4,
   "metadata": {
    "collapsed": false
   },
   "outputs": [
    {
     "data": {
      "text/plain": [
       "[<table border=\"1\" cellpadding=\"4\" cellspacing=\"1\" class=\"dataTDRight\" id=\"DataGrid1\" rules=\"all\" style=\"width:750px;\">\n",
       " <tr class=\"libraryTHY2_Center\" style=\"color:White;background-color:#5D95C9;\">\n",
       " <td>Year</td><td>Month</td><td>DOMESTIC</td><td>INTERNATIONAL</td><td>TOTAL</td>\n",
       " </tr><tr class=\"dataTDRight\">\n",
       " <td style=\"font-family: Verdana, Geneva, Arial, Helvetica, sans-serif;\">2002</td><td style=\"font-family: Verdana, Geneva, Arial, Helvetica, sans-serif;\">10</td><td style=\"font-family: Verdana, Geneva, Arial, Helvetica, sans-serif;\">815,489</td><td style=\"font-family: Verdana, Geneva, Arial, Helvetica, sans-serif;\">92,565</td><td style=\"font-family: Verdana, Geneva, Arial, Helvetica, sans-serif;\">908,054</td>\n",
       " </tr><tr class=\"dataTDRight\" style=\"background-color:#EFEFEF;\">\n",
       " <td style=\"font-family: Verdana, Geneva, Arial, Helvetica, sans-serif;\">2002</td><td style=\"font-family: Verdana, Geneva, Arial, Helvetica, sans-serif;\">11</td><td style=\"font-family: Verdana, Geneva, Arial, Helvetica, sans-serif;\">766,775</td><td style=\"font-family: Verdana, Geneva, Arial, Helvetica, sans-serif;\">91,342</td><td style=\"font-family: Verdana, Geneva, Arial, Helvetica, sans-serif;\">858,117</td>\n",
       " </tr><tr class=\"dataTDRight\">\n",
       " <td style=\"font-family: Verdana, Geneva, Arial, Helvetica, sans-serif;\">2002</td><td style=\"font-family: Verdana, Geneva, Arial, Helvetica, sans-serif;\">12</td><td style=\"font-family: Verdana, Geneva, Arial, Helvetica, sans-serif;\">782,175</td><td style=\"font-family: Verdana, Geneva, Arial, Helvetica, sans-serif;\">96,881</td><td style=\"font-family: Verdana, Geneva, Arial, Helvetica, sans-serif;\">879,056</td>\n",
       " </tr><tr class=\"dataTDRight\" style=\"background-color:LightYellow;\">\n",
       " <td style=\"font-family: Verdana, Geneva, Arial, Helvetica, sans-serif;\"><b>2002</b></td><td style=\"font-family: Verdana, Geneva, Arial, Helvetica, sans-serif;\"><b>TOTAL</b></td><td style=\"font-family: Verdana, Geneva, Arial, Helvetica, sans-serif;\"><b>8,085,083</b></td><td style=\"font-family: Verdana, Geneva, Arial, Helvetica, sans-serif;\"><b>1,023,994</b></td><td style=\"font-family: Verdana, Geneva, Arial, Helvetica, sans-serif;\"><b>9,109,077</b></td>\n",
       " </tr>\n",
       " </table>]"
      ]
     },
     "execution_count": 4,
     "metadata": {},
     "output_type": "execute_result"
    }
   ],
   "source": [
    "soup.find_all('table',class_=\"dataTDRight\")"
   ]
  },
  {
   "cell_type": "code",
   "execution_count": 5,
   "metadata": {
    "collapsed": false
   },
   "outputs": [
    {
     "name": "stdout",
     "output_type": "stream",
     "text": [
      "<a href=\"http://www.rita.dot.gov/about_rita/\">About RITA</a>\n"
     ]
    }
   ],
   "source": [
    "print soup.a"
   ]
  },
  {
   "cell_type": "code",
   "execution_count": 6,
   "metadata": {
    "collapsed": false
   },
   "outputs": [
    {
     "data": {
      "text/plain": [
       "4"
      ]
     },
     "execution_count": 6,
     "metadata": {},
     "output_type": "execute_result"
    }
   ],
   "source": [
    "len(tables)"
   ]
  },
  {
   "cell_type": "code",
   "execution_count": 46,
   "metadata": {
    "collapsed": false
   },
   "outputs": [
    {
     "ename": "SyntaxError",
     "evalue": "invalid syntax (<ipython-input-46-e13cf7e90893>, line 4)",
     "output_type": "error",
     "traceback": [
      "\u001b[1;36m  File \u001b[1;32m\"<ipython-input-46-e13cf7e90893>\"\u001b[1;36m, line \u001b[1;32m4\u001b[0m\n\u001b[1;33m    print as.int(t.contents[1].text)\u001b[0m\n\u001b[1;37m           ^\u001b[0m\n\u001b[1;31mSyntaxError\u001b[0m\u001b[1;31m:\u001b[0m invalid syntax\n"
     ]
    }
   ],
   "source": [
    "for t in tables:\n",
    "    if t.contents[2].string == 'TOTAL':\n",
    "        continue\n",
    "    print int(t.contents[1].text)\n",
    "    print t.contents[2].string\n",
    "    print t.contents[3].text.replace(',','.')\n",
    "    print t.contents[4].text.replace(',','.'),'\\n'"
   ]
  },
  {
   "cell_type": "code",
   "execution_count": 33,
   "metadata": {
    "collapsed": false
   },
   "outputs": [
    {
     "data": {
      "text/plain": [
       "bs4.element.ResultSet"
      ]
     },
     "execution_count": 33,
     "metadata": {},
     "output_type": "execute_result"
    }
   ],
   "source": [
    "type(tables)"
   ]
  },
  {
   "cell_type": "code",
   "execution_count": 38,
   "metadata": {
    "collapsed": false
   },
   "outputs": [
    {
     "ename": "AttributeError",
     "evalue": "'NavigableString' object has no attribute 'text'",
     "output_type": "error",
     "traceback": [
      "\u001b[1;31m---------------------------------------------------------------------------\u001b[0m",
      "\u001b[1;31mAttributeError\u001b[0m                            Traceback (most recent call last)",
      "\u001b[1;32m<ipython-input-38-e5ac7faf863c>\u001b[0m in \u001b[0;36m<module>\u001b[1;34m()\u001b[0m\n\u001b[0;32m      1\u001b[0m \u001b[1;32mfor\u001b[0m \u001b[0mt\u001b[0m \u001b[1;32min\u001b[0m \u001b[0mtables\u001b[0m\u001b[1;33m:\u001b[0m\u001b[1;33m\u001b[0m\u001b[0m\n\u001b[0;32m      2\u001b[0m     \u001b[1;32mfor\u001b[0m \u001b[0mi\u001b[0m \u001b[1;32min\u001b[0m \u001b[0mrange\u001b[0m\u001b[1;33m(\u001b[0m\u001b[0mlen\u001b[0m\u001b[1;33m(\u001b[0m\u001b[0mt\u001b[0m\u001b[1;33m)\u001b[0m\u001b[1;33m)\u001b[0m\u001b[1;33m:\u001b[0m\u001b[1;33m\u001b[0m\u001b[0m\n\u001b[1;32m----> 3\u001b[1;33m         \u001b[1;32mprint\u001b[0m \u001b[0mt\u001b[0m\u001b[1;33m.\u001b[0m\u001b[0mcontents\u001b[0m\u001b[1;33m[\u001b[0m\u001b[0mi\u001b[0m\u001b[1;33m]\u001b[0m\u001b[1;33m.\u001b[0m\u001b[0mtext\u001b[0m\u001b[1;33m\u001b[0m\u001b[0m\n\u001b[0m",
      "\u001b[1;32m/usr/lib/python2.7/dist-packages/bs4/element.pyc\u001b[0m in \u001b[0;36m__getattr__\u001b[1;34m(self, attr)\u001b[0m\n\u001b[0;32m    673\u001b[0m             raise AttributeError(\n\u001b[0;32m    674\u001b[0m                 \"'%s' object has no attribute '%s'\" % (\n\u001b[1;32m--> 675\u001b[1;33m                     self.__class__.__name__, attr))\n\u001b[0m\u001b[0;32m    676\u001b[0m \u001b[1;33m\u001b[0m\u001b[0m\n\u001b[0;32m    677\u001b[0m     \u001b[1;32mdef\u001b[0m \u001b[0moutput_ready\u001b[0m\u001b[1;33m(\u001b[0m\u001b[0mself\u001b[0m\u001b[1;33m,\u001b[0m \u001b[0mformatter\u001b[0m\u001b[1;33m=\u001b[0m\u001b[1;34m\"minimal\"\u001b[0m\u001b[1;33m)\u001b[0m\u001b[1;33m:\u001b[0m\u001b[1;33m\u001b[0m\u001b[0m\n",
      "\u001b[1;31mAttributeError\u001b[0m: 'NavigableString' object has no attribute 'text'"
     ]
    }
   ],
   "source": [
    "for t in tables:\n",
    "    for i in range(len(t)):\n",
    "        print t.contents[i].text"
   ]
  },
  {
   "cell_type": "code",
   "execution_count": null,
   "metadata": {
    "collapsed": true
   },
   "outputs": [],
   "source": []
  }
 ],
 "metadata": {
  "kernelspec": {
   "display_name": "Python 2",
   "language": "python",
   "name": "python2"
  },
  "language_info": {
   "codemirror_mode": {
    "name": "ipython",
    "version": 2
   },
   "file_extension": ".py",
   "mimetype": "text/x-python",
   "name": "python",
   "nbconvert_exporter": "python",
   "pygments_lexer": "ipython2",
   "version": "2.7.9"
  }
 },
 "nbformat": 4,
 "nbformat_minor": 0
}
