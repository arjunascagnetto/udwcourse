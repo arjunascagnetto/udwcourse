{
 "cells": [
  {
   "cell_type": "code",
   "execution_count": null,
   "metadata": {
    "collapsed": true
   },
   "outputs": [],
   "source": [
    "\"\"\"\n",
    "Your task is to check the \"productionStartYear\" of the DBPedia autos datafile for valid values.\n",
    "The following things should be done:\n",
    "- check if the field \"productionStartYear\" contains a year\n",
    "- check if the year is in range 1886-2014\n",
    "- convert the value of the field to be just a year (not full datetime)\n",
    "- the rest of the fields and values should stay the same\n",
    "- if the value of the field is a valid year in the range as described above,\n",
    "  write that line to the output_good file\n",
    "- if the value of the field is not a valid year as described above, \n",
    "  write that line to the output_bad file\n",
    "- discard rows (neither write to good nor bad) if the URI is not from dbpedia.org\n",
    "- you should use the provided way of reading and writing data (DictReader and DictWriter)\n",
    "  They will take care of dealing with the header.\n",
    "\n",
    "You can write helper functions for checking the data and writing the files, but we will call only the \n",
    "'process_file' with 3 arguments (inputfile, output_good, output_bad).\n",
    "\"\"\""
   ]
  },
  {
   "cell_type": "code",
   "execution_count": 1,
   "metadata": {
    "collapsed": true
   },
   "outputs": [],
   "source": [
    "import csv\n",
    "import pprint\n",
    "\n",
    "input_file = 'autos.csv'\n",
    "OUTPUT_GOOD = 'autos-valid.csv'\n",
    "OUTPUT_BAD = 'FIXME-autos.csv'"
   ]
  },
  {
   "cell_type": "code",
   "execution_count": 2,
   "metadata": {
    "collapsed": false
   },
   "outputs": [
    {
     "name": "stdout",
     "output_type": "stream",
     "text": [
      "http://dbpedia.org/ontology/productionStartYear <type 'str'>\n",
      "XMLSchema#gYear <type 'str'>\n",
      "http://www.w3.org/2001/XMLSchema#gYear <type 'str'>\n",
      "1989-01-01T00:00:00+02:00 <type 'str'>\n",
      "1969-01-01T00:00:00+02:00 <type 'str'>\n",
      "1957-01-01T00:00:00+02:00 <type 'str'>\n",
      "1959-01-01T00:00:00+02:00 <type 'str'>\n",
      "2108-01-01T00:00:00+02:00 <type 'str'>\n",
      "1936-01-01T00:00:00+02:00 <type 'str'>\n",
      "1953-01-01T00:00:00+02:00 <type 'str'>\n",
      "2002-01-01T00:00:00+02:00 <type 'str'>\n",
      "2002-01-01T00:00:00+02:00 <type 'str'>\n",
      "1985-01-01T00:00:00+02:00 <type 'str'>\n",
      "1939-01-01T00:00:00+02:00 <type 'str'>\n",
      "1970-01-01T00:00:00+02:00 <type 'str'>\n",
      "1957-01-01T00:00:00+02:00 <type 'str'>\n",
      "1958-01-01T00:00:00+02:00 <type 'str'>\n",
      "1983-01-01T00:00:00+02:00 <type 'str'>\n",
      "1962-01-01T00:00:00+02:00 <type 'str'>\n",
      "1964-01-01T00:00:00+02:00 <type 'str'>\n",
      "0001-01-01T00:00:00+02:00 <type 'str'>\n",
      "1964-01-01T00:00:00+02:00 <type 'str'>\n",
      "1979-01-01T00:00:00+02:00 <type 'str'>\n",
      "1961-01-01T00:00:00+02:00 <type 'str'>\n",
      "1975-01-01T00:00:00+02:00 <type 'str'>\n",
      "1953-01-01T00:00:00+02:00 <type 'str'>\n",
      "NULL <type 'str'>\n",
      "1978-01-01T00:00:00+02:00 <type 'str'>\n",
      "1908-01-01T00:00:00+02:00 <type 'str'>\n",
      "1994-01-01T00:00:00+02:00 <type 'str'>\n",
      "1955-01-01T00:00:00+02:00 <type 'str'>\n",
      "1927-01-01T00:00:00+02:00 <type 'str'>\n",
      "1951-01-01T00:00:00+02:00 <type 'str'>\n",
      "1979-01-01T00:00:00+02:00 <type 'str'>\n",
      "NULL <type 'str'>\n",
      "1955-01-01T00:00:00+02:00 <type 'str'>\n",
      "2002-01-01T00:00:00+02:00 <type 'str'>\n",
      "1985-01-01T00:00:00+02:00 <type 'str'>\n",
      "1968-01-01T00:00:00+02:00 <type 'str'>\n",
      "1979-01-01T00:00:00+02:00 <type 'str'>\n",
      "1975-01-01T00:00:00+02:00 <type 'str'>\n",
      "1994-01-01T00:00:00+02:00 <type 'str'>\n",
      "1956-01-01T00:00:00+02:00 <type 'str'>\n",
      "1968-01-01T00:00:00+02:00 <type 'str'>\n",
      "1977-01-01T00:00:00+02:00 <type 'str'>\n",
      "1983-01-01T00:00:00+02:00 <type 'str'>\n",
      "2001-01-01T00:00:00+02:00 <type 'str'>\n",
      "1959-01-01T00:00:00+02:00 <type 'str'>\n",
      "1956-01-01T00:00:00+02:00 <type 'str'>\n"
     ]
    }
   ],
   "source": [
    "with open(input_file, \"r\") as f:\n",
    "    reader = csv.DictReader(f)\n",
    "    header = reader.fieldnames\n",
    "    for row in reader:\n",
    "        dato = row['productionStartYear']\n",
    "        print dato,type(dato)"
   ]
  },
  {
   "cell_type": "code",
   "execution_count": 3,
   "metadata": {
    "collapsed": true
   },
   "outputs": [],
   "source": [
    "import datetime"
   ]
  },
  {
   "cell_type": "code",
   "execution_count": 4,
   "metadata": {
    "collapsed": false
   },
   "outputs": [
    {
     "ename": "TypeError",
     "evalue": "an integer is required",
     "output_type": "error",
     "traceback": [
      "\u001b[1;31m---------------------------------------------------------------------------\u001b[0m",
      "\u001b[1;31mTypeError\u001b[0m                                 Traceback (most recent call last)",
      "\u001b[1;32m<ipython-input-4-f2af525034b4>\u001b[0m in \u001b[0;36m<module>\u001b[1;34m()\u001b[0m\n\u001b[1;32m----> 1\u001b[1;33m \u001b[0mdatetime\u001b[0m\u001b[1;33m.\u001b[0m\u001b[0mdatetime\u001b[0m\u001b[1;33m(\u001b[0m\u001b[1;34m'1989-01-01T00:00:00+02:00'\u001b[0m\u001b[1;33m)\u001b[0m\u001b[1;33m\u001b[0m\u001b[0m\n\u001b[0m",
      "\u001b[1;31mTypeError\u001b[0m: an integer is required"
     ]
    }
   ],
   "source": [
    "datetime.datetime('1989-01-01T00:00:00+02:00')"
   ]
  },
  {
   "cell_type": "code",
   "execution_count": null,
   "metadata": {
    "collapsed": true
   },
   "outputs": [],
   "source": [
    "    # This is just an example on how you can use csv.DictWriter\n",
    "    # Remember that you have to output 2 files\n",
    "with open(output_good, \"w\") as g:\n",
    "    writer = csv.DictWriter(g, delimiter=\",\", fieldnames= header)\n",
    "    writer.writeheader()\n",
    "    for row in YOURDATA:\n",
    "        writer.writerow(row)"
   ]
  },
  {
   "cell_type": "code",
   "execution_count": null,
   "metadata": {
    "collapsed": true
   },
   "outputs": [],
   "source": []
  }
 ],
 "metadata": {
  "kernelspec": {
   "display_name": "Python 2",
   "language": "python",
   "name": "python2"
  },
  "language_info": {
   "codemirror_mode": {
    "name": "ipython",
    "version": 2
   },
   "file_extension": ".py",
   "mimetype": "text/x-python",
   "name": "python",
   "nbconvert_exporter": "python",
   "pygments_lexer": "ipython2",
   "version": "2.7.9"
  }
 },
 "nbformat": 4,
 "nbformat_minor": 0
}
