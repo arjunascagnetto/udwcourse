{
 "cells": [
  {
   "cell_type": "markdown",
   "metadata": {},
   "source": [
    "Your task is to process the saved file that represents the most popular (by view count)\n",
    "articles in the last day, and return the following data:\n",
    "- list of dictionaries, where the dictionary key is \"section\" and value is \"title\"\n",
    "- list of URLs for all media entries with \"format\": \"Standard Thumbnail\""
   ]
  },
  {
   "cell_type": "code",
   "execution_count": 1,
   "metadata": {
    "collapsed": true
   },
   "outputs": [],
   "source": [
    "import json"
   ]
  },
  {
   "cell_type": "code",
   "execution_count": 25,
   "metadata": {
    "collapsed": true
   },
   "outputs": [],
   "source": [
    "with open('data/file.json','r') as json_file:\n",
    "    data_list = json.loads(json_file.read())"
   ]
  },
  {
   "cell_type": "markdown",
   "metadata": {},
   "source": [
    "Il tipo di dato restituito e' `list`, ma il dizionario e' ogni elemento della lista..."
   ]
  },
  {
   "cell_type": "code",
   "execution_count": 27,
   "metadata": {
    "collapsed": false
   },
   "outputs": [
    {
     "data": {
      "text/plain": [
       "list"
      ]
     },
     "execution_count": 27,
     "metadata": {},
     "output_type": "execute_result"
    }
   ],
   "source": [
    "type(data_list)"
   ]
  },
  {
   "cell_type": "code",
   "execution_count": 28,
   "metadata": {
    "collapsed": false
   },
   "outputs": [
    {
     "data": {
      "text/plain": [
       "20"
      ]
     },
     "execution_count": 28,
     "metadata": {},
     "output_type": "execute_result"
    }
   ],
   "source": [
    "len(data_list)"
   ]
  },
  {
   "cell_type": "code",
   "execution_count": 29,
   "metadata": {
    "collapsed": false
   },
   "outputs": [
    {
     "data": {
      "text/plain": [
       "dict"
      ]
     },
     "execution_count": 29,
     "metadata": {},
     "output_type": "execute_result"
    }
   ],
   "source": [
    "type(data_list[0])"
   ]
  },
  {
   "cell_type": "code",
   "execution_count": 30,
   "metadata": {
    "collapsed": true
   },
   "outputs": [],
   "source": [
    "with open('data/file.json','r') as json_file:\n",
    "    dict0 = json.loads(json_file.read())[0]"
   ]
  },
  {
   "cell_type": "code",
   "execution_count": 31,
   "metadata": {
    "collapsed": false
   },
   "outputs": [
    {
     "data": {
      "text/plain": [
       "dict"
      ]
     },
     "execution_count": 31,
     "metadata": {},
     "output_type": "execute_result"
    }
   ],
   "source": [
    "type(dict0)"
   ]
  },
  {
   "cell_type": "code",
   "execution_count": 15,
   "metadata": {
    "collapsed": false
   },
   "outputs": [
    {
     "data": {
      "text/plain": [
       "[u'asset_id',\n",
       " u'byline',\n",
       " u'title',\n",
       " u'url',\n",
       " u'media',\n",
       " u'section',\n",
       " u'views',\n",
       " u'column',\n",
       " u'published_date',\n",
       " u'abstract',\n",
       " u'des_facet',\n",
       " u'geo_facet',\n",
       " u'adx_keywords',\n",
       " u'source',\n",
       " u'org_facet',\n",
       " u'per_facet',\n",
       " u'type',\n",
       " u'id']"
      ]
     },
     "execution_count": 15,
     "metadata": {},
     "output_type": "execute_result"
    }
   ],
   "source": [
    "dict0.keys()"
   ]
  },
  {
   "cell_type": "code",
   "execution_count": 16,
   "metadata": {
    "collapsed": false
   },
   "outputs": [
    {
     "data": {
      "text/plain": [
       "u'100000002711649'"
      ]
     },
     "execution_count": 16,
     "metadata": {},
     "output_type": "execute_result"
    }
   ],
   "source": [
    "dict0['id']"
   ]
  },
  {
   "cell_type": "code",
   "execution_count": 17,
   "metadata": {
    "collapsed": false
   },
   "outputs": [
    {
     "data": {
      "text/plain": [
       "{u'abstract': u'Couples can be happier now than ever before. But it\\u2019s rare.',\n",
       " u'adx_keywords': u'Marriages;Divorce, Separations and Annulments;Social Conditions and Trends;Sociology',\n",
       " u'asset_id': 100000002711650.0,\n",
       " u'byline': u'By ELI J. FINKEL',\n",
       " u'column': u'Opinion',\n",
       " u'des_facet': [u'MARRIAGES',\n",
       "  u'DIVORCE, SEPARATIONS AND ANNULMENTS',\n",
       "  u'SOCIAL CONDITIONS AND TRENDS',\n",
       "  u'SOCIOLOGY'],\n",
       " u'geo_facet': u'',\n",
       " u'id': u'100000002711649',\n",
       " u'media': [{u'caption': u'',\n",
       "   u'copyright': u'Pieter Van Eenoge',\n",
       "   u'media-metadata': [{u'format': u'Standard Thumbnail',\n",
       "     u'height': 75,\n",
       "     u'url': u'http://graphics8.nytimes.com/images/2014/02/16/sunday-review/16COVER/16COVER-thumbStandard.jpg',\n",
       "     u'width': 75},\n",
       "    {u'format': u'superJumbo',\n",
       "     u'height': 1552,\n",
       "     u'url': u'http://graphics8.nytimes.com/images/2014/02/16/sunday-review/16COVER/16COVER-superJumbo.jpg',\n",
       "     u'width': 2048},\n",
       "    {u'format': u'Large',\n",
       "     u'height': 263,\n",
       "     u'url': u'http://graphics8.nytimes.com/images/2014/02/16/sunday-review/16COVER/16COVER-sfSpan.jpg',\n",
       "     u'width': 395},\n",
       "    {u'format': u'thumbLarge',\n",
       "     u'height': 150,\n",
       "     u'url': u'http://graphics8.nytimes.com/images/2014/02/16/sunday-review/16COVER/16COVER-thumbLarge.jpg',\n",
       "     u'width': 150},\n",
       "    {u'format': u'Normal',\n",
       "     u'height': 144,\n",
       "     u'url': u'http://graphics8.nytimes.com/images/2014/02/16/sunday-review/16COVER/16COVER-articleInline.jpg',\n",
       "     u'width': 190},\n",
       "    {u'format': u'square640',\n",
       "     u'height': 640,\n",
       "     u'url': u'http://graphics8.nytimes.com/images/2014/02/16/sunday-review/16COVER/16COVER-square640.jpg',\n",
       "     u'width': 640},\n",
       "    {u'format': u'square320',\n",
       "     u'height': 320,\n",
       "     u'url': u'http://graphics8.nytimes.com/images/2014/02/16/sunday-review/16COVER/16COVER-square320.jpg',\n",
       "     u'width': 320},\n",
       "    {u'format': u'mediumThreeByTwo210',\n",
       "     u'height': 140,\n",
       "     u'url': u'http://graphics8.nytimes.com/images/2014/02/16/sunday-review/16COVER/16COVER-mediumThreeByTwo210.jpg',\n",
       "     u'width': 210}],\n",
       "   u'subtype': u'photo',\n",
       "   u'type': u'image'},\n",
       "  {u'caption': u'',\n",
       "   u'copyright': u'Pieter Van Eenoge',\n",
       "   u'media-metadata': [{u'format': u'Standard Thumbnail',\n",
       "     u'height': 75,\n",
       "     u'url': u'http://graphics8.nytimes.com/images/2014/02/16/sunday-review/16MARRIAGEJP/16MARRIAGEJP-thumbStandard.jpg',\n",
       "     u'width': 75},\n",
       "    {u'format': u'superJumbo',\n",
       "     u'height': 1815,\n",
       "     u'url': u'http://graphics8.nytimes.com/images/2014/02/16/sunday-review/16MARRIAGEJP/16MARRIAGEJP-superJumbo.jpg',\n",
       "     u'width': 2048},\n",
       "    {u'format': u'Large',\n",
       "     u'height': 263,\n",
       "     u'url': u'http://graphics8.nytimes.com/images/2014/02/16/sunday-review/16MARRIAGEJP/16MARRIAGEJP-sfSpan.jpg',\n",
       "     u'width': 395},\n",
       "    {u'format': u'thumbLarge',\n",
       "     u'height': 150,\n",
       "     u'url': u'http://graphics8.nytimes.com/images/2014/02/16/sunday-review/16MARRIAGEJP/16MARRIAGEJP-thumbLarge.jpg',\n",
       "     u'width': 150},\n",
       "    {u'format': u'Normal',\n",
       "     u'height': 168,\n",
       "     u'url': u'http://graphics8.nytimes.com/images/2014/02/16/sunday-review/16MARRIAGEJP/16MARRIAGEJP-articleInline.jpg',\n",
       "     u'width': 190},\n",
       "    {u'format': u'square640',\n",
       "     u'height': 640,\n",
       "     u'url': u'http://graphics8.nytimes.com/images/2014/02/16/sunday-review/16MARRIAGEJP/16MARRIAGEJP-square640.jpg',\n",
       "     u'width': 640},\n",
       "    {u'format': u'square320',\n",
       "     u'height': 320,\n",
       "     u'url': u'http://graphics8.nytimes.com/images/2014/02/16/sunday-review/16MARRIAGEJP/16MARRIAGEJP-square320.jpg',\n",
       "     u'width': 320},\n",
       "    {u'format': u'mediumThreeByTwo210',\n",
       "     u'height': 140,\n",
       "     u'url': u'http://graphics8.nytimes.com/images/2014/02/16/sunday-review/16MARRIAGEJP/16MARRIAGEJP-mediumThreeByTwo210.jpg',\n",
       "     u'width': 210}],\n",
       "   u'subtype': u'photo',\n",
       "   u'type': u'image'}],\n",
       " u'org_facet': u'',\n",
       " u'per_facet': u'',\n",
       " u'published_date': u'2014-02-16',\n",
       " u'section': u'Opinion',\n",
       " u'source': u'The New York Times',\n",
       " u'title': u'The All-or-Nothing Marriage',\n",
       " u'type': u'Article',\n",
       " u'url': u'http://www.nytimes.com/2014/02/15/opinion/sunday/the-all-or-nothing-marriage.html',\n",
       " u'views': 1}"
      ]
     },
     "execution_count": 17,
     "metadata": {},
     "output_type": "execute_result"
    }
   ],
   "source": [
    "dict0"
   ]
  },
  {
   "cell_type": "code",
   "execution_count": 18,
   "metadata": {
    "collapsed": false
   },
   "outputs": [
    {
     "data": {
      "text/plain": [
       "u'The All-or-Nothing Marriage'"
      ]
     },
     "execution_count": 18,
     "metadata": {},
     "output_type": "execute_result"
    }
   ],
   "source": [
    "dict0['title']"
   ]
  },
  {
   "cell_type": "code",
   "execution_count": 19,
   "metadata": {
    "collapsed": false
   },
   "outputs": [
    {
     "data": {
      "text/plain": [
       "[{u'caption': u'',\n",
       "  u'copyright': u'Pieter Van Eenoge',\n",
       "  u'media-metadata': [{u'format': u'Standard Thumbnail',\n",
       "    u'height': 75,\n",
       "    u'url': u'http://graphics8.nytimes.com/images/2014/02/16/sunday-review/16COVER/16COVER-thumbStandard.jpg',\n",
       "    u'width': 75},\n",
       "   {u'format': u'superJumbo',\n",
       "    u'height': 1552,\n",
       "    u'url': u'http://graphics8.nytimes.com/images/2014/02/16/sunday-review/16COVER/16COVER-superJumbo.jpg',\n",
       "    u'width': 2048},\n",
       "   {u'format': u'Large',\n",
       "    u'height': 263,\n",
       "    u'url': u'http://graphics8.nytimes.com/images/2014/02/16/sunday-review/16COVER/16COVER-sfSpan.jpg',\n",
       "    u'width': 395},\n",
       "   {u'format': u'thumbLarge',\n",
       "    u'height': 150,\n",
       "    u'url': u'http://graphics8.nytimes.com/images/2014/02/16/sunday-review/16COVER/16COVER-thumbLarge.jpg',\n",
       "    u'width': 150},\n",
       "   {u'format': u'Normal',\n",
       "    u'height': 144,\n",
       "    u'url': u'http://graphics8.nytimes.com/images/2014/02/16/sunday-review/16COVER/16COVER-articleInline.jpg',\n",
       "    u'width': 190},\n",
       "   {u'format': u'square640',\n",
       "    u'height': 640,\n",
       "    u'url': u'http://graphics8.nytimes.com/images/2014/02/16/sunday-review/16COVER/16COVER-square640.jpg',\n",
       "    u'width': 640},\n",
       "   {u'format': u'square320',\n",
       "    u'height': 320,\n",
       "    u'url': u'http://graphics8.nytimes.com/images/2014/02/16/sunday-review/16COVER/16COVER-square320.jpg',\n",
       "    u'width': 320},\n",
       "   {u'format': u'mediumThreeByTwo210',\n",
       "    u'height': 140,\n",
       "    u'url': u'http://graphics8.nytimes.com/images/2014/02/16/sunday-review/16COVER/16COVER-mediumThreeByTwo210.jpg',\n",
       "    u'width': 210}],\n",
       "  u'subtype': u'photo',\n",
       "  u'type': u'image'},\n",
       " {u'caption': u'',\n",
       "  u'copyright': u'Pieter Van Eenoge',\n",
       "  u'media-metadata': [{u'format': u'Standard Thumbnail',\n",
       "    u'height': 75,\n",
       "    u'url': u'http://graphics8.nytimes.com/images/2014/02/16/sunday-review/16MARRIAGEJP/16MARRIAGEJP-thumbStandard.jpg',\n",
       "    u'width': 75},\n",
       "   {u'format': u'superJumbo',\n",
       "    u'height': 1815,\n",
       "    u'url': u'http://graphics8.nytimes.com/images/2014/02/16/sunday-review/16MARRIAGEJP/16MARRIAGEJP-superJumbo.jpg',\n",
       "    u'width': 2048},\n",
       "   {u'format': u'Large',\n",
       "    u'height': 263,\n",
       "    u'url': u'http://graphics8.nytimes.com/images/2014/02/16/sunday-review/16MARRIAGEJP/16MARRIAGEJP-sfSpan.jpg',\n",
       "    u'width': 395},\n",
       "   {u'format': u'thumbLarge',\n",
       "    u'height': 150,\n",
       "    u'url': u'http://graphics8.nytimes.com/images/2014/02/16/sunday-review/16MARRIAGEJP/16MARRIAGEJP-thumbLarge.jpg',\n",
       "    u'width': 150},\n",
       "   {u'format': u'Normal',\n",
       "    u'height': 168,\n",
       "    u'url': u'http://graphics8.nytimes.com/images/2014/02/16/sunday-review/16MARRIAGEJP/16MARRIAGEJP-articleInline.jpg',\n",
       "    u'width': 190},\n",
       "   {u'format': u'square640',\n",
       "    u'height': 640,\n",
       "    u'url': u'http://graphics8.nytimes.com/images/2014/02/16/sunday-review/16MARRIAGEJP/16MARRIAGEJP-square640.jpg',\n",
       "    u'width': 640},\n",
       "   {u'format': u'square320',\n",
       "    u'height': 320,\n",
       "    u'url': u'http://graphics8.nytimes.com/images/2014/02/16/sunday-review/16MARRIAGEJP/16MARRIAGEJP-square320.jpg',\n",
       "    u'width': 320},\n",
       "   {u'format': u'mediumThreeByTwo210',\n",
       "    u'height': 140,\n",
       "    u'url': u'http://graphics8.nytimes.com/images/2014/02/16/sunday-review/16MARRIAGEJP/16MARRIAGEJP-mediumThreeByTwo210.jpg',\n",
       "    u'width': 210}],\n",
       "  u'subtype': u'photo',\n",
       "  u'type': u'image'}]"
      ]
     },
     "execution_count": 19,
     "metadata": {},
     "output_type": "execute_result"
    }
   ],
   "source": [
    "dict0['media']"
   ]
  },
  {
   "cell_type": "code",
   "execution_count": 32,
   "metadata": {
    "collapsed": false
   },
   "outputs": [
    {
     "data": {
      "text/plain": [
       "list"
      ]
     },
     "execution_count": 32,
     "metadata": {},
     "output_type": "execute_result"
    }
   ],
   "source": [
    "type(dict0['media'])"
   ]
  },
  {
   "cell_type": "code",
   "execution_count": 33,
   "metadata": {
    "collapsed": false
   },
   "outputs": [
    {
     "data": {
      "text/plain": [
       "dict"
      ]
     },
     "execution_count": 33,
     "metadata": {},
     "output_type": "execute_result"
    }
   ],
   "source": [
    "type(dict0['media'][0])"
   ]
  },
  {
   "cell_type": "code",
   "execution_count": 34,
   "metadata": {
    "collapsed": false
   },
   "outputs": [
    {
     "data": {
      "text/plain": [
       "[u'subtype', u'caption', u'media-metadata', u'copyright', u'type']"
      ]
     },
     "execution_count": 34,
     "metadata": {},
     "output_type": "execute_result"
    }
   ],
   "source": [
    "dict0['media'][0].keys()"
   ]
  },
  {
   "cell_type": "code",
   "execution_count": 36,
   "metadata": {
    "collapsed": false
   },
   "outputs": [
    {
     "data": {
      "text/plain": [
       "{u'abstract': u'Academics are some of the smartest minds in the world. So why are they making themselves irrelevant?',\n",
       " u'adx_keywords': u'Colleges and Universities;United States Politics and Government;Graduate Schools and Students',\n",
       " u'asset_id': 100000002713490.0,\n",
       " u'byline': u'By NICHOLAS KRISTOF',\n",
       " u'column': u'Op-Ed Columnist',\n",
       " u'des_facet': [u'COLLEGES AND UNIVERSITIES',\n",
       "  u'UNITED STATES POLITICS AND GOVERNMENT',\n",
       "  u'GRADUATE SCHOOLS AND STUDENTS'],\n",
       " u'geo_facet': u'',\n",
       " u'id': u'100000002713486',\n",
       " u'media': [{u'caption': u'Nicholas Kristof',\n",
       "   u'copyright': u'Damon Winter/The New York Times',\n",
       "   u'media-metadata': [{u'format': u'square320',\n",
       "     u'height': 320,\n",
       "     u'url': u'http://graphics8.nytimes.com/images/2010/09/16/opinion/Kristof_New/Kristof_New-square320-v2.jpg',\n",
       "     u'width': 320},\n",
       "    {u'format': u'Standard Thumbnail',\n",
       "     u'height': 75,\n",
       "     u'url': u'http://graphics8.nytimes.com/images/2010/09/16/opinion/Kristof_New/Kristof_New-thumbStandard-v4.jpg',\n",
       "     u'width': 75},\n",
       "    {u'format': u'Normal',\n",
       "     u'height': 243,\n",
       "     u'url': u'http://graphics8.nytimes.com/images/2010/09/16/opinion/Kristof_New/Kristof_New-articleInline-v3.jpg',\n",
       "     u'width': 190},\n",
       "    {u'format': u'Large',\n",
       "     u'height': 263,\n",
       "     u'url': u'http://graphics8.nytimes.com/images/2010/09/16/opinion/Kristof_New/Kristof_New-sfSpan.jpg',\n",
       "     u'width': 395},\n",
       "    {u'format': u'superJumbo',\n",
       "     u'height': 2048,\n",
       "     u'url': u'http://graphics8.nytimes.com/images/2010/09/16/opinion/Kristof_New/Kristof_New-superJumbo.jpg',\n",
       "     u'width': 1604},\n",
       "    {u'format': u'square640',\n",
       "     u'height': 640,\n",
       "     u'url': u'http://graphics8.nytimes.com/images/2010/09/16/opinion/Kristof_New/Kristof_New-square640-v2.jpg',\n",
       "     u'width': 640},\n",
       "    {u'format': u'thumbLarge',\n",
       "     u'height': 150,\n",
       "     u'url': u'http://graphics8.nytimes.com/images/2010/09/16/opinion/Kristof_New/Kristof_New-thumbLarge-v3.jpg',\n",
       "     u'width': 150},\n",
       "    {u'format': u'mediumThreeByTwo210',\n",
       "     u'height': 140,\n",
       "     u'url': u'http://graphics8.nytimes.com/images/2010/09/16/opinion/Kristof_New/Kristof_New-mediumThreeByTwo210.jpg',\n",
       "     u'width': 210}],\n",
       "   u'subtype': u'photo',\n",
       "   u'type': u'image'}],\n",
       " u'org_facet': [u'FACEBOOK INC',\n",
       "  u'FB',\n",
       "  u'NASDAQ',\n",
       "  u'TWITTER',\n",
       "  u'TWTR',\n",
       "  u'NYSE'],\n",
       " u'per_facet': u'',\n",
       " u'published_date': u'2014-02-16',\n",
       " u'section': u'Opinion',\n",
       " u'source': u'The New York Times',\n",
       " u'title': u'Professors, We Need You!',\n",
       " u'type': u'Article',\n",
       " u'url': u'http://www.nytimes.com/2014/02/16/opinion/sunday/kristof-professors-we-need-you.html',\n",
       " u'views': 3}"
      ]
     },
     "execution_count": 36,
     "metadata": {},
     "output_type": "execute_result"
    }
   ],
   "source": [
    "data_list[2]"
   ]
  },
  {
   "cell_type": "code",
   "execution_count": 37,
   "metadata": {
    "collapsed": true
   },
   "outputs": [],
   "source": [
    "dict2 = data_list[2]"
   ]
  },
  {
   "cell_type": "code",
   "execution_count": 38,
   "metadata": {
    "collapsed": false
   },
   "outputs": [
    {
     "data": {
      "text/plain": [
       "u'Opinion'"
      ]
     },
     "execution_count": 38,
     "metadata": {},
     "output_type": "execute_result"
    }
   ],
   "source": [
    "dict2['section']"
   ]
  },
  {
   "cell_type": "code",
   "execution_count": 39,
   "metadata": {
    "collapsed": false
   },
   "outputs": [
    {
     "data": {
      "text/plain": [
       "u'Professors, We Need You!'"
      ]
     },
     "execution_count": 39,
     "metadata": {},
     "output_type": "execute_result"
    }
   ],
   "source": [
    "dict2['title']"
   ]
  },
  {
   "cell_type": "code",
   "execution_count": 40,
   "metadata": {
    "collapsed": false
   },
   "outputs": [
    {
     "data": {
      "text/plain": [
       "{u'Opinion': u'Professors, We Need You!'}"
      ]
     },
     "execution_count": 40,
     "metadata": {},
     "output_type": "execute_result"
    }
   ],
   "source": [
    "dict({dict2['section']:dict2['title']})"
   ]
  },
  {
   "cell_type": "code",
   "execution_count": 44,
   "metadata": {
    "collapsed": false
   },
   "outputs": [],
   "source": [
    "nlist = []\n",
    "for i,diz in enumerate(data_list):\n",
    "    nlist.append({diz['section']:diz['title']})"
   ]
  },
  {
   "cell_type": "code",
   "execution_count": 52,
   "metadata": {
    "collapsed": false
   },
   "outputs": [
    {
     "name": "stdout",
     "output_type": "stream",
     "text": [
      "{u'Opinion': u'The All-or-Nothing Marriage'}\n",
      "{u'Opinion': u'Marry First, Then Cheat'}\n",
      "{u'Opinion': u'Professors, We Need You!'}\n",
      "{u'N.Y. / Region': u'Common Core Curriculum Now Has Critics on the Left'}\n",
      "{u'Fashion & Style': u'For Interns, All Work and No Payoff'}\n",
      "{u'Sports': u'NBC Pushes Too Far in Bringing Bode Miller to Tears'}\n",
      "{u'Opinion': u'Barons of Broadband'}\n",
      "{u'Sports': u'A Mad Dash for Salt Rescues Olympic Slopes'}\n",
      "{u'U.S.': u'Spying by N.S.A. Ally Entangled U.S. Law Firm'}\n",
      "{u'N.Y. / Region': u'Addicted on Staten Island'}\n",
      "{u'Business Day': u'Saving an Endangered British Species: The Pub'}\n",
      "{u'Sports': u'Behind Meryl Davis and Charlie White, U.S. Is Close to Its First Ice Dance Gold'}\n",
      "{u'Technology': u'Intel\\u2019s Sharp-Eyed Social Scientist'}\n",
      "{u'Sports': u'Hanyu Falls Twice, but Still Wins Gold'}\n",
      "{u'Opinion': u'Is the Universe a Simulation?'}\n",
      "{u'Opinion': u'Parental Pity Party'}\n",
      "{u'Opinion': u'Behind Bars'}\n",
      "{u'Opinion': u'A Watchful Eye in Hospitals'}\n",
      "{u'Movies': u'The Greatest Film Role Ever Cast'}\n",
      "{u'Business Day': u'Comcast vs. the Cord Cutters'}\n"
     ]
    }
   ],
   "source": [
    "for diz in nlist:\n",
    "    print diz"
   ]
  },
  {
   "cell_type": "code",
   "execution_count": 67,
   "metadata": {
    "collapsed": false
   },
   "outputs": [
    {
     "data": {
      "text/plain": [
       "8"
      ]
     },
     "execution_count": 67,
     "metadata": {},
     "output_type": "execute_result"
    }
   ],
   "source": [
    "len(dict2['media'][0]['media-metadata'])"
   ]
  },
  {
   "cell_type": "code",
   "execution_count": 64,
   "metadata": {
    "collapsed": false
   },
   "outputs": [
    {
     "name": "stdout",
     "output_type": "stream",
     "text": [
      "http://graphics8.nytimes.com/images/2010/09/16/opinion/Kristof_New/Kristof_New-thumbStandard-v4.jpg\n"
     ]
    }
   ],
   "source": [
    "for diz in dict2['media'][0]['media-metadata']:\n",
    "    if diz['format'] == 'Standard Thumbnail':\n",
    "        print diz['url']"
   ]
  },
  {
   "cell_type": "code",
   "execution_count": 83,
   "metadata": {
    "collapsed": false
   },
   "outputs": [],
   "source": [
    "titles = []\n",
    "urls = []\n",
    "for diz in data_list:\n",
    "    titles.append({diz['section']:diz['title']})\n",
    "    if len(diz['media']) > 0:\n",
    "        for ll in diz['media']:\n",
    "            for sub_diz in ll['media-metadata']:\n",
    "                if sub_diz['format'] == 'Standard Thumbnail':\n",
    "                    urls.append(sub_diz['url'])"
   ]
  },
  {
   "cell_type": "code",
   "execution_count": 69,
   "metadata": {
    "collapsed": false
   },
   "outputs": [
    {
     "data": {
      "text/plain": [
       "{u'abstract': u'An NBC interviewer repeatedly questioned Miller about his brother, who died last year, after the skier tied Sunday for a bronze medal in the men\\u2019s super-G.',\n",
       " u'adx_keywords': u'Olympic Games (2014);Television;National Broadcasting Co;Miller, Bode',\n",
       " u'asset_id': 100000002716010.0,\n",
       " u'byline': u'By RICHARD SANDOMIR',\n",
       " u'column': u'TV Sports',\n",
       " u'des_facet': [u'OLYMPIC GAMES (2014)', u'TELEVISION'],\n",
       " u'geo_facet': u'',\n",
       " u'id': u'100000002716012',\n",
       " u'media': u'',\n",
       " u'org_facet': [u'NATIONAL BROADCASTING CO'],\n",
       " u'per_facet': [u'MILLER, BODE'],\n",
       " u'published_date': u'2014-02-17',\n",
       " u'section': u'Sports',\n",
       " u'source': u'The New York Times',\n",
       " u'title': u'NBC Pushes Too Far in Bringing Bode Miller to Tears',\n",
       " u'type': u'Article',\n",
       " u'url': u'http://www.nytimes.com/2014/02/17/sports/olympics/nbc-pushes-too-far-in-bringing-bode-miller-to-tears.html',\n",
       " u'views': 6}"
      ]
     },
     "execution_count": 69,
     "metadata": {},
     "output_type": "execute_result"
    }
   ],
   "source": [
    "data_list[5]"
   ]
  },
  {
   "cell_type": "code",
   "execution_count": 76,
   "metadata": {
    "collapsed": false
   },
   "outputs": [
    {
     "data": {
      "text/plain": [
       "[u'subtype', u'caption', u'media-metadata', u'copyright', u'type']"
      ]
     },
     "execution_count": 76,
     "metadata": {},
     "output_type": "execute_result"
    }
   ],
   "source": [
    "dict0['media'][1].keys()"
   ]
  },
  {
   "cell_type": "code",
   "execution_count": 81,
   "metadata": {
    "collapsed": false
   },
   "outputs": [
    {
     "data": {
      "text/plain": [
       "30"
      ]
     },
     "execution_count": 81,
     "metadata": {},
     "output_type": "execute_result"
    }
   ],
   "source": [
    "len(urls)"
   ]
  },
  {
   "cell_type": "code",
   "execution_count": 84,
   "metadata": {
    "collapsed": false
   },
   "outputs": [
    {
     "data": {
      "text/plain": [
       "u'http://graphics8.nytimes.com/images/2014/02/17/sports/ICEDANCE/ICEDANCE-thumbStandard.jpg'"
      ]
     },
     "execution_count": 84,
     "metadata": {},
     "output_type": "execute_result"
    }
   ],
   "source": [
    "urls[20]"
   ]
  },
  {
   "cell_type": "markdown",
   "metadata": {},
   "source": [
    "### Teacher's Solution"
   ]
  },
  {
   "cell_type": "code",
   "execution_count": 86,
   "metadata": {
    "collapsed": false
   },
   "outputs": [],
   "source": [
    "titles = []\n",
    "urls = []\n",
    "for article in data_list:\n",
    "    section = article[\"section\"]\n",
    "    title = article[\"title\"]\n",
    "    titles.append({section: title})\n",
    "    if \"media\" in article:\n",
    "        for m in article[\"media\"]:\n",
    "            for mm in m[\"media-metadata\"]:\n",
    "                if mm[\"format\"] == \"Standard Thumbnail\":\n",
    "                    urls.append(mm[\"url\"])"
   ]
  },
  {
   "cell_type": "code",
   "execution_count": 87,
   "metadata": {
    "collapsed": true
   },
   "outputs": [],
   "source": [
    "dict5 = data_list[5]"
   ]
  },
  {
   "cell_type": "code",
   "execution_count": 89,
   "metadata": {
    "collapsed": false
   },
   "outputs": [
    {
     "data": {
      "text/plain": [
       "u''"
      ]
     },
     "execution_count": 89,
     "metadata": {},
     "output_type": "execute_result"
    }
   ],
   "source": [
    "dict5['media']"
   ]
  },
  {
   "cell_type": "code",
   "execution_count": null,
   "metadata": {
    "collapsed": true
   },
   "outputs": [],
   "source": []
  }
 ],
 "metadata": {
  "kernelspec": {
   "display_name": "Python 2",
   "language": "python",
   "name": "python2"
  },
  "language_info": {
   "codemirror_mode": {
    "name": "ipython",
    "version": 2
   },
   "file_extension": ".py",
   "mimetype": "text/x-python",
   "name": "python",
   "nbconvert_exporter": "python",
   "pygments_lexer": "ipython2",
   "version": "2.7.9"
  }
 },
 "nbformat": 4,
 "nbformat_minor": 0
}
