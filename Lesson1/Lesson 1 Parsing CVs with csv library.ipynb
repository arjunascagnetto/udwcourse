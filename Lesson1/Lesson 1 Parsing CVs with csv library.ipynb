{
 "cells": [
  {
   "cell_type": "code",
   "execution_count": 9,
   "metadata": {
    "collapsed": false
   },
   "outputs": [
    {
     "name": "stdout",
     "output_type": "stream",
     "text": [
      "0 Title,Released,Label,UK Chart Position,US Chart Position,BPI Certification,RIAA Certification\n",
      "\n",
      "1 Please Please Me,22 March 1963,Parlophone(UK),1,—,Gold,Platinum\n",
      "\n",
      "2 With the Beatles,22 November 1963,Parlophone(UK),1,—,Platinum,Gold\n",
      "\n",
      "3 Beatlemania! With the Beatles,25 November 1963,Capitol(CAN),—,—,,\n",
      "\n",
      "4 Introducing... The Beatles,10 January 1964,Vee-Jay(US),—,2,,\n",
      "\n",
      "5 Meet the Beatles!,20 January 1964,Capitol(US),—,1,,5xPlatinum\n",
      "\n",
      "6 Twist and Shout,3 February 1964,Capitol(CAN),—,—,,\n",
      "\n",
      "7 The Beatles' Second Album,10 April 1964,Capitol(US),—,1,,2xPlatinum\n",
      "\n",
      "8 The Beatles' Long Tall Sally,11 May 1964,Capitol(CAN),—,—,,\n",
      "\n",
      "9 A Hard Day's Night,26 June 1964,United Artists(US)[C],—,1,,4xPlatinum\n",
      "\n",
      "10 ,10 July 1964,Parlophone(UK),1,—,Gold,\n",
      "\n",
      "11 Something New,20 July 1964,Capitol(US),—,2,,Platinum\n",
      "\n",
      "12 Beatles for Sale,4 December 1964,Parlophone(UK),1,—,Gold,Platinum\n",
      "\n",
      "13 Beatles '65,15 December 1964,Capitol(US),—,1,,3xPlatinum\n",
      "\n",
      "14 Beatles VI,14 June 1965,\"Parlophone(NZ), Capitol(US)\",—,1,,Platinum\n",
      "\n",
      "15 Help!,6 August 1965,Parlophone(UK),1,—,Platinum,\n",
      "\n",
      "16 ,13 August 1965,Capitol(US)[C],—,1,,3xPlatinum\n",
      "\n",
      "17 Rubber Soul,3 December 1965,Parlophone(UK),1,—,Platinum,\n",
      "\n",
      "18 ,6 December 1965,Capitol(US)[C],—,1,,6xPlatinum\n",
      "\n",
      "19 Yesterday and Today,15 June 1966,Capitol(US),—,1,,2xPlatinum\n",
      "\n",
      "20 Revolver,5 August 1966,Parlophone(UK),1,—,Platinum,\n",
      "\n",
      "21 ,8 August 1966,Capitol(US)[C],—,1,,5xPlatinum\n",
      "\n",
      "22 Sgt. Pepper's Lonely Hearts Club Band,1 June 1967,\"Parlophone(UK), Capitol(US)\",1,1,3xPlatinum,11xPlatinum\n",
      "\n",
      "23 Magical Mystery Tour,27 November 1967,\"Parlophone(UK), Capitol(US)\",31[D],1,Platinum,6xPlatinum\n",
      "\n",
      "24 The Beatles,22 November 1968,\"Apple(UK), Capitol(US)\",1,1,Platinum,19xPlatinum\n",
      "\n",
      "25 Yellow Submarine,13 January 1969,\"Apple(UK), Capitol(US)\",3,2,Silver,Platinum\n",
      "\n",
      "26 Abbey Road,26 September 1969,\"Apple(UK), Capitol(US)\",1,1,2xPlatinum,12xPlatinum\n",
      "\n",
      "27 Let It Be,8 May 1970,\"Apple(UK),United Artists(US)\",1,1,Gold,4xPlatinum\n"
     ]
    }
   ],
   "source": [
    "f = open('data/beatles-diskography.csv')\n",
    "for i,line in enumerate(f):\n",
    "    print i,line"
   ]
  },
  {
   "cell_type": "code",
   "execution_count": 1,
   "metadata": {
    "collapsed": true
   },
   "outputs": [],
   "source": [
    "import csv"
   ]
  },
  {
   "cell_type": "code",
   "execution_count": 21,
   "metadata": {
    "collapsed": false
   },
   "outputs": [],
   "source": [
    "def parse_file(datafile):\n",
    "    data = []\n",
    "    with open(datafile,'rb') as sd:\n",
    "        r = csv.DictReader(sd)\n",
    "        for line in r:\n",
    "            print line\n",
    "            data.append(line)\n",
    "    return data"
   ]
  },
  {
   "cell_type": "code",
   "execution_count": 22,
   "metadata": {
    "collapsed": false
   },
   "outputs": [
    {
     "name": "stdout",
     "output_type": "stream",
     "text": [
      "{'Title': 'Please Please Me', 'UK Chart Position': '1', 'Label': 'Parlophone(UK)', 'Released': '22 March 1963', 'US Chart Position': '\\xe2\\x80\\x94', 'RIAA Certification': 'Platinum', 'BPI Certification': 'Gold'}\n",
      "{'Title': 'With the Beatles', 'UK Chart Position': '1', 'Label': 'Parlophone(UK)', 'Released': '22 November 1963', 'US Chart Position': '\\xe2\\x80\\x94', 'RIAA Certification': 'Gold', 'BPI Certification': 'Platinum'}\n",
      "{'Title': 'Beatlemania! With the Beatles', 'UK Chart Position': '\\xe2\\x80\\x94', 'Label': 'Capitol(CAN)', 'Released': '25 November 1963', 'US Chart Position': '\\xe2\\x80\\x94', 'RIAA Certification': '', 'BPI Certification': ''}\n",
      "{'Title': 'Introducing... The Beatles', 'UK Chart Position': '\\xe2\\x80\\x94', 'Label': 'Vee-Jay(US)', 'Released': '10 January 1964', 'US Chart Position': '2', 'RIAA Certification': '', 'BPI Certification': ''}\n",
      "{'Title': 'Meet the Beatles!', 'UK Chart Position': '\\xe2\\x80\\x94', 'Label': 'Capitol(US)', 'Released': '20 January 1964', 'US Chart Position': '1', 'RIAA Certification': '5xPlatinum', 'BPI Certification': ''}\n",
      "{'Title': 'Twist and Shout', 'UK Chart Position': '\\xe2\\x80\\x94', 'Label': 'Capitol(CAN)', 'Released': '3 February 1964', 'US Chart Position': '\\xe2\\x80\\x94', 'RIAA Certification': '', 'BPI Certification': ''}\n",
      "{'Title': \"The Beatles' Second Album\", 'UK Chart Position': '\\xe2\\x80\\x94', 'Label': 'Capitol(US)', 'Released': '10 April 1964', 'US Chart Position': '1', 'RIAA Certification': '2xPlatinum', 'BPI Certification': ''}\n",
      "{'Title': \"The Beatles' Long Tall Sally\", 'UK Chart Position': '\\xe2\\x80\\x94', 'Label': 'Capitol(CAN)', 'Released': '11 May 1964', 'US Chart Position': '\\xe2\\x80\\x94', 'RIAA Certification': '', 'BPI Certification': ''}\n",
      "{'Title': \"A Hard Day's Night\", 'UK Chart Position': '\\xe2\\x80\\x94', 'Label': 'United Artists(US)[C]', 'Released': '26 June 1964', 'US Chart Position': '1', 'RIAA Certification': '4xPlatinum', 'BPI Certification': ''}\n",
      "{'Title': '', 'UK Chart Position': '1', 'Label': 'Parlophone(UK)', 'Released': '10 July 1964', 'US Chart Position': '\\xe2\\x80\\x94', 'RIAA Certification': '', 'BPI Certification': 'Gold'}\n",
      "{'Title': 'Something New', 'UK Chart Position': '\\xe2\\x80\\x94', 'Label': 'Capitol(US)', 'Released': '20 July 1964', 'US Chart Position': '2', 'RIAA Certification': 'Platinum', 'BPI Certification': ''}\n",
      "{'Title': 'Beatles for Sale', 'UK Chart Position': '1', 'Label': 'Parlophone(UK)', 'Released': '4 December 1964', 'US Chart Position': '\\xe2\\x80\\x94', 'RIAA Certification': 'Platinum', 'BPI Certification': 'Gold'}\n",
      "{'Title': \"Beatles '65\", 'UK Chart Position': '\\xe2\\x80\\x94', 'Label': 'Capitol(US)', 'Released': '15 December 1964', 'US Chart Position': '1', 'RIAA Certification': '3xPlatinum', 'BPI Certification': ''}\n",
      "{'Title': 'Beatles VI', 'UK Chart Position': '\\xe2\\x80\\x94', 'Label': 'Parlophone(NZ), Capitol(US)', 'Released': '14 June 1965', 'US Chart Position': '1', 'RIAA Certification': 'Platinum', 'BPI Certification': ''}\n",
      "{'Title': 'Help!', 'UK Chart Position': '1', 'Label': 'Parlophone(UK)', 'Released': '6 August 1965', 'US Chart Position': '\\xe2\\x80\\x94', 'RIAA Certification': '', 'BPI Certification': 'Platinum'}\n",
      "{'Title': '', 'UK Chart Position': '\\xe2\\x80\\x94', 'Label': 'Capitol(US)[C]', 'Released': '13 August 1965', 'US Chart Position': '1', 'RIAA Certification': '3xPlatinum', 'BPI Certification': ''}\n",
      "{'Title': 'Rubber Soul', 'UK Chart Position': '1', 'Label': 'Parlophone(UK)', 'Released': '3 December 1965', 'US Chart Position': '\\xe2\\x80\\x94', 'RIAA Certification': '', 'BPI Certification': 'Platinum'}\n",
      "{'Title': '', 'UK Chart Position': '\\xe2\\x80\\x94', 'Label': 'Capitol(US)[C]', 'Released': '6 December 1965', 'US Chart Position': '1', 'RIAA Certification': '6xPlatinum', 'BPI Certification': ''}\n",
      "{'Title': 'Yesterday and Today', 'UK Chart Position': '\\xe2\\x80\\x94', 'Label': 'Capitol(US)', 'Released': '15 June 1966', 'US Chart Position': '1', 'RIAA Certification': '2xPlatinum', 'BPI Certification': ''}\n",
      "{'Title': 'Revolver', 'UK Chart Position': '1', 'Label': 'Parlophone(UK)', 'Released': '5 August 1966', 'US Chart Position': '\\xe2\\x80\\x94', 'RIAA Certification': '', 'BPI Certification': 'Platinum'}\n",
      "{'Title': '', 'UK Chart Position': '\\xe2\\x80\\x94', 'Label': 'Capitol(US)[C]', 'Released': '8 August 1966', 'US Chart Position': '1', 'RIAA Certification': '5xPlatinum', 'BPI Certification': ''}\n",
      "{'Title': \"Sgt. Pepper's Lonely Hearts Club Band\", 'UK Chart Position': '1', 'Label': 'Parlophone(UK), Capitol(US)', 'Released': '1 June 1967', 'US Chart Position': '1', 'RIAA Certification': '11xPlatinum', 'BPI Certification': '3xPlatinum'}\n",
      "{'Title': 'Magical Mystery Tour', 'UK Chart Position': '31[D]', 'Label': 'Parlophone(UK), Capitol(US)', 'Released': '27 November 1967', 'US Chart Position': '1', 'RIAA Certification': '6xPlatinum', 'BPI Certification': 'Platinum'}\n",
      "{'Title': 'The Beatles', 'UK Chart Position': '1', 'Label': 'Apple(UK), Capitol(US)', 'Released': '22 November 1968', 'US Chart Position': '1', 'RIAA Certification': '19xPlatinum', 'BPI Certification': 'Platinum'}\n",
      "{'Title': 'Yellow Submarine', 'UK Chart Position': '3', 'Label': 'Apple(UK), Capitol(US)', 'Released': '13 January 1969', 'US Chart Position': '2', 'RIAA Certification': 'Platinum', 'BPI Certification': 'Silver'}\n",
      "{'Title': 'Abbey Road', 'UK Chart Position': '1', 'Label': 'Apple(UK), Capitol(US)', 'Released': '26 September 1969', 'US Chart Position': '1', 'RIAA Certification': '12xPlatinum', 'BPI Certification': '2xPlatinum'}\n",
      "{'Title': 'Let It Be', 'UK Chart Position': '1', 'Label': 'Apple(UK),United Artists(US)', 'Released': '8 May 1970', 'US Chart Position': '1', 'RIAA Certification': '4xPlatinum', 'BPI Certification': 'Gold'}\n"
     ]
    }
   ],
   "source": [
    "data = parse_file('data/beatles-diskography.csv')"
   ]
  },
  {
   "cell_type": "code",
   "execution_count": 10,
   "metadata": {
    "collapsed": false
   },
   "outputs": [
    {
     "data": {
      "text/plain": [
       "{'BPI Certification': '',\n",
       " 'Label': 'Parlophone(NZ), Capitol(US)',\n",
       " 'RIAA Certification': 'Platinum',\n",
       " 'Released': '14 June 1965',\n",
       " 'Title': 'Beatles VI',\n",
       " 'UK Chart Position': '\\xe2\\x80\\x94',\n",
       " 'US Chart Position': '1'}"
      ]
     },
     "execution_count": 10,
     "metadata": {},
     "output_type": "execute_result"
    }
   ],
   "source": [
    "data[13]"
   ]
  },
  {
   "cell_type": "code",
   "execution_count": null,
   "metadata": {
    "collapsed": true
   },
   "outputs": [],
   "source": []
  }
 ],
 "metadata": {
  "kernelspec": {
   "display_name": "Python 2",
   "language": "python",
   "name": "python2"
  },
  "language_info": {
   "codemirror_mode": {
    "name": "ipython",
    "version": 2
   },
   "file_extension": ".py",
   "mimetype": "text/x-python",
   "name": "python",
   "nbconvert_exporter": "python",
   "pygments_lexer": "ipython2",
   "version": "2.7.9"
  }
 },
 "nbformat": 4,
 "nbformat_minor": 0
}
