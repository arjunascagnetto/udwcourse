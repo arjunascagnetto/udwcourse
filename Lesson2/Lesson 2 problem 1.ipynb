{
 "cells": [
  {
   "cell_type": "code",
   "execution_count": 1,
   "metadata": {
    "collapsed": true
   },
   "outputs": [],
   "source": [
    "from bs4 import BeautifulSoup"
   ]
  },
  {
   "cell_type": "code",
   "execution_count": 2,
   "metadata": {
    "collapsed": true
   },
   "outputs": [],
   "source": [
    "with open('data/options.html','r') as html:\n",
    "    soup = BeautifulSoup(html,'html.parser')"
   ]
  },
  {
   "cell_type": "code",
   "execution_count": 34,
   "metadata": {
    "collapsed": false
   },
   "outputs": [
    {
     "name": "stdout",
     "output_type": "stream",
     "text": [
      "<!DOCTYPE html PUBLIC \"-//W3C//DTD XHTML 1.0 Transitional//EN\" \"http://www.w3.org/TR/xhtml1/DTD/xhtml1-transitional.dtd\">\n",
      "<html lang=\"en\" xmlns=\"http://www.w3.org/1999/xhtml\">\n",
      " <head>\n",
      "  <title>\n",
      "   Data Elements\n",
      "  </title>\n",
      "  <script src=\"lib/topNavBar.js\" type=\"text/javascript\">\n",
      "  </script>\n",
      "  <script src=\"lib/no_ms.js\" type=\"text/javascript\">\n",
      "  </script>\n",
      "  <link href=\"favicon.ico\" rel=\"shortcut icon\"/>\n",
      "  <link href=\"styles/global.css\" rel=\"stylesheet\" type=\"text/css\"/>\n",
      "  <link href=\"styles/local_Top_nav_main.css\" rel=\"stylesheet\" type=\"text/css\"/>\n",
      "  <link href=\"styles/rita_main.css\" rel=\"stylesheet\" type=\"text/css\"/>\n",
      "  <script language=\"javascript\" type=\"text/javascript\">\n",
      "   function window_CarrierList(page)\n",
      "{\n",
      "    //aUrl=\"CarrierList.asp?xpage=\" + xPage + \"&flag=\" + flag;\n",
      "    aUrl=\"CarrierList.aspx?page=\" + page;\n",
      "  \n",
      "\twindef=\"Height=750,width=600,Left=0,Top=0,dependent=yes,resizable=Yes, scrollbars=yes\";\n",
      "    objWindow = window.open(\"\",\"Subwindow\", windef);\n",
      "\tobjWindow.location.href=aUrl;\n",
      "\n"
     ]
    }
   ],
   "source": [
    "print(soup.prettify()[:1000])"
   ]
  },
  {
   "cell_type": "code",
   "execution_count": 43,
   "metadata": {
    "collapsed": false
   },
   "outputs": [
    {
     "name": "stdout",
     "output_type": "stream",
     "text": [
      "<option selected=\"selected\" value=\"All\">All U.S. and Foreign Carriers</option>\n",
      "<option value=\"AllUS\">All U.S. Carriers</option>\n",
      "<option value=\"AllForeign\">All Foreign Carriers</option>\n",
      "<option value=\"FL\">AirTran Airways</option>\n",
      "<option value=\"AS\">Alaska Airlines </option>\n",
      "<option value=\"AA\">American Airlines </option>\n",
      "<option value=\"MQ\">American Eagle Airlines </option>\n",
      "<option value=\"5Y\">Atlas Air </option>\n",
      "<option value=\"DL\">Delta Air Lines </option>\n",
      "<option value=\"EV\">ExpressJet Airlines </option>\n",
      "<option value=\"F9\">Frontier Airlines </option>\n",
      "<option value=\"HA\">Hawaiian Airlines </option>\n",
      "<option value=\"B6\">JetBlue Airways</option>\n",
      "<option value=\"OO\">SkyWest Airlines </option>\n",
      "<option value=\"WN\">Southwest Airlines </option>\n",
      "<option value=\"NK\">Spirit Air Lines</option>\n",
      "<option value=\"US\">US Airways </option>\n",
      "<option value=\"UA\">United Air Lines </option>\n",
      "<option value=\"VX\">Virgin America</option>\n"
     ]
    }
   ],
   "source": [
    "options = soup.find_all(id=\"CarrierList\")[0].find_all('option')\n",
    "for op in options:\n",
    "    print op"
   ]
  },
  {
   "cell_type": "code",
   "execution_count": 47,
   "metadata": {
    "collapsed": false
   },
   "outputs": [],
   "source": [
    "data = []\n",
    "for op in options:\n",
    "    if 'All' not in op['value']:\n",
    "        data.append(op['value'])"
   ]
  },
  {
   "cell_type": "code",
   "execution_count": 48,
   "metadata": {
    "collapsed": true
   },
   "outputs": [],
   "source": [
    "assert 'FL' in data"
   ]
  },
  {
   "cell_type": "code",
   "execution_count": 40,
   "metadata": {
    "collapsed": false
   },
   "outputs": [
    {
     "data": {
      "text/plain": [
       "[<option selected=\"selected\" value=\"All\">All U.S. and Foreign Carriers</option>,\n",
       " <option value=\"AllUS\">All U.S. Carriers</option>,\n",
       " <option value=\"AllForeign\">All Foreign Carriers</option>,\n",
       " <option value=\"FL\">AirTran Airways</option>,\n",
       " <option value=\"AS\">Alaska Airlines </option>,\n",
       " <option value=\"AA\">American Airlines </option>,\n",
       " <option value=\"MQ\">American Eagle Airlines </option>,\n",
       " <option value=\"5Y\">Atlas Air </option>,\n",
       " <option value=\"DL\">Delta Air Lines </option>,\n",
       " <option value=\"EV\">ExpressJet Airlines </option>,\n",
       " <option value=\"F9\">Frontier Airlines </option>,\n",
       " <option value=\"HA\">Hawaiian Airlines </option>,\n",
       " <option value=\"B6\">JetBlue Airways</option>,\n",
       " <option value=\"OO\">SkyWest Airlines </option>,\n",
       " <option value=\"WN\">Southwest Airlines </option>,\n",
       " <option value=\"NK\">Spirit Air Lines</option>,\n",
       " <option value=\"US\">US Airways </option>,\n",
       " <option value=\"UA\">United Air Lines </option>,\n",
       " <option value=\"VX\">Virgin America</option>,\n",
       " <option selected=\"selected\" value=\"All\">All</option>,\n",
       " <option value=\"AllMajors\">All Major Airports</option>,\n",
       " <option value=\"ATL\"> - Atlanta, GA: Hartsfield-Jackson Atlanta International</option>,\n",
       " <option value=\"BWI\"> - Baltimore, MD: Baltimore/Washington International Thurgood Marshall</option>,\n",
       " <option value=\"BOS\"> - Boston, MA: Logan International</option>,\n",
       " <option value=\"CLT\"> - Charlotte, NC: Charlotte Douglas International</option>,\n",
       " <option value=\"MDW\"> - Chicago, IL: Chicago Midway International</option>,\n",
       " <option value=\"ORD\"> - Chicago, IL: Chicago O'Hare International</option>,\n",
       " <option value=\"DFW\"> - Dallas/Fort Worth, TX: Dallas/Fort Worth International</option>,\n",
       " <option value=\"DEN\"> - Denver, CO: Denver International</option>,\n",
       " <option value=\"DTW\"> - Detroit, MI: Detroit Metro Wayne County</option>,\n",
       " <option value=\"FLL\"> - Fort Lauderdale, FL: Fort Lauderdale-Hollywood International</option>,\n",
       " <option value=\"IAH\"> - Houston, TX: George Bush Intercontinental/Houston</option>,\n",
       " <option value=\"LAS\"> - Las Vegas, NV: McCarran International</option>,\n",
       " <option value=\"LAX\"> - Los Angeles, CA: Los Angeles International</option>,\n",
       " <option value=\"AllOthers\">All Other Airports</option>,\n",
       " <option value=\"ABR\"> - Aberdeen, SD: Aberdeen Regional</option>,\n",
       " <option value=\"ABI\"> - Abilene, TX: Abilene Regional</option>]"
      ]
     },
     "execution_count": 40,
     "metadata": {},
     "output_type": "execute_result"
    }
   ],
   "source": [
    "soup.find_all('option')"
   ]
  },
  {
   "cell_type": "code",
   "execution_count": null,
   "metadata": {
    "collapsed": true
   },
   "outputs": [],
   "source": []
  }
 ],
 "metadata": {
  "kernelspec": {
   "display_name": "Python 2",
   "language": "python",
   "name": "python2"
  },
  "language_info": {
   "codemirror_mode": {
    "name": "ipython",
    "version": 2
   },
   "file_extension": ".py",
   "mimetype": "text/x-python",
   "name": "python",
   "nbconvert_exporter": "python",
   "pygments_lexer": "ipython2",
   "version": "2.7.9"
  }
 },
 "nbformat": 4,
 "nbformat_minor": 0
}
