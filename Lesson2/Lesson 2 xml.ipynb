{
 "cells": [
  {
   "cell_type": "markdown",
   "metadata": {},
   "source": [
    "### Your task here is to extract data from xml on authors of an article and add it to a list, one item for an author. "
   ]
  },
  {
   "cell_type": "code",
   "execution_count": 1,
   "metadata": {
    "collapsed": true
   },
   "outputs": [],
   "source": [
    "import xml.etree.ElementTree as ET"
   ]
  },
  {
   "cell_type": "code",
   "execution_count": 3,
   "metadata": {
    "collapsed": false
   },
   "outputs": [],
   "source": [
    "tree = ET.parse('data/exampleResearchArticle.xml')"
   ]
  },
  {
   "cell_type": "code",
   "execution_count": 4,
   "metadata": {
    "collapsed": true
   },
   "outputs": [],
   "source": [
    "root = tree.getroot()"
   ]
  },
  {
   "cell_type": "code",
   "execution_count": null,
   "metadata": {
    "collapsed": true
   },
   "outputs": [],
   "source": [
    "authors = []\n",
    "for author in root.findall('./fm/bibl/aug/au'):\n",
    "    data = { \"fnm\": None,\"snm\": None,\"email\": None}\n",
    "\n",
    "    authors.append(data)"
   ]
  },
  {
   "cell_type": "code",
   "execution_count": 5,
   "metadata": {
    "collapsed": false
   },
   "outputs": [
    {
     "data": {
      "text/plain": [
       "[]"
      ]
     },
     "execution_count": 5,
     "metadata": {},
     "output_type": "execute_result"
    }
   ],
   "source": [
    "root.findall('title')"
   ]
  },
  {
   "cell_type": "markdown",
   "metadata": {},
   "source": [
    "First we need to take a look at the data. Open the [exampleResearchArticle.xml](data/exampleResearchArticle.xml) in a window."
   ]
  },
  {
   "cell_type": "code",
   "execution_count": 9,
   "metadata": {
    "collapsed": false
   },
   "outputs": [
    {
     "name": "stdout",
     "output_type": "stream",
     "text": [
      "ui\n",
      "ji\n",
      "fm\n",
      "bdy\n",
      "bm\n"
     ]
    }
   ],
   "source": [
    "for child in root:\n",
    "    print child.tag"
   ]
  },
  {
   "cell_type": "code",
   "execution_count": 14,
   "metadata": {
    "collapsed": false
   },
   "outputs": [
    {
     "name": "stdout",
     "output_type": "stream",
     "text": [
      "refgrp\n",
      "sec\n"
     ]
    }
   ],
   "source": [
    "# select the tag to inspect\n",
    "for a in root.findall('./bm'):\n",
    "    # inspect the tag for sub tags\n",
    "    for b in a:\n",
    "        print b.tag"
   ]
  },
  {
   "cell_type": "code",
   "execution_count": 27,
   "metadata": {
    "collapsed": true
   },
   "outputs": [],
   "source": [
    "def subtags(root,tag):\n",
    "    for a in root.findall(tag):\n",
    "        print 'These are the subtags of \\'%s\\' tag \\n' % (tag)\n",
    "        for i,b in enumerate(a):\n",
    "            print i,':',b.tag"
   ]
  },
  {
   "cell_type": "code",
   "execution_count": 22,
   "metadata": {
    "collapsed": false
   },
   "outputs": [
    {
     "name": "stdout",
     "output_type": "stream",
     "text": [
      "These are the subtags of './bm' tag \n",
      "\n",
      "refgrp\n",
      "sec\n"
     ]
    }
   ],
   "source": [
    "subtags(root,'./bm')"
   ]
  },
  {
   "cell_type": "code",
   "execution_count": 23,
   "metadata": {
    "collapsed": false
   },
   "outputs": [
    {
     "name": "stdout",
     "output_type": "stream",
     "text": [
      "These are the subtags of './fm' tag \n",
      "\n",
      "dochead\n",
      "bibl\n",
      "history\n",
      "cpyrt\n",
      "kwdg\n",
      "abs\n"
     ]
    }
   ],
   "source": [
    "subtags(root,'./fm')"
   ]
  },
  {
   "cell_type": "code",
   "execution_count": 24,
   "metadata": {
    "collapsed": false
   },
   "outputs": [
    {
     "name": "stdout",
     "output_type": "stream",
     "text": [
      "These are the subtags of './bdy' tag \n",
      "\n",
      "sec\n",
      "sec\n",
      "sec\n",
      "sec\n",
      "sec\n",
      "sec\n",
      "sec\n"
     ]
    }
   ],
   "source": [
    "subtags(root,'./bdy')"
   ]
  },
  {
   "cell_type": "code",
   "execution_count": 28,
   "metadata": {
    "collapsed": false
   },
   "outputs": [
    {
     "name": "stdout",
     "output_type": "stream",
     "text": [
      "These are the subtags of './bm/refgrp' tag \n",
      "\n",
      "0 : bibl\n",
      "1 : bibl\n",
      "2 : bibl\n",
      "3 : bibl\n",
      "4 : bibl\n",
      "5 : bibl\n",
      "6 : bibl\n",
      "7 : bibl\n",
      "8 : bibl\n",
      "9 : bibl\n",
      "10 : bibl\n",
      "11 : bibl\n",
      "12 : bibl\n",
      "13 : bibl\n",
      "14 : bibl\n",
      "15 : bibl\n",
      "16 : bibl\n",
      "17 : bibl\n",
      "18 : bibl\n",
      "19 : bibl\n",
      "20 : bibl\n",
      "21 : bibl\n",
      "22 : bibl\n"
     ]
    }
   ],
   "source": [
    "subtags(root,'./bm/refgrp')"
   ]
  },
  {
   "cell_type": "code",
   "execution_count": 29,
   "metadata": {
    "collapsed": false
   },
   "outputs": [
    {
     "name": "stdout",
     "output_type": "stream",
     "text": [
      "These are the subtags of './bm/refgrp/bibl' tag \n",
      "\n",
      "0 : title\n",
      "1 : aug\n",
      "2 : source\n",
      "3 : pubdate\n",
      "4 : volume\n",
      "5 : fpage\n",
      "6 : xrefbib\n",
      "These are the subtags of './bm/refgrp/bibl' tag \n",
      "\n",
      "0 : title\n",
      "1 : aug\n",
      "2 : source\n",
      "3 : pubdate\n",
      "4 : volume\n",
      "5 : fpage\n",
      "6 : xrefbib\n",
      "These are the subtags of './bm/refgrp/bibl' tag \n",
      "\n",
      "0 : title\n",
      "1 : aug\n",
      "2 : source\n",
      "3 : pubdate\n",
      "4 : volume\n",
      "5 : fpage\n",
      "6 : xrefbib\n",
      "These are the subtags of './bm/refgrp/bibl' tag \n",
      "\n",
      "0 : title\n",
      "1 : aug\n",
      "2 : source\n",
      "3 : pubdate\n",
      "4 : volume\n",
      "5 : fpage\n",
      "6 : xrefbib\n",
      "These are the subtags of './bm/refgrp/bibl' tag \n",
      "\n",
      "0 : title\n",
      "1 : aug\n",
      "2 : source\n",
      "3 : pubdate\n",
      "4 : volume\n",
      "5 : fpage\n",
      "6 : xrefbib\n",
      "These are the subtags of './bm/refgrp/bibl' tag \n",
      "\n",
      "0 : title\n",
      "1 : aug\n",
      "2 : source\n",
      "3 : pubdate\n",
      "4 : volume\n",
      "5 : fpage\n",
      "6 : xrefbib\n",
      "These are the subtags of './bm/refgrp/bibl' tag \n",
      "\n",
      "0 : title\n",
      "1 : aug\n",
      "2 : source\n",
      "3 : pubdate\n",
      "4 : volume\n",
      "5 : fpage\n",
      "6 : xrefbib\n",
      "These are the subtags of './bm/refgrp/bibl' tag \n",
      "\n",
      "0 : title\n",
      "1 : aug\n",
      "2 : source\n",
      "3 : pubdate\n",
      "4 : volume\n",
      "5 : fpage\n",
      "6 : xrefbib\n",
      "These are the subtags of './bm/refgrp/bibl' tag \n",
      "\n",
      "0 : title\n",
      "1 : aug\n",
      "2 : source\n",
      "3 : pubdate\n",
      "4 : volume\n",
      "5 : fpage\n",
      "6 : xrefbib\n",
      "These are the subtags of './bm/refgrp/bibl' tag \n",
      "\n",
      "0 : title\n",
      "1 : aug\n",
      "2 : source\n",
      "3 : pubdate\n",
      "4 : volume\n",
      "5 : fpage\n",
      "6 : xrefbib\n",
      "These are the subtags of './bm/refgrp/bibl' tag \n",
      "\n",
      "0 : title\n",
      "1 : aug\n",
      "2 : source\n",
      "3 : publisher\n",
      "4 : editor\n",
      "5 : edition\n",
      "6 : pubdate\n",
      "7 : fpage\n",
      "8 : xrefbib\n",
      "These are the subtags of './bm/refgrp/bibl' tag \n",
      "\n",
      "0 : title\n",
      "1 : aug\n",
      "2 : source\n",
      "3 : pubdate\n",
      "4 : volume\n",
      "5 : fpage\n",
      "6 : xrefbib\n",
      "These are the subtags of './bm/refgrp/bibl' tag \n",
      "\n",
      "0 : title\n",
      "1 : aug\n",
      "2 : source\n",
      "3 : pubdate\n",
      "4 : volume\n",
      "5 : fpage\n",
      "6 : xrefbib\n",
      "These are the subtags of './bm/refgrp/bibl' tag \n",
      "\n",
      "0 : aug\n",
      "1 : source\n",
      "2 : publisher\n",
      "3 : edition\n",
      "4 : pubdate\n",
      "5 : fpage\n",
      "6 : lpage\n",
      "7 : note\n",
      "These are the subtags of './bm/refgrp/bibl' tag \n",
      "\n",
      "0 : title\n",
      "1 : aug\n",
      "2 : source\n",
      "3 : pubdate\n",
      "4 : volume\n",
      "5 : fpage\n",
      "6 : xrefbib\n",
      "These are the subtags of './bm/refgrp/bibl' tag \n",
      "\n",
      "0 : title\n",
      "1 : aug\n",
      "2 : source\n",
      "3 : pubdate\n",
      "4 : volume\n",
      "5 : fpage\n",
      "6 : xrefbib\n",
      "These are the subtags of './bm/refgrp/bibl' tag \n",
      "\n",
      "0 : title\n",
      "1 : aug\n",
      "2 : source\n",
      "3 : pubdate\n",
      "4 : volume\n",
      "5 : fpage\n",
      "6 : xrefbib\n",
      "These are the subtags of './bm/refgrp/bibl' tag \n",
      "\n",
      "0 : title\n",
      "1 : aug\n",
      "2 : source\n",
      "3 : pubdate\n",
      "4 : volume\n",
      "5 : fpage\n",
      "6 : xrefbib\n",
      "These are the subtags of './bm/refgrp/bibl' tag \n",
      "\n",
      "0 : title\n",
      "1 : aug\n",
      "2 : source\n",
      "3 : pubdate\n",
      "4 : volume\n",
      "5 : fpage\n",
      "6 : xrefbib\n",
      "These are the subtags of './bm/refgrp/bibl' tag \n",
      "\n",
      "0 : title\n",
      "1 : aug\n",
      "2 : source\n",
      "3 : pubdate\n",
      "4 : volume\n",
      "5 : fpage\n",
      "6 : xrefbib\n",
      "These are the subtags of './bm/refgrp/bibl' tag \n",
      "\n",
      "0 : title\n",
      "1 : aug\n",
      "2 : source\n",
      "3 : pubdate\n",
      "4 : volume\n",
      "5 : fpage\n",
      "6 : xrefbib\n",
      "These are the subtags of './bm/refgrp/bibl' tag \n",
      "\n",
      "0 : title\n",
      "1 : aug\n",
      "2 : source\n",
      "3 : pubdate\n",
      "4 : volume\n",
      "5 : fpage\n",
      "6 : xrefbib\n",
      "These are the subtags of './bm/refgrp/bibl' tag \n",
      "\n",
      "0 : title\n",
      "1 : aug\n",
      "2 : source\n",
      "3 : pubdate\n",
      "4 : volume\n",
      "5 : fpage\n",
      "6 : xrefbib\n"
     ]
    }
   ],
   "source": [
    "subtags(root,'./bm/refgrp/bibl')"
   ]
  },
  {
   "cell_type": "code",
   "execution_count": 42,
   "metadata": {
    "collapsed": false
   },
   "outputs": [
    {
     "name": "stdout",
     "output_type": "stream",
     "text": [
      "These are the subtags of './fm' tag \n",
      "\n",
      "0 : dochead\n",
      "1 : bibl\n",
      "2 : history\n",
      "3 : cpyrt\n",
      "4 : kwdg\n",
      "5 : abs\n"
     ]
    }
   ],
   "source": [
    "subtags(root,'./fm')"
   ]
  },
  {
   "cell_type": "code",
   "execution_count": 43,
   "metadata": {
    "collapsed": false
   },
   "outputs": [
    {
     "name": "stdout",
     "output_type": "stream",
     "text": [
      "These are the subtags of './fm/bibl' tag \n",
      "\n",
      "0 : title\n",
      "1 : aug\n",
      "2 : insg\n",
      "3 : source\n",
      "4 : issn\n",
      "5 : pubdate\n",
      "6 : volume\n",
      "7 : issue\n",
      "8 : fpage\n",
      "9 : url\n",
      "10 : xrefbib\n"
     ]
    }
   ],
   "source": [
    "subtags(root,'./fm/bibl')"
   ]
  },
  {
   "cell_type": "code",
   "execution_count": 44,
   "metadata": {
    "collapsed": false
   },
   "outputs": [
    {
     "name": "stdout",
     "output_type": "stream",
     "text": [
      "These are the subtags of './fm/bibl/aug' tag \n",
      "\n",
      "0 : au\n",
      "1 : au\n",
      "2 : au\n",
      "3 : au\n",
      "4 : au\n",
      "5 : au\n",
      "6 : au\n",
      "7 : au\n"
     ]
    }
   ],
   "source": [
    "subtags(root,'./fm/bibl/aug')"
   ]
  },
  {
   "cell_type": "code",
   "execution_count": 45,
   "metadata": {
    "collapsed": false
   },
   "outputs": [
    {
     "name": "stdout",
     "output_type": "stream",
     "text": [
      "These are the subtags of './fm/bibl/aug/au' tag \n",
      "\n",
      "0 : snm\n",
      "1 : fnm\n",
      "2 : insr\n",
      "3 : email\n",
      "These are the subtags of './fm/bibl/aug/au' tag \n",
      "\n",
      "0 : snm\n",
      "1 : fnm\n",
      "2 : insr\n",
      "3 : email\n",
      "These are the subtags of './fm/bibl/aug/au' tag \n",
      "\n",
      "0 : snm\n",
      "1 : fnm\n",
      "2 : insr\n",
      "3 : insr\n",
      "4 : email\n",
      "These are the subtags of './fm/bibl/aug/au' tag \n",
      "\n",
      "0 : snm\n",
      "1 : fnm\n",
      "2 : insr\n",
      "3 : email\n",
      "These are the subtags of './fm/bibl/aug/au' tag \n",
      "\n",
      "0 : snm\n",
      "1 : fnm\n",
      "2 : insr\n",
      "3 : email\n",
      "These are the subtags of './fm/bibl/aug/au' tag \n",
      "\n",
      "0 : snm\n",
      "1 : fnm\n",
      "2 : insr\n",
      "3 : insr\n",
      "4 : email\n",
      "These are the subtags of './fm/bibl/aug/au' tag \n",
      "\n",
      "0 : snm\n",
      "1 : fnm\n",
      "2 : insr\n",
      "3 : email\n",
      "These are the subtags of './fm/bibl/aug/au' tag \n",
      "\n",
      "0 : snm\n",
      "1 : fnm\n",
      "2 : insr\n",
      "3 : email\n"
     ]
    }
   ],
   "source": [
    "subtags(root,'./fm/bibl/aug/au')"
   ]
  },
  {
   "cell_type": "code",
   "execution_count": 52,
   "metadata": {
    "collapsed": false
   },
   "outputs": [
    {
     "name": "stdout",
     "output_type": "stream",
     "text": [
      "omer@extremegate.com\n",
      "mcarmont@hotmail.com\n",
      "laver17@gmail.com\n",
      "nyska@internet-zahav.net\n",
      "kammarh@gmail.com\n",
      "gideon.mann.md@gmail.com\n",
      "barns.nz@gmail.com\n",
      "eukots@gmail.com\n"
     ]
    }
   ],
   "source": [
    "for a in root.findall('./fm/bibl/aug/au'):\n",
    "    email = a.find('email')\n",
    "    print email.text"
   ]
  },
  {
   "cell_type": "code",
   "execution_count": 55,
   "metadata": {
    "collapsed": false
   },
   "outputs": [],
   "source": [
    "data = []\n",
    "for a in root.findall('./fm/bibl/aug/au'):\n",
    "    email = a.find('email')\n",
    "    snm = a.find('snm')\n",
    "    fnm = a.find('fnm')\n",
    "    data.append({'snm':snm.text,'fnm':fnm.text,'email':email.text})"
   ]
  },
  {
   "cell_type": "code",
   "execution_count": 56,
   "metadata": {
    "collapsed": false
   },
   "outputs": [
    {
     "data": {
      "text/plain": [
       "[{'email': 'omer@extremegate.com', 'fnm': 'Omer', 'snm': 'Mei-Dan'},\n",
       " {'email': 'mcarmont@hotmail.com', 'fnm': 'Mike', 'snm': 'Carmont'},\n",
       " {'email': 'laver17@gmail.com', 'fnm': 'Lior', 'snm': 'Laver'},\n",
       " {'email': 'nyska@internet-zahav.net', 'fnm': 'Meir', 'snm': 'Nyska'},\n",
       " {'email': 'kammarh@gmail.com', 'fnm': 'Hagay', 'snm': 'Kammar'},\n",
       " {'email': 'gideon.mann.md@gmail.com', 'fnm': 'Gideon', 'snm': 'Mann'},\n",
       " {'email': 'barns.nz@gmail.com', 'fnm': 'Barnaby', 'snm': 'Clarck'},\n",
       " {'email': 'eukots@gmail.com', 'fnm': 'Eugene', 'snm': 'Kots'}]"
      ]
     },
     "execution_count": 56,
     "metadata": {},
     "output_type": "execute_result"
    }
   ],
   "source": [
    "data"
   ]
  },
  {
   "cell_type": "code",
   "execution_count": 79,
   "metadata": {
    "collapsed": false
   },
   "outputs": [
    {
     "name": "stdout",
     "output_type": "stream",
     "text": [
      "omer@extremegate.com\n",
      "I1\n",
      "mcarmont@hotmail.com\n",
      "I2\n",
      "laver17@gmail.com\n",
      "I3\n",
      "I4\n",
      "nyska@internet-zahav.net\n",
      "I3\n",
      "kammarh@gmail.com\n",
      "I8\n",
      "gideon.mann.md@gmail.com\n",
      "I3\n",
      "I5\n",
      "barns.nz@gmail.com\n",
      "I6\n",
      "eukots@gmail.com\n",
      "I7\n"
     ]
    }
   ],
   "source": [
    "for a in root.findall('fm/bibl/aug/au'):\n",
    "    print a.find('email').text\n",
    "    insr = a.findall('insr')\n",
    "    for iid in insr:\n",
    "        print iid.attrib['iid']"
   ]
  },
  {
   "cell_type": "code",
   "execution_count": 69,
   "metadata": {
    "collapsed": true
   },
   "outputs": [],
   "source": [
    "author1 = a.findall('insr')"
   ]
  },
  {
   "cell_type": "code",
   "execution_count": 76,
   "metadata": {
    "collapsed": false
   },
   "outputs": [
    {
     "ename": "IndexError",
     "evalue": "list index out of range",
     "output_type": "error",
     "traceback": [
      "\u001b[1;31m---------------------------------------------------------------------------\u001b[0m",
      "\u001b[1;31mIndexError\u001b[0m                                Traceback (most recent call last)",
      "\u001b[1;32m<ipython-input-76-9723ccf1fc93>\u001b[0m in \u001b[0;36m<module>\u001b[1;34m()\u001b[0m\n\u001b[1;32m----> 1\u001b[1;33m \u001b[0mauthor1\u001b[0m\u001b[1;33m[\u001b[0m\u001b[1;36m1\u001b[0m\u001b[1;33m]\u001b[0m\u001b[1;33m.\u001b[0m\u001b[0mattrib\u001b[0m\u001b[1;33m\u001b[0m\u001b[0m\n\u001b[0m",
      "\u001b[1;31mIndexError\u001b[0m: list index out of range"
     ]
    }
   ],
   "source": [
    "author1[1].attrib"
   ]
  },
  {
   "cell_type": "code",
   "execution_count": 83,
   "metadata": {
    "collapsed": false
   },
   "outputs": [
    {
     "ename": "AttributeError",
     "evalue": "'dict' object has no attribute 'tag'",
     "output_type": "error",
     "traceback": [
      "\u001b[1;31m---------------------------------------------------------------------------\u001b[0m",
      "\u001b[1;31mAttributeError\u001b[0m                            Traceback (most recent call last)",
      "\u001b[1;32m<ipython-input-83-026eedbc5712>\u001b[0m in \u001b[0;36m<module>\u001b[1;34m()\u001b[0m\n\u001b[0;32m     12\u001b[0m         \u001b[0mdata\u001b[0m\u001b[1;33m[\u001b[0m\u001b[1;34m'email'\u001b[0m\u001b[1;33m]\u001b[0m \u001b[1;33m=\u001b[0m \u001b[0mauthor\u001b[0m\u001b[1;33m.\u001b[0m\u001b[0mfind\u001b[0m\u001b[1;33m(\u001b[0m\u001b[1;34m'email'\u001b[0m\u001b[1;33m)\u001b[0m\u001b[1;33m.\u001b[0m\u001b[0mtext\u001b[0m\u001b[1;33m\u001b[0m\u001b[0m\n\u001b[0;32m     13\u001b[0m         \u001b[0mdata\u001b[0m\u001b[1;33m[\u001b[0m\u001b[1;34m'snm'\u001b[0m\u001b[1;33m]\u001b[0m \u001b[1;33m=\u001b[0m \u001b[0mauthor\u001b[0m\u001b[1;33m.\u001b[0m\u001b[0mfind\u001b[0m\u001b[1;33m(\u001b[0m\u001b[1;34m'snm'\u001b[0m\u001b[1;33m)\u001b[0m\u001b[1;33m.\u001b[0m\u001b[0mtext\u001b[0m\u001b[1;33m\u001b[0m\u001b[0m\n\u001b[1;32m---> 14\u001b[1;33m         \u001b[1;32mfor\u001b[0m \u001b[0miid\u001b[0m \u001b[1;32min\u001b[0m \u001b[0mauthor\u001b[0m\u001b[1;33m.\u001b[0m\u001b[0mfindall\u001b[0m\u001b[1;33m(\u001b[0m\u001b[1;34m'insr'\u001b[0m\u001b[1;33m)\u001b[0m\u001b[1;33m:\u001b[0m\u001b[1;33m\u001b[0m\u001b[0m\n\u001b[0m\u001b[0;32m     15\u001b[0m             \u001b[0mdata\u001b[0m\u001b[1;33m[\u001b[0m\u001b[1;34m'insr'\u001b[0m\u001b[1;33m]\u001b[0m\u001b[1;33m.\u001b[0m\u001b[0mappend\u001b[0m\u001b[1;33m(\u001b[0m\u001b[0miid\u001b[0m\u001b[1;33m)\u001b[0m\u001b[1;33m\u001b[0m\u001b[0m\n\u001b[0;32m     16\u001b[0m         \u001b[0ma\u001b[0m\u001b[1;33m.\u001b[0m\u001b[0mappend\u001b[0m\u001b[1;33m(\u001b[0m\u001b[0mdata\u001b[0m\u001b[1;33m)\u001b[0m\u001b[1;33m\u001b[0m\u001b[0m\n",
      "\u001b[1;32m/usr/lib/python2.7/xml/etree/ElementTree.pyc\u001b[0m in \u001b[0;36mfindall\u001b[1;34m(self, path, namespaces)\u001b[0m\n\u001b[0;32m    388\u001b[0m \u001b[1;33m\u001b[0m\u001b[0m\n\u001b[0;32m    389\u001b[0m     \u001b[1;32mdef\u001b[0m \u001b[0mfindall\u001b[0m\u001b[1;33m(\u001b[0m\u001b[0mself\u001b[0m\u001b[1;33m,\u001b[0m \u001b[0mpath\u001b[0m\u001b[1;33m,\u001b[0m \u001b[0mnamespaces\u001b[0m\u001b[1;33m=\u001b[0m\u001b[0mNone\u001b[0m\u001b[1;33m)\u001b[0m\u001b[1;33m:\u001b[0m\u001b[1;33m\u001b[0m\u001b[0m\n\u001b[1;32m--> 390\u001b[1;33m         \u001b[1;32mreturn\u001b[0m \u001b[0mElementPath\u001b[0m\u001b[1;33m.\u001b[0m\u001b[0mfindall\u001b[0m\u001b[1;33m(\u001b[0m\u001b[0mself\u001b[0m\u001b[1;33m,\u001b[0m \u001b[0mpath\u001b[0m\u001b[1;33m,\u001b[0m \u001b[0mnamespaces\u001b[0m\u001b[1;33m)\u001b[0m\u001b[1;33m\u001b[0m\u001b[0m\n\u001b[0m\u001b[0;32m    391\u001b[0m \u001b[1;33m\u001b[0m\u001b[0m\n\u001b[0;32m    392\u001b[0m     \u001b[1;31m##\u001b[0m\u001b[1;33m\u001b[0m\u001b[1;33m\u001b[0m\u001b[0m\n",
      "\u001b[1;32m/usr/lib/python2.7/xml/etree/ElementPath.pyc\u001b[0m in \u001b[0;36mfindall\u001b[1;34m(elem, path, namespaces)\u001b[0m\n\u001b[0;32m    291\u001b[0m \u001b[1;33m\u001b[0m\u001b[0m\n\u001b[0;32m    292\u001b[0m \u001b[1;32mdef\u001b[0m \u001b[0mfindall\u001b[0m\u001b[1;33m(\u001b[0m\u001b[0melem\u001b[0m\u001b[1;33m,\u001b[0m \u001b[0mpath\u001b[0m\u001b[1;33m,\u001b[0m \u001b[0mnamespaces\u001b[0m\u001b[1;33m=\u001b[0m\u001b[0mNone\u001b[0m\u001b[1;33m)\u001b[0m\u001b[1;33m:\u001b[0m\u001b[1;33m\u001b[0m\u001b[0m\n\u001b[1;32m--> 293\u001b[1;33m     \u001b[1;32mreturn\u001b[0m \u001b[0mlist\u001b[0m\u001b[1;33m(\u001b[0m\u001b[0miterfind\u001b[0m\u001b[1;33m(\u001b[0m\u001b[0melem\u001b[0m\u001b[1;33m,\u001b[0m \u001b[0mpath\u001b[0m\u001b[1;33m,\u001b[0m \u001b[0mnamespaces\u001b[0m\u001b[1;33m)\u001b[0m\u001b[1;33m)\u001b[0m\u001b[1;33m\u001b[0m\u001b[0m\n\u001b[0m\u001b[0;32m    294\u001b[0m \u001b[1;33m\u001b[0m\u001b[0m\n\u001b[0;32m    295\u001b[0m \u001b[1;31m##\u001b[0m\u001b[1;33m\u001b[0m\u001b[1;33m\u001b[0m\u001b[0m\n",
      "\u001b[1;32m/usr/lib/python2.7/xml/etree/ElementPath.pyc\u001b[0m in \u001b[0;36mselect\u001b[1;34m(context, result)\u001b[0m\n\u001b[0;32m     99\u001b[0m         \u001b[1;32mfor\u001b[0m \u001b[0melem\u001b[0m \u001b[1;32min\u001b[0m \u001b[0mresult\u001b[0m\u001b[1;33m:\u001b[0m\u001b[1;33m\u001b[0m\u001b[0m\n\u001b[0;32m    100\u001b[0m             \u001b[1;32mfor\u001b[0m \u001b[0me\u001b[0m \u001b[1;32min\u001b[0m \u001b[0melem\u001b[0m\u001b[1;33m:\u001b[0m\u001b[1;33m\u001b[0m\u001b[0m\n\u001b[1;32m--> 101\u001b[1;33m                 \u001b[1;32mif\u001b[0m \u001b[0me\u001b[0m\u001b[1;33m.\u001b[0m\u001b[0mtag\u001b[0m \u001b[1;33m==\u001b[0m \u001b[0mtag\u001b[0m\u001b[1;33m:\u001b[0m\u001b[1;33m\u001b[0m\u001b[0m\n\u001b[0m\u001b[0;32m    102\u001b[0m                     \u001b[1;32myield\u001b[0m \u001b[0me\u001b[0m\u001b[1;33m\u001b[0m\u001b[0m\n\u001b[0;32m    103\u001b[0m     \u001b[1;32mreturn\u001b[0m \u001b[0mselect\u001b[0m\u001b[1;33m\u001b[0m\u001b[0m\n",
      "\u001b[1;31mAttributeError\u001b[0m: 'dict' object has no attribute 'tag'"
     ]
    }
   ],
   "source": [
    "a = []\n",
    "for author in root.findall('./fm/bibl/aug/au'):\n",
    "        data = {\n",
    "                \"fnm\": None,\n",
    "                \"snm\": None,\n",
    "                \"email\": None,\n",
    "                \"insr\": []\n",
    "        }\n",
    "\n",
    "        # YOUR CODE HERE\n",
    "        data['fnm'] = author.find('fnm').text\n",
    "        data['email'] = author.find('email').text\n",
    "        data['snm'] = author.find('snm').text\n",
    "        for iid in author.findall('insr'):\n",
    "            data['insr'].append(iid)\n",
    "        a.append(data)"
   ]
  },
  {
   "cell_type": "code",
   "execution_count": 81,
   "metadata": {
    "collapsed": false
   },
   "outputs": [
    {
     "data": {
      "text/plain": [
       "{'email': 'eukots@gmail.com',\n",
       " 'fnm': 'Eugene',\n",
       " 'insr': [<Element 'insr' at 0x7f7310eaef90>],\n",
       " 'snm': 'Kots'}"
      ]
     },
     "execution_count": 81,
     "metadata": {},
     "output_type": "execute_result"
    }
   ],
   "source": [
    "data"
   ]
  },
  {
   "cell_type": "code",
   "execution_count": null,
   "metadata": {
    "collapsed": true
   },
   "outputs": [],
   "source": []
  }
 ],
 "metadata": {
  "kernelspec": {
   "display_name": "Python 2",
   "language": "python",
   "name": "python2"
  },
  "language_info": {
   "codemirror_mode": {
    "name": "ipython",
    "version": 2
   },
   "file_extension": ".py",
   "mimetype": "text/x-python",
   "name": "python",
   "nbconvert_exporter": "python",
   "pygments_lexer": "ipython2",
   "version": "2.7.9"
  }
 },
 "nbformat": 4,
 "nbformat_minor": 0
}
