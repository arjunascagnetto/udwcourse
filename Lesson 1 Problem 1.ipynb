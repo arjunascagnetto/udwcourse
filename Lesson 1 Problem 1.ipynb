{
 "cells": [
  {
   "cell_type": "code",
   "execution_count": 4,
   "metadata": {
    "collapsed": true
   },
   "outputs": [],
   "source": [
    "import csv\n",
    "import numpy as np"
   ]
  },
  {
   "cell_type": "code",
   "execution_count": 2,
   "metadata": {
    "collapsed": true
   },
   "outputs": [],
   "source": [
    "data = []\n",
    "with open('data/745090.csv') as f:\n",
    "    for line in f:\n",
    "        data.append(line.strip().split(','))"
   ]
  },
  {
   "cell_type": "code",
   "execution_count": 3,
   "metadata": {
    "collapsed": false
   },
   "outputs": [
    {
     "data": {
      "text/plain": [
       "100"
      ]
     },
     "execution_count": 3,
     "metadata": {},
     "output_type": "execute_result"
    }
   ],
   "source": [
    "len(data)"
   ]
  },
  {
   "cell_type": "code",
   "execution_count": 5,
   "metadata": {
    "collapsed": false
   },
   "outputs": [
    {
     "data": {
      "text/plain": [
       "(100,)"
      ]
     },
     "execution_count": 5,
     "metadata": {},
     "output_type": "execute_result"
    }
   ],
   "source": [
    "np.shape(data)"
   ]
  },
  {
   "cell_type": "code",
   "execution_count": 8,
   "metadata": {
    "collapsed": false
   },
   "outputs": [
    {
     "data": {
      "text/plain": [
       "68"
      ]
     },
     "execution_count": 8,
     "metadata": {},
     "output_type": "execute_result"
    }
   ],
   "source": [
    "len(data[3])"
   ]
  },
  {
   "cell_type": "code",
   "execution_count": 33,
   "metadata": {
    "collapsed": false
   },
   "outputs": [
    {
     "name": "stdout",
     "output_type": "stream",
     "text": [
      "MOUNTAIN VIEW MOFFETT FLD NAS \n",
      "\n",
      "['Date (MM/DD/YYYY)', 'Time (HH:MM)', 'ETR (W/m^2)', 'ETRN (W/m^2)', 'GHI (W/m^2)', 'GHI source', 'GHI uncert (%)', 'DNI (W/m^2)', 'DNI source', 'DNI uncert (%)', 'DHI (W/m^2)', 'DHI source', 'DHI uncert (%)', 'GH illum (lx)', 'GH illum source', 'Global illum uncert (%)', 'DN illum (lx)', 'DN illum source', 'DN illum uncert (%)', 'DH illum (lx)', 'DH illum source', 'DH illum uncert (%)', 'Zenith lum (cd/m^2)', 'Zenith lum source', 'Zenith lum uncert (%)', 'TotCld (tenths)', 'TotCld source', 'TotCld uncert (code)', 'OpqCld (tenths)', 'OpqCld source', 'OpqCld uncert (code)', 'Dry-bulb (C)', 'Dry-bulb source', 'Dry-bulb uncert (code)', 'Dew-point (C)', 'Dew-point source', 'Dew-point uncert (code)', 'RHum (%)', 'RHum source', 'RHum uncert (code)', 'Pressure (mbar)', 'Pressure source', 'Pressure uncert (code)', 'Wdir (degrees)', 'Wdir source', 'Wdir uncert (code)', 'Wspd (m/s)', 'Wspd source', 'Wspd uncert (code)', 'Hvis (m)', 'Hvis source', 'Hvis uncert (code)', 'CeilHgt (m)', 'CeilHgt source', 'CeilHgt uncert (code)', 'Pwat (cm)', 'Pwat source', 'Pwat uncert (code)', 'AOD (unitless)', 'AOD source', 'AOD uncert (code)', 'Alb (unitless)', 'Alb source', 'Alb uncert (code)', 'Lprecip depth (mm)', 'Lprecip quantity (hr)', 'Lprecip source', 'Lprecip uncert (code)'] \n",
      "\n"
     ]
    }
   ],
   "source": [
    "data = []\n",
    "\n",
    "with open('data/745090.csv','rb') as csvfile:\n",
    "    text = csvfile.readline().strip().split('\"')\n",
    "    name = text[1]\n",
    "    print name,'\\n'\n",
    "    headers = csvfile.readline().strip().split(',')\n",
    "    print headers,'\\n'\n",
    "    rows = csv.reader(csvfile,delimiter=',')\n",
    "    for row in rows:\n",
    "        #print row\n",
    "        data.append(row)"
   ]
  },
  {
   "cell_type": "code",
   "execution_count": 34,
   "metadata": {
    "collapsed": false
   },
   "outputs": [
    {
     "name": "stdout",
     "output_type": "stream",
     "text": [
      "MOUNTAIN VIEW MOFFETT FLD NAS\n"
     ]
    }
   ],
   "source": [
    "print name \n",
    "assert name == \"MOUNTAIN VIEW MOFFETT FLD NAS\""
   ]
  },
  {
   "cell_type": "markdown",
   "metadata": {},
   "source": [
    "Soluzione elegante (come hanno risolto nel corso)"
   ]
  },
  {
   "cell_type": "code",
   "execution_count": 37,
   "metadata": {
    "collapsed": false
   },
   "outputs": [
    {
     "name": "stdout",
     "output_type": "stream",
     "text": [
      "MOUNTAIN VIEW MOFFETT FLD NAS \n",
      "\n",
      "['Date (MM/DD/YYYY)', 'Time (HH:MM)', 'ETR (W/m^2)', 'ETRN (W/m^2)', 'GHI (W/m^2)', 'GHI source', 'GHI uncert (%)', 'DNI (W/m^2)', 'DNI source', 'DNI uncert (%)', 'DHI (W/m^2)', 'DHI source', 'DHI uncert (%)', 'GH illum (lx)', 'GH illum source', 'Global illum uncert (%)', 'DN illum (lx)', 'DN illum source', 'DN illum uncert (%)', 'DH illum (lx)', 'DH illum source', 'DH illum uncert (%)', 'Zenith lum (cd/m^2)', 'Zenith lum source', 'Zenith lum uncert (%)', 'TotCld (tenths)', 'TotCld source', 'TotCld uncert (code)', 'OpqCld (tenths)', 'OpqCld source', 'OpqCld uncert (code)', 'Dry-bulb (C)', 'Dry-bulb source', 'Dry-bulb uncert (code)', 'Dew-point (C)', 'Dew-point source', 'Dew-point uncert (code)', 'RHum (%)', 'RHum source', 'RHum uncert (code)', 'Pressure (mbar)', 'Pressure source', 'Pressure uncert (code)', 'Wdir (degrees)', 'Wdir source', 'Wdir uncert (code)', 'Wspd (m/s)', 'Wspd source', 'Wspd uncert (code)', 'Hvis (m)', 'Hvis source', 'Hvis uncert (code)', 'CeilHgt (m)', 'CeilHgt source', 'CeilHgt uncert (code)', 'Pwat (cm)', 'Pwat source', 'Pwat uncert (code)', 'AOD (unitless)', 'AOD source', 'AOD uncert (code)', 'Alb (unitless)', 'Alb source', 'Alb uncert (code)', 'Lprecip depth (mm)', 'Lprecip quantity (hr)', 'Lprecip source', 'Lprecip uncert (code)'] \n",
      "\n"
     ]
    }
   ],
   "source": [
    "data = []\n",
    "\n",
    "with open('data/745090.csv','rb') as csvfile:\n",
    "    rows = csv.reader(csvfile,delimiter=',')\n",
    "    name = rows.next()[1]\n",
    "    print name,'\\n'\n",
    "    headers = rows.next()\n",
    "    print headers,'\\n'\n",
    "    data = [row for row in rows]"
   ]
  },
  {
   "cell_type": "code",
   "execution_count": 38,
   "metadata": {
    "collapsed": false
   },
   "outputs": [
    {
     "name": "stdout",
     "output_type": "stream",
     "text": [
      "['01/01/2005', '01:00', '0', '0', '0', '2', '0', '0', '2', '0', '0', '2', '0', '0', '2', '0', '0', '2', '0', '0', '2', '0', '0', '2', '0', '3', 'E', '9', '3', 'E', '9', '8.0', 'A', '7', '6.0', 'A', '7', '87', 'A', '7', '1013', 'A', '7', '150', 'A', '7', '2.1', 'A', '7', '16100', 'A', '7', '77777', 'A', '7', '1.1', 'E', '8', '0.099', 'F', '8', '0.160', 'F', '8', '0', '1', 'A', '7']\n"
     ]
    }
   ],
   "source": [
    "print data[0]"
   ]
  },
  {
   "cell_type": "code",
   "execution_count": null,
   "metadata": {
    "collapsed": true
   },
   "outputs": [],
   "source": []
  }
 ],
 "metadata": {
  "kernelspec": {
   "display_name": "Python 2",
   "language": "python",
   "name": "python2"
  },
  "language_info": {
   "codemirror_mode": {
    "name": "ipython",
    "version": 2
   },
   "file_extension": ".py",
   "mimetype": "text/x-python",
   "name": "python",
   "nbconvert_exporter": "python",
   "pygments_lexer": "ipython2",
   "version": "2.7.9"
  }
 },
 "nbformat": 4,
 "nbformat_minor": 0
}
