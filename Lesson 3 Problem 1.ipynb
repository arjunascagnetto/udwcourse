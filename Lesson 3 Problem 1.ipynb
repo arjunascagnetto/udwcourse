{
 "cells": [
  {
   "cell_type": "markdown",
   "metadata": {},
   "source": [
    "In this problem set you work with cities infobox data, audit it, come up with a\n",
    "cleaning idea and then clean it up. \n",
    "\n",
    "In the first exercise we want you to audit\n",
    "the datatypes that can be found in some particular fields in the dataset.\n",
    "\n",
    "The possible types of values can be:\n",
    "\n",
    "- NoneType if the value is a string \"NULL\" or an empty string \"\"\n",
    "- list, if the value starts with \"{\"\n",
    "- int, if the value can be cast to int\n",
    "- float, if the value can be cast to float, but CANNOT be cast to int. For example, '3.23e+07' should be considered a float because it can be cast as float but int('3.23e+07') will throw a ValueError\n",
    "- 'str', for all other values\n",
    "\n",
    "The audit_file function should return a dictionary containing fieldnames and a \n",
    "SET of the types that can be found in the field. e.g.\n",
    "{\"field1\": set([type(float()), type(int()), type(str())]),\n",
    " \"field2\": set([type(str())]),\n",
    "  ....\n",
    "}\n",
    "The type() function returns a type object describing the argument given to the \n",
    "function. You can also use examples of objects to create type objects, e.g.\n",
    "type(1.1) for a float: see the test function below for examples.\n",
    "\n",
    "All the data initially is a string, so you have to do some checks on the values\n",
    "first."
   ]
  },
  {
   "cell_type": "code",
   "execution_count": 1,
   "metadata": {
    "collapsed": true
   },
   "outputs": [],
   "source": [
    "import codecs\n",
    "import csv\n",
    "import json\n",
    "import pprint\n",
    "\n",
    "CITIES = 'data/cities.csv'\n",
    "\n",
    "FIELDS = [\"name\", \"timeZone_label\", \"utcOffset\", \"homepage\", \"governmentType_label\", \"isPartOf_label\", \n",
    "          \"areaCode\", \"populationTotal\", \"elevation\", \"maximumElevation\", \"minimumElevation\", \"populationDensity\", \n",
    "          \"wgs84_pos#lat\", \"wgs84_pos#long\", \"areaLand\", \"areaMetro\", \"areaUrban\"]"
   ]
  },
  {
   "cell_type": "code",
   "execution_count": 60,
   "metadata": {
    "collapsed": true
   },
   "outputs": [
    {
     "name": "stdout",
     "output_type": "stream",
     "text": [
      "3 --> ['Kud', 'Indian Standard Time', '+5:30', 'NULL', 'NULL', '{Jammu and Kashmir|Udhampur district}', 'NULL', '1140', '1855.0', 'NULL', 'NULL', 'NULL', '33.08', '75.28', 'NULL', 'NULL', 'NULL'] \n",
      "\n",
      "4 --> ['Kuju', 'Indian Standard Time', '+5:30', 'NULL', 'NULL', '{Jharkhand|Ramgarh district}', 'NULL', '18049', '426.0', 'NULL', 'NULL', 'NULL', '23.72', '85.5', 'NULL', 'NULL', 'NULL'] \n",
      "\n",
      "5 --> ['Kumbhraj', 'Indian Standard Time', '+5:30', 'NULL', 'NULL', '{Guna district|Madhya Pradesh}', 'NULL', '13999', '419.0', 'NULL', 'NULL', 'NULL', '24.37', '77.05', 'NULL', 'NULL', 'NULL'] \n",
      "\n",
      "6 --> ['Kumhari', 'Indian Standard Time', '+5:30', 'NULL', 'NULL', '{Chhattisgarh|Durg district}', 'NULL', '29737', '285.0', 'NULL', 'NULL', 'NULL', '21.27', '81.52', 'NULL', 'NULL', 'NULL'] \n",
      "\n",
      "7 --> ['Kunigal', 'Indian Standard Time', '+5:30', 'NULL', 'NULL', '{Karnataka|Tumkur district}', '91-8132', '30291', '773.0', 'NULL', 'NULL', 'NULL', '13.02', '77.03', 'NULL', 'NULL', 'NULL'] \n",
      "\n",
      "8 --> ['Kurgunta', 'Indian Standard Time', '+5:30', 'NULL', 'NULL', '{Gulbarga district|Karnataka}', 'NULL', '8584', '418.0', 'NULL', 'NULL', 'NULL', '17.2', '77.35', 'NULL', 'NULL', 'NULL'] \n",
      "\n",
      "9 --> ['Athens', 'Central Time Zone (North America)', '{-5|-6}', 'NULL', 'NULL', '{Alabama|Limestone County Alabama}', '256 938', '21897', '{243.1|243.23}', 'NULL', 'NULL', 'NULL', '34.7897', '-86.9694', '{1.01787e+08|1.019e+08}', 'NULL', 'NULL'] \n",
      "\n",
      "10 --> ['Demopolis', 'Central Time Zone (North America)', '{-5|-6}', 'http://www.demopolisal.gov', 'NULL', '{Alabama|Marengo County Alabama}', '334', '7540', '{36.8808|37.0}', 'NULL', 'NULL', '{233.4|234.789}', '32.5094', '-87.8372', '{3.15979e+07|3.17e+07}', 'NULL', 'NULL'] \n",
      "\n",
      "11 --> ['Chelsea Alabama', 'Central Time Zone (North America)', '{-5|-6}', 'http://www.cityofchelsea.com', 'NULL', '{Alabama|Shelby County Alabama}', '205', '10183', '{156.0|156.058}', 'NULL', 'NULL', '{181.159|1215.3}', '33.3292', '-86.6508', '{5.51667e+07|5.53e+07}', 'NULL', 'NULL'] \n",
      "\n",
      "12 --> ['Pell City Alabama', 'Central Time Zone (North America)', '{-5|-6}', 'http://www.epell.net/', 'NULL', '{Alabama|St. Clair County Alabama}', '205', '12463', '{181.966|182.0}', 'NULL', 'NULL', '{176.912|177.3}', '33.5708', '-86.2739', '{6.36e+07|6.37137e+07}', 'NULL', 'NULL'] \n",
      "\n",
      "13 --> ['City of Northport', 'Central Time Zone (North America)', '{-5|-6}', 'http://www.cityofnorthport.org/', 'NULL', '{Alabama|Tuscaloosa County Alabama}', '205', '23442', '{67.0|67.056}', 'NULL', 'NULL', '{504.8|507.029}', '33.2539', '-87.5922', '{3.78138e+07|3.79e+07}', 'NULL', 'NULL'] \n",
      "\n",
      "14 --> ['Sand Point', 'Alaska Time Zone', '{-8|-9}', 'http://www.ci.sandpoint.ak.us/', 'Mayor', '{Alaska|Aleutians East Borough Alaska}', '907', '976', '{11.8872|12.0}', 'NULL', 'NULL', '{47.1|47.1431}', '55.3367', '-160.493', '{2.02e+07|2.02019e+07}', 'NULL', 'NULL'] \n",
      "\n",
      "15 --> ['Unalaska Alaska', 'Alaska Time Zone', '{-8|-9}', 'NULL', 'NULL', '{Alaska|Aleutians West Census Area Alaska}', '907', '4376', '{3.9624|4.0}', 'NULL', 'NULL', 'NULL', '53.8889', '-166.527', '{2.87489e+08|2.875e+08}', 'NULL', 'NULL'] \n",
      "\n",
      "16 --> ['City of Menlo Park', 'Pacific Time Zone', '{-7|-8}', 'http://www.menlopark.org/', 'NULL', '{California|San Mateo County California}', '650', '32026', '{21.9456|22.0}', 'NULL', 'NULL', 'NULL', '37.4542', '-122.179', '{2.5355e+07|2.5356e+07}', 'NULL', 'NULL'] \n",
      "\n",
      "17 --> ['{Negtemiut|Nightmute}', 'Alaska Time Zone', '{-8|-9}', 'NULL', 'NULL', '{Alaska|Bethel Census Area Alaska}', '907', '280', '{22.86|23.0}', 'NULL', 'NULL', 'NULL', '60.4914', '-164.826', '{2.512e+08|2.51229e+08}', 'NULL', 'NULL'] \n",
      "\n",
      "18 --> ['Fairbanks Alaska', 'Alaska Time Zone', '{-8|-9}', 'NULL', 'Home Rule in the United States', '{Alaska|Fairbanks North Star Borough Alaska}', '907', '31535', '{135.941|136.0}', 'NULL', 'NULL', '{379.114|379.7}', '64.8436', '-147.723', '{8.25e+07|8.26206e+07}', 'NULL', 'NULL'] \n",
      "\n",
      "19 --> ['Homer', 'Alaska Time Zone', '{-8|-9}', 'http://www.ci.homer.ak.us/', 'NULL', '{Alaska|Kenai Peninsula Borough Alaska}', '907', '5003', '{28.956|29.0}', 'NULL', 'NULL', 'NULL', '59.6431', '-151.526', '3.58195e+07', 'NULL', 'NULL'] \n",
      "\n",
      "20 --> ['Ketchikan Alaska', 'Alaska Time Zone', '{-8|-9}', 'NULL', 'NULL', '{Alaska|Ketchikan Gateway Borough Alaska}', '907', '8050', '0.0', 'NULL', 'NULL', '714.1', '55.35', '-131.673', '1.13e+07', 'NULL', 'NULL'] \n",
      "\n",
      "21 --> ['{Nuniaq|Old Harbor}', 'Alaska Time Zone', '{-8|-9}', 'NULL', 'NULL', '{Alaska|Kodiak Island Borough Alaska}', '907', '218', '{0.9144|1.0}', 'NULL', 'NULL', '4.1', '57.1972', '-153.308', '5.32e+07', 'NULL', 'NULL'] \n",
      "\n",
      "22 --> ['Rainier Washington', 'Pacific Time Zone', '{-7|-8}', 'NULL', 'NULL', '{Thurston County Washington|Washington (state)}', '360', '1794', '{131.978|132.0}', 'NULL', 'NULL', '{400.388|400.4}', '46.8908', '-122.69', '{4.48e+06|4.48068e+06}', 'NULL', 'NULL'] \n",
      "\n",
      "23 --> ['City of Blaine', 'Pacific Time Zone', '{-7|-8}', 'http://www.cityofblaine.com/', 'NULL', '{Washington (state)|Whatcom County Washington}', '360', '4684', '{16.0|16.1544}', 'NULL', 'NULL', '{321.2|321.237}', '48.9881', '-122.744', '{1.458e+07|1.45816e+07}', 'NULL', 'NULL'] \n",
      "\n",
      "24 --> ['Ferndale Washington', 'Pacific Time Zone', '{-7|-8}', 'http://www.ci.ferndale.wa.us/', 'NULL', '{Washington (state)|Whatcom County Washington}', '360', '11415', '{10.9728|11.0}', 'NULL', 'NULL', '{666.76|666.8}', '48.8489', '-122.59', '{1.71198e+07|1.712e+07}', 'NULL', 'NULL'] \n",
      "\n",
      "25 --> ['Mabton Washington', 'Pacific Time Zone', '{-7|-8}', 'NULL', 'NULL', '{Washington (state)|Yakima County Washington}', '509', '2286', '{217.932|218.0}', 'NULL', 'NULL', '{1103.29|1103.3}', '46.2117', '-119.996', '{2.07e+06|2.07199e+06}', 'NULL', 'NULL'] \n",
      "\n",
      "26 --> ['Zillah Washington', 'Pacific Time Zone', '{-7|-8}', 'http://www.cityofzillah.us/', 'NULL', '{Washington (state)|Yakima County Washington}', '509', '2964', '{249.936|250.0}', 'NULL', 'NULL', '{642.9|642.937}', '46.4036', '-120.261', '{4.61e+06|4.61018e+06}', 'NULL', 'NULL'] \n",
      "\n",
      "27 --> ['Kenova West Virginia', 'Eastern Time Zone', '{-4|-5}', 'http://www.cityofkenova.com', 'NULL', '{Wayne County West Virginia|West Virginia}', '304', '3216', '{170.0|170.078}', 'NULL', 'NULL', '{985.487|985.5}', '38.3997', '-82.5786', '{3.26e+06|3.26339e+06}', 'NULL', 'NULL'] \n",
      "\n",
      "28 --> ['Fitchburg Wisconsin', 'Central Time Zone (North America)', '{-5|-6}', 'http://www.city.fitchburg.wi.us/index.php', 'NULL', '{Dane County Wisconsin|Wisconsin}', '608', '25260', 'NULL', 'NULL', 'NULL', '{278.882|278.9}', '43.0064', '-89.4314', '{9.057e+07|9.05719e+07}', 'NULL', 'NULL'] \n",
      "\n",
      "29 --> ['Stoughton Wisconsin', 'Central Time Zone (North America)', '{-5|-6}', 'http://www.cityofstoughton.com', 'NULL', '{Dane County Wisconsin|Wisconsin}', '608', '12611', '{267.0|267.005}', 'NULL', 'NULL', '{989.657|989.7}', '42.9211', '-89.2244', '{1.274e+07|1.27427e+07}', 'NULL', 'NULL'] \n",
      "\n",
      "30 --> ['Watertown Wisconsin', 'Central Time Zone (North America)', '{-5|-6}', 'NULL', 'NULL', '{Dodge County Wisconsin|Jefferson County Wisconsin|Wisconsin}', '920', '23861', '{259.994|260.0}', 'NULL', 'NULL', '{760.776|760.8}', '43.2', '-88.7167', '{3.136e+07|3.13648e+07}', 'NULL', 'NULL'] \n",
      "\n",
      "31 --> ['LaCrosse Wisconsin', 'Central Time Zone (North America)', '{-5|-6}', 'http://www.cityoflacrosse.org/', 'NULL', '{La Crosse County Wisconsin|Wisconsin}', '608', '51320', '{203.911|204.0}', 'NULL', 'NULL', '{965.6|965.641}', '43.8133', '-91.2331', '{5.31466e+07|5.315e+07}', 'NULL', 'NULL'] \n",
      "\n",
      "32 --> ['Wauwatosa Wisconsin', 'Central Time Zone (North America)', '{-5|-6}', 'http://www.wauwatosa.net', 'NULL', '{Milwaukee County Wisconsin|Wisconsin}', '414', '46396', '{205.0|205.13}', 'NULL', 'NULL', '{1351.98|1352.0}', '43.0589', '-88.0261', '{3.43173e+07|3.432e+07}', 'NULL', 'NULL'] \n",
      "\n",
      "33 --> ['Osseo Wisconsin', 'Central Time Zone (North America)', '{-5|-6}', 'NULL', 'NULL', '{Trempealeau County Wisconsin|Wisconsin}', '715 & 534', '1701', '{291.998|292.0}', 'NULL', 'NULL', '{318.8|318.805}', '44.5783', '-91.2183', '{5.33538e+06|5.34e+06}', 'NULL', 'NULL'] \n",
      "\n",
      "34 --> ['Muskego Wisconsin', 'Central Time Zone (North America)', '{-5|-6}', 'http://www.ci.muskego.wi.us/', 'NULL', '{Waukesha County Wisconsin|Wisconsin}', '414 262', '24135', '{244.0|244.145}', 'NULL', 'NULL', '{294.9|294.905}', '42.9012', '-88.1246', '{8.184e+07|8.18436e+07}', 'NULL', 'NULL'] \n",
      "\n",
      "35 --> ['Clintonville Wisconsin', 'Central Time Zone (North America)', '{-5|-6}', 'NULL', 'NULL', '{Waupaca County Wisconsin|Wisconsin}', '715 & 534', '4559', '{248.0|248.107}', 'NULL', 'NULL', '{400.0|400.04}', '44.6242', '-88.7581', '{1.13959e+07|1.14e+07}', 'NULL', 'NULL'] \n",
      "\n",
      "36 --> ['Hartford Wisconsin', 'Central Time Zone (North America)', '{-5|-6}', 'NULL', 'NULL', '{Dodge County Wisconsin|Washington County Wisconsin|Wisconsin}', '262', '14223', '{299.0|299.009}', 'NULL', 'NULL', '{691.6|691.625}', '43.3183', '-88.3789', '{2.056e+07|2.05645e+07}', 'NULL', 'NULL'] \n",
      "\n",
      "37 --> ['City of Spokane Valley Washington', 'Pacific Time Zone', '{-7|-8}', 'http://www.spokanevalley.org/', 'NULL', '{Spokane County Washington|Washington (state)}', '509', '89755', 'NULL', 'NULL', 'NULL', '{917.5|917.533}', '47.6733', '-117.239', '{9.782e+07|9.78239e+07}', 'NULL', 'NULL'] \n",
      "\n",
      "38 --> ['NULL', 'Time in China', '+8', 'http://www.harbin.gov.cn/', 'NULL', 'Heilongjiang', '451', '10635971', '{148.742|150.0}', 'NULL', 'NULL', 'NULL', '45.75', '126.633', 'NULL', '7.068e+09', '7.068e+09'] \n",
      "\n",
      "39 --> ['Dortmund', 'NULL', 'NULL', 'http://www.dortmund.de/', 'NULL', 'NULL', '0231 02304', 'NULL', '86.0', 'NULL', 'NULL', 'NULL', '51.5167', '7.46667', 'NULL', 'NULL', 'NULL'] \n",
      "\n",
      "40 --> ['Stratford Iowa', 'Central Time Zone (North America)', '{-5|-6}', 'http://www.stratfordiowa.com', 'NULL', '{Hamilton County Iowa|Iowa|Webster County Iowa}', '515', '743', '{338.0|338.023}', 'NULL', 'NULL', '{150.194|150.2}', '42.2708', '-93.9269', '{4.94688e+06|4.95e+06}', 'NULL', 'NULL'] \n",
      "\n",
      "41 --> ['Forest City Iowa', 'Central Time Zone (North America)', '{-5|-6}', 'NULL', 'NULL', '{Hancock County Iowa|Iowa|Winnebago County Iowa}', '641', '4151', '{383.0|383.134}', 'NULL', 'NULL', '{345.4|345.407}', '43.2619', '-93.6403', '{1.20175e+07|1.202e+07}', 'NULL', 'NULL'] \n",
      "\n"
     ]
    }
   ],
   "source": [
    "with open(CITIES,'r') as infile:\n",
    "    soup = csv.DictReader(infile)\n",
    "    for i,row in enumerate(soup):\n",
    "        if 'dbpedia' in row['URI']:\n",
    "            print i,'-->',[row[key] for key in FIELDS],'\\n'"
   ]
  },
  {
   "cell_type": "code",
   "execution_count": 61,
   "metadata": {
    "collapsed": false
   },
   "outputs": [],
   "source": [
    "data = []\n",
    "with open(CITIES,'r') as infile:\n",
    "    soup = csv.DictReader(infile)\n",
    "    for row in soup:\n",
    "        if 'dbpedia' in row['URI']:\n",
    "            data.append([row[x] for x in FIELDS])"
   ]
  },
  {
   "cell_type": "code",
   "execution_count": 93,
   "metadata": {
    "collapsed": false
   },
   "outputs": [
    {
     "data": {
      "text/plain": [
       "39"
      ]
     },
     "execution_count": 93,
     "metadata": {},
     "output_type": "execute_result"
    }
   ],
   "source": [
    "len(data)"
   ]
  },
  {
   "cell_type": "code",
   "execution_count": 63,
   "metadata": {
    "collapsed": false
   },
   "outputs": [
    {
     "data": {
      "text/plain": [
       "{17}"
      ]
     },
     "execution_count": 63,
     "metadata": {},
     "output_type": "execute_result"
    }
   ],
   "source": [
    "l = []\n",
    "for i in range(len(data)):\n",
    "    l.append(len(data[i]))\n",
    "set(l)"
   ]
  },
  {
   "cell_type": "code",
   "execution_count": 68,
   "metadata": {
    "collapsed": false
   },
   "outputs": [
    {
     "name": "stdout",
     "output_type": "stream",
     "text": [
      "<type 'float'> <type 'list'> <type 'NoneType'>\n"
     ]
    }
   ],
   "source": [
    "print type(1.1),type([]),type(None)"
   ]
  },
  {
   "cell_type": "code",
   "execution_count": 94,
   "metadata": {
    "collapsed": false
   },
   "outputs": [
    {
     "data": {
      "text/plain": [
       "[['Kud',\n",
       "  'Indian Standard Time',\n",
       "  '+5:30',\n",
       "  'NULL',\n",
       "  'NULL',\n",
       "  '{Jammu and Kashmir|Udhampur district}',\n",
       "  'NULL',\n",
       "  '1140',\n",
       "  '1855.0',\n",
       "  'NULL',\n",
       "  'NULL',\n",
       "  'NULL',\n",
       "  '33.08',\n",
       "  '75.28',\n",
       "  'NULL',\n",
       "  'NULL',\n",
       "  'NULL'],\n",
       " ['Kuju',\n",
       "  'Indian Standard Time',\n",
       "  '+5:30',\n",
       "  'NULL',\n",
       "  'NULL',\n",
       "  '{Jharkhand|Ramgarh district}',\n",
       "  'NULL',\n",
       "  '18049',\n",
       "  '426.0',\n",
       "  'NULL',\n",
       "  'NULL',\n",
       "  'NULL',\n",
       "  '23.72',\n",
       "  '85.5',\n",
       "  'NULL',\n",
       "  'NULL',\n",
       "  'NULL']]"
      ]
     },
     "execution_count": 94,
     "metadata": {},
     "output_type": "execute_result"
    }
   ],
   "source": [
    "data[:2]"
   ]
  },
  {
   "cell_type": "code",
   "execution_count": 86,
   "metadata": {
    "collapsed": false
   },
   "outputs": [],
   "source": [
    "soup = csv.DictReader(open('data/cities.csv'))"
   ]
  },
  {
   "cell_type": "code",
   "execution_count": 89,
   "metadata": {
    "collapsed": false
   },
   "outputs": [
    {
     "data": {
      "text/plain": [
       "dict"
      ]
     },
     "execution_count": 89,
     "metadata": {},
     "output_type": "execute_result"
    }
   ],
   "source": [
    "type(r)"
   ]
  },
  {
   "cell_type": "code",
   "execution_count": 91,
   "metadata": {
    "collapsed": false
   },
   "outputs": [
    {
     "data": {
      "text/plain": [
       "[('code', 'NULL'),\n",
       " ('populationRural', 'NULL'),\n",
       " ('state_label', 'NULL'),\n",
       " ('twinCity_label', 'NULL'),\n",
       " ('mayor_label', 'NULL'),\n",
       " ('mayor', 'NULL'),\n",
       " ('governingBody_label', 'NULL'),\n",
       " ('areaLand', '{1.20175e+07|1.202e+07}'),\n",
       " ('rdf-schema#label', 'Forest City Iowa'),\n",
       " ('foundingPerson_label', 'NULL'),\n",
       " ('division_label', 'NULL'),\n",
       " ('location', 'NULL'),\n",
       " ('foundingYear', 'NULL'),\n",
       " ('homepage', 'NULL'),\n",
       " ('division', 'NULL'),\n",
       " ('elevation', '{383.0|383.134}'),\n",
       " ('government', 'NULL'),\n",
       " ('URI', 'http://dbpedia.org/resource/Forest_City,_Iowa'),\n",
       " ('isPartOf_label', '{Hancock County Iowa|Iowa|Winnebago County Iowa}'),\n",
       " ('areaWater', '0.0'),\n",
       " ('type_label', 'City'),\n",
       " ('part_label', 'NULL'),\n",
       " ('leader', 'NULL'),\n",
       " ('city_label', 'NULL'),\n",
       " ('minimumElevation', 'NULL'),\n",
       " ('foundingDate', '1878-06-14'),\n",
       " ('twinCountry_label', 'NULL'),\n",
       " ('municipality_label', 'NULL'),\n",
       " ('wgs84_pos#long', '-93.6403'),\n",
       " ('anthem', 'NULL'),\n",
       " ('populationUrbanDensity', 'NULL'),\n",
       " ('state', 'NULL'),\n",
       " ('district_label', 'NULL'),\n",
       " ('administrativeDistrict_label', 'NULL'),\n",
       " ('isPartOf',\n",
       "  '{http://dbpedia.org/resource/Hancock_County,_Iowa|http://dbpedia.org/resource/Iowa|http://dbpedia.org/resource/Winnebago_County,_Iowa}'),\n",
       " ('governingBody', 'NULL'),\n",
       " ('thumbnail',\n",
       "  'http://upload.wikimedia.org/wikipedia/commons/thumb/7/75/Hancock_County_Iowa_Incorporated_and_Unincorporated_areas_Forest_City_Highlighted.svg/200px-Hancock_County_Iowa_Incorporated_and_Unincorporated_areas_Forest_City_Highlighted.svg.png'),\n",
       " ('populationMetro', 'NULL'),\n",
       " ('daylightSavingTimeZone_label', 'NULL'),\n",
       " ('leaderParty', 'NULL'),\n",
       " ('leaderName_label', 'NULL'),\n",
       " ('daylightSavingTimeZone', 'NULL'),\n",
       " ('populationAsOf', 'NULL'),\n",
       " ('anthem_label', 'NULL'),\n",
       " ('motto', \"{Friends are Closer|Where Nature's Close and}\"),\n",
       " ('governmentType_label', 'NULL'),\n",
       " ('populationTotalRanking', 'NULL'),\n",
       " ('populationMetroDensity', 'NULL'),\n",
       " ('country', 'http://dbpedia.org/resource/United_States'),\n",
       " ('region', 'NULL'),\n",
       " ('region_label', 'NULL'),\n",
       " ('federalState', 'NULL'),\n",
       " ('timeZone', 'http://dbpedia.org/resource/Central_Time_Zone_(North_America)'),\n",
       " ('leader_label', 'NULL'),\n",
       " ('leaderName', 'NULL'),\n",
       " ('point', '43.261944444444445 -93.64027777777778'),\n",
       " ('municipality', 'NULL'),\n",
       " ('thumbnail_label',\n",
       "  '200px-Hancock_County_Iowa_Incorporated_and_Unincorporated_areas_Forest_City_Highlighted.svg.png'),\n",
       " ('city', 'NULL'),\n",
       " ('district', 'NULL'),\n",
       " ('area', 'NULL'),\n",
       " ('areaCode', '641'),\n",
       " ('name', 'Forest City Iowa'),\n",
       " ('populationTotal', '4151'),\n",
       " ('areaRural', 'NULL'),\n",
       " ('areaUrban', 'NULL'),\n",
       " ('type', 'http://dbpedia.org/resource/City'),\n",
       " ('location_label', 'NULL'),\n",
       " ('22-rdf-syntax-ns#type',\n",
       "  '{http://dbpedia.org/ontology/City|http://dbpedia.org/ontology/Place|http://dbpedia.org/ontology/PopulatedPlace|http://dbpedia.org/ontology/Settlement|http://schema.org/City|http://schema.org/Place|http://www.opengis.net/gml/_Feature|http://www.w3.org/2002/07/owl#Thing}'),\n",
       " ('part', 'NULL'),\n",
       " ('areaMetro', 'NULL'),\n",
       " ('depiction_label',\n",
       "  'Hancock_County_Iowa_Incorporated_and_Unincorporated_areas_Forest_City_Highlighted.svg'),\n",
       " ('government_label', 'NULL'),\n",
       " ('isoCodeRegion', 'NULL'),\n",
       " ('leaderTitle', 'NULL'),\n",
       " ('federalState_label', 'NULL'),\n",
       " ('isoCodeRegion_label', 'NULL'),\n",
       " ('country_label', 'United States'),\n",
       " ('administrativeDistrict', 'NULL'),\n",
       " ('homepage_label', 'NULL'),\n",
       " ('22-rdf-syntax-ns#type_label',\n",
       "  '{city|place|populated place|municipality|City|Place|_Feature|owl#Thing}'),\n",
       " ('depiction',\n",
       "  'http://upload.wikimedia.org/wikipedia/commons/7/75/Hancock_County_Iowa_Incorporated_and_Unincorporated_areas_Forest_City_Highlighted.svg'),\n",
       " ('timeZone_label', 'Central Time Zone (North America)'),\n",
       " ('areaTotal', '{1.20175e+07|1.202e+07}'),\n",
       " ('governmentType', 'NULL'),\n",
       " ('maximumElevation', 'NULL'),\n",
       " ('rdf-schema#comment',\n",
       "  \"Forest City is a city in Hancock and Winnebago Counties in the U.S. state of Iowa and the county seat of Winnebago County. The population was 4151 in the 2010 census a decline from the 4362 population in the 2000 census. Forest City claims to be the smallest city in the United States with its own YMCA thanks to the benevolence of John K. and Luise V. Hanson. In reality it's not even the smallest city in Iowa with its own YMCA.\"),\n",
       " ('nick', 'NULL'),\n",
       " ('postalCode', '50436'),\n",
       " ('wgs84_pos#lat', '43.2619'),\n",
       " ('populationDensity', '{345.4|345.407}'),\n",
       " ('twinCountry', 'NULL'),\n",
       " ('percentageOfAreaWater', 'NULL'),\n",
       " ('leaderParty_label', 'NULL'),\n",
       " ('synonym', 'NULL'),\n",
       " ('twinCity', 'NULL'),\n",
       " ('utcOffset', '{-5|-6}'),\n",
       " ('foundingPerson', 'NULL'),\n",
       " ('populationUrban', 'NULL')]"
      ]
     },
     "execution_count": 91,
     "metadata": {},
     "output_type": "execute_result"
    }
   ],
   "source": [
    "r.items()"
   ]
  },
  {
   "cell_type": "code",
   "execution_count": null,
   "metadata": {
    "collapsed": true
   },
   "outputs": [],
   "source": []
  },
  {
   "cell_type": "code",
   "execution_count": null,
   "metadata": {
    "collapsed": true
   },
   "outputs": [],
   "source": []
  },
  {
   "cell_type": "code",
   "execution_count": null,
   "metadata": {
    "collapsed": true
   },
   "outputs": [],
   "source": []
  },
  {
   "cell_type": "code",
   "execution_count": 77,
   "metadata": {
    "collapsed": true
   },
   "outputs": [],
   "source": [
    "def audit_file(filename, fields):\n",
    "    fieldtypes = {}\n",
    "    #CODE HERE\n",
    "    return fieldtypes"
   ]
  },
  {
   "cell_type": "code",
   "execution_count": null,
   "metadata": {
    "collapsed": true
   },
   "outputs": [],
   "source": [
    "def test():\n",
    "    fieldtypes = audit_file(CITIES, FIELDS)\n",
    "\n",
    "    pprint.pprint(fieldtypes)\n",
    "\n",
    "    assert fieldtypes[\"areaLand\"] == set([type(1.1), type([]), type(None)])\n",
    "    assert fieldtypes['areaMetro'] == set([type(1.1), type(None)])\n",
    "    \n",
    "if __name__ == \"__main__\":\n",
    "    test()"
   ]
  }
 ],
 "metadata": {
  "kernelspec": {
   "display_name": "Python 2",
   "language": "python",
   "name": "python2"
  },
  "language_info": {
   "codemirror_mode": {
    "name": "ipython",
    "version": 2
   },
   "file_extension": ".py",
   "mimetype": "text/x-python",
   "name": "python",
   "nbconvert_exporter": "python",
   "pygments_lexer": "ipython2",
   "version": "2.7.9"
  }
 },
 "nbformat": 4,
 "nbformat_minor": 0
}
