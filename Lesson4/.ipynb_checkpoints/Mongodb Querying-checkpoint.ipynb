{
 "cells": [
  {
   "cell_type": "code",
   "execution_count": 1,
   "metadata": {
    "collapsed": true
   },
   "outputs": [],
   "source": [
    "from pymongo import MongoClient\n",
    "client = MongoClient(\"mongodb://localhost:27017\")\n",
    "db = client.examples"
   ]
  },
  {
   "cell_type": "code",
   "execution_count": 2,
   "metadata": {
    "collapsed": false
   },
   "outputs": [
    {
     "data": {
      "text/plain": [
       "[u'system.indexes', u'autos']"
      ]
     },
     "execution_count": 2,
     "metadata": {},
     "output_type": "execute_result"
    }
   ],
   "source": [
    "db.collection_names()"
   ]
  },
  {
   "cell_type": "code",
   "execution_count": 3,
   "metadata": {
    "collapsed": false
   },
   "outputs": [
    {
     "data": {
      "text/plain": [
       "[u'example', u'db1', u'test', u'local', u'examples']"
      ]
     },
     "execution_count": 3,
     "metadata": {},
     "output_type": "execute_result"
    }
   ],
   "source": [
    "client.database_names()"
   ]
  },
  {
   "cell_type": "code",
   "execution_count": 4,
   "metadata": {
    "collapsed": false
   },
   "outputs": [
    {
     "data": {
      "text/plain": [
       "[u'system.indexes', u'autos']"
      ]
     },
     "execution_count": 4,
     "metadata": {},
     "output_type": "execute_result"
    }
   ],
   "source": [
    "client.examples.collection_names()"
   ]
  },
  {
   "cell_type": "code",
   "execution_count": 5,
   "metadata": {
    "collapsed": false
   },
   "outputs": [
    {
     "data": {
      "text/plain": [
       "46"
      ]
     },
     "execution_count": 5,
     "metadata": {},
     "output_type": "execute_result"
    }
   ],
   "source": [
    "db.autos.count()"
   ]
  },
  {
   "cell_type": "code",
   "execution_count": 6,
   "metadata": {
    "collapsed": false
   },
   "outputs": [
    {
     "data": {
      "text/plain": [
       "{u'_id': ObjectId('56b9e4169f3bc31936a39e11'),\n",
       " u'assembly': [u'Hiroshima', u'Japan'],\n",
       " u'class': u'roadster',\n",
       " u'layout': u'front-engine rear-wheel-drive layout',\n",
       " u'manufacturer': u'Mazda',\n",
       " u'modelYears': [],\n",
       " u'name': [u'Eunos Roadster',\n",
       "  u'Mazda MX-5',\n",
       "  u'Mazda MX-5 Miata',\n",
       "  u'Mazda Miata',\n",
       "  u'Mazda Roadster'],\n",
       " u'productionYears': []}"
      ]
     },
     "execution_count": 6,
     "metadata": {},
     "output_type": "execute_result"
    }
   ],
   "source": [
    "db.autos.find_one()"
   ]
  },
  {
   "cell_type": "code",
   "execution_count": 11,
   "metadata": {
    "collapsed": false
   },
   "outputs": [
    {
     "name": "stdout",
     "output_type": "stream",
     "text": [
      "{u'assembly': [u'Hiroshima', u'Japan'], u'name': [u'Eunos Roadster', u'Mazda MX-5', u'Mazda MX-5 Miata', u'Mazda Miata', u'Mazda Roadster'], u'modelYears': [], u'productionYears': [], u'layout': u'front-engine rear-wheel-drive layout', u'_id': ObjectId('56b9e4169f3bc31936a39e11'), u'class': u'roadster', u'manufacturer': u'Mazda'} \n",
      "\n",
      "{u'assembly': [u'Hiratsuka Kanagawa', u'Japan', u'Tochigi Tochigi', u'Yokosuka Kanagawa'], u'name': [u'Nissan Fairlady Z (Japan)', u'Nissan Fairlady Z (Z-car series)'], u'modelYears': [], u'productionYears': [1969], u'layout': u'front-engine rear-wheel-drive layout', u'_id': ObjectId('56b9e4169f3bc31936a39e12'), u'class': u'sports car', u'manufacturer': u'Nissan Motor Company'} \n",
      "\n",
      "{u'assembly': [u'Japan', u'Suzuka Mie'], u'name': [u'Acura Integra', u'Acura RSX', u'Honda Integra', u'Rover 416i'], u'modelYears': [], u'productionYears': [1985, 1986, 1987, 1988, 1989, 1990, 1991, 1992, 1993, 1994, 1995, 1996, 1997, 1998, 1999, 2000, 2001, 2002, 2003, 2004, 2005, 2006], u'layout': u'front-engine front-wheel-drive layout', u'_id': ObjectId('56b9e4169f3bc31936a39e33'), u'manufacturer': u'Honda'} \n",
      "\n"
     ]
    }
   ],
   "source": [
    "for res in db.autos.find({'assembly':'Japan'}):\n",
    "    print res,'\\n'"
   ]
  },
  {
   "cell_type": "code",
   "execution_count": 7,
   "metadata": {
    "collapsed": true
   },
   "outputs": [],
   "source": [
    "def pquery(q,p):\n",
    "    for res in db.autos.find(q,p):\n",
    "        print res,'\\n'"
   ]
  },
  {
   "cell_type": "code",
   "execution_count": 8,
   "metadata": {
    "collapsed": false
   },
   "outputs": [
    {
     "name": "stdout",
     "output_type": "stream",
     "text": [
      "{u'assembly': [u'Atlanta', u'Canada', u'Chicago', u'Georgia (U.S. state)', u'Illinois', u'Lorain Ohio', u'Oakville Ontario', u'Ohio', u'Ontario', u'United States'], u'name': u'Ford Torino'} \n",
      "\n"
     ]
    }
   ],
   "source": [
    "query = {'assembly':{'$lte':'B','$gte':'H'}}\n",
    "projection = {'_id':0,'assembly':1,'name':1}\n",
    "pquery(query,projection)"
   ]
  },
  {
   "cell_type": "code",
   "execution_count": 14,
   "metadata": {
    "collapsed": false
   },
   "outputs": [
    {
     "name": "stdout",
     "output_type": "stream",
     "text": [
      "{u'assembly': [u'Fourchambault', u'France'], u'name': u'Vespa 400'} \n",
      "\n",
      "{u'assembly': [u'Canada', u'Southwold Ontario', u'St. Thomas Assembly'], u'name': u'Ford Crown Victoria'} \n",
      "\n",
      "{u'assembly': [u'Cambridge Ontario', u'Canada'], u'name': u'Toyota Matrix'} \n",
      "\n"
     ]
    }
   ],
   "source": [
    "query = {'assembly':{'$regex':'b'}}\n",
    "projection = {'_id':0,'assembly':1,'name':1}\n",
    "pquery(query,projection)"
   ]
  },
  {
   "cell_type": "code",
   "execution_count": 17,
   "metadata": {
    "collapsed": false,
    "scrolled": true
   },
   "outputs": [
    {
     "name": "stdout",
     "output_type": "stream",
     "text": [
      "{u'name': [u'Eunos Roadster', u'Mazda MX-5', u'Mazda MX-5 Miata', u'Mazda Miata', u'Mazda Roadster'], u'modelYears': []} \n",
      "\n",
      "{u'name': [u'Nissan Fairlady Z (Japan)', u'Nissan Fairlady Z (Z-car series)'], u'modelYears': []} \n",
      "\n",
      "{u'name': [u'Lotus 7', u'Lotus Seven'], u'modelYears': []} \n",
      "\n",
      "{u'name': u'M13 Chaika', u'modelYears': []} \n",
      "\n",
      "{u'name': [u'Bognor Sagona (ROU)', u'Lada Forma (Sedan)', u'Lada Sagona (Sedan)', u'Lada Samara', u'Lada Samara 2', u'Lada Sputnik', u'VAZ 2108/2109/21099', u'VAZ 2113/2114/2115'], u'modelYears': []} \n",
      "\n",
      "{u'name': u'BMW 328', u'modelYears': []} \n",
      "\n",
      "{u'name': [u'Bedford RLHZ Self Propelled Pump', u'Green Goddess'], u'modelYears': []} \n",
      "\n",
      "{u'name': [u'Porsche 955/957/958', u'Porsche Cayenne'], u'modelYears': []} \n",
      "\n",
      "{u'name': [u'Pontiac Vibe', u'Toyota Matrix', u'Toyota Voltz'], u'modelYears': [2003, 2004, 2005, 2006, 2007, 2008, 2009, 2010]} \n",
      "\n",
      "{u'name': u'Ford Taurus', u'modelYears': []} \n",
      "\n",
      "{u'name': u'Ford Anglia', u'modelYears': []} \n",
      "\n",
      "{u'name': u'Toyota Celica', u'modelYears': [1971]} \n",
      "\n",
      "{u'name': u'Vespa 400', u'modelYears': []} \n",
      "\n",
      "{u'name': u'Edsel', u'modelYears': []} \n",
      "\n",
      "{u'modelYears': [], u'name': u'Reliant Fox'} \n",
      "\n",
      "{u'name': [u'Ford Consul Cortina', u'Ford Cortina'], u'modelYears': []} \n",
      "\n",
      "{u'name': u'Pontiac GTO', u'modelYears': []} \n",
      "\n",
      "{u'name': u'Reliant Scimitar', u'modelYears': []} \n",
      "\n",
      "{u'name': u'Vauxhall Astra', u'modelYears': []} \n",
      "\n",
      "{u'name': [u'AC Cobra', u'Shelby Cobra'], u'modelYears': []} \n",
      "\n",
      "{u'name': u'Volvo 66', u'modelYears': []} \n",
      "\n",
      "{u'name': u'Volvo Duett', u'modelYears': []} \n",
      "\n",
      "{u'name': [u'Saab 9-1', u'Saab 9-2'], u'modelYears': []} \n",
      "\n",
      "{u'name': u'Saab 900', u'modelYears': []} \n",
      "\n",
      "{u'modelYears': []} \n",
      "\n",
      "{u'name': u'Chevrolet Impala', u'modelYears': [1958]} \n",
      "\n",
      "{u'name': u'Ford Crown Victoria', u'modelYears': [1992, 1993, 1994, 1995, 1996, 1997, 1998, 1999, 2000, 2001, 2002, 2003, 2004, 2005, 2006, 2007, 2008, 2009, 2010, 2011, 2012]} \n",
      "\n",
      "{u'name': u'Dixi', u'modelYears': []} \n",
      "\n",
      "{u'name': u'Toyota Land Cruiser', u'modelYears': []} \n",
      "\n",
      "{u'name': u'Volkswagen Jetta', u'modelYears': []} \n",
      "\n",
      "{u'name': u'E-M-F 30', u'modelYears': []} \n",
      "\n",
      "{u'name': u'Ford Thunderbird', u'modelYears': []} \n",
      "\n",
      "{u'name': u'Toyota Matrix', u'modelYears': []} \n",
      "\n",
      "{u'name': [u'Acura Integra', u'Acura RSX', u'Honda Integra', u'Rover 416i'], u'modelYears': []} \n",
      "\n",
      "{u'name': u'Plymouth Road Runner', u'modelYears': []} \n",
      "\n",
      "{u'name': u'Lancia Delta', u'modelYears': []} \n",
      "\n",
      "{u'name': u'AMC Pacer', u'modelYears': []} \n",
      "\n",
      "{u'name': u'Ford Windstar', u'modelYears': []} \n",
      "\n",
      "{u'modelYears': [], u'name': u'Ford Parklane'} \n",
      "\n",
      "{u'name': u'Ford Torino', u'modelYears': []} \n",
      "\n",
      "{u'modelYears': []} \n",
      "\n",
      "{u'name': u'Dodge Caravan/Dodge Grand Caravan', u'modelYears': []} \n",
      "\n",
      "{u'name': [u'Cadillac Escalade EXT', u'Chevrolet Avalanche'], u'modelYears': []} \n",
      "\n",
      "{u'name': u'Saab 95', u'modelYears': []} \n",
      "\n",
      "{u'name': [u'Volvo P1900', u'Volvo Sport'], u'modelYears': []} \n",
      "\n",
      "{u'name': u'Vauxhall Viva', u'modelYears': []} \n",
      "\n"
     ]
    }
   ],
   "source": [
    "query = {'modelYears':{'$exists':1}}\n",
    "projection = {'_id':0,'modelYears':1,'name':1}\n",
    "pquery(query,projection)"
   ]
  },
  {
   "cell_type": "code",
   "execution_count": 21,
   "metadata": {
    "collapsed": false
   },
   "outputs": [
    {
     "name": "stdout",
     "output_type": "stream",
     "text": [
      "{u'name': [u'Pontiac Vibe', u'Toyota Matrix', u'Toyota Voltz'], u'modelYears': [2003, 2004, 2005, 2006, 2007, 2008, 2009, 2010]} \n",
      "\n",
      "{u'name': u'Toyota Celica', u'modelYears': [1971]} \n",
      "\n",
      "{u'name': u'Chevrolet Impala', u'modelYears': [1958]} \n",
      "\n",
      "{u'name': u'Ford Crown Victoria', u'modelYears': [1992, 1993, 1994, 1995, 1996, 1997, 1998, 1999, 2000, 2001, 2002, 2003, 2004, 2005, 2006, 2007, 2008, 2009, 2010, 2011, 2012]} \n",
      "\n"
     ]
    }
   ],
   "source": [
    "query = {'modelYears':{'$ne':[]}}\n",
    "projection = {'_id':0,'modelYears':1,'name':1}\n",
    "pquery(query,projection)"
   ]
  },
  {
   "cell_type": "code",
   "execution_count": null,
   "metadata": {
    "collapsed": true
   },
   "outputs": [],
   "source": []
  }
 ],
 "metadata": {
  "kernelspec": {
   "display_name": "Python 2",
   "language": "python",
   "name": "python2"
  },
  "language_info": {
   "codemirror_mode": {
    "name": "ipython",
    "version": 2
   },
   "file_extension": ".py",
   "mimetype": "text/x-python",
   "name": "python",
   "nbconvert_exporter": "python",
   "pygments_lexer": "ipython2",
   "version": "2.7.9"
  }
 },
 "nbformat": 4,
 "nbformat_minor": 0
}
