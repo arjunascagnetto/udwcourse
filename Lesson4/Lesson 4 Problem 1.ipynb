{
 "cells": [
  {
   "cell_type": "markdown",
   "metadata": {},
   "source": [
    "In this problem set you work with another type of infobox data, audit it, clean it, \n",
    "come up with a data model, insert it into a MongoDB and then run some queries against your database.\n",
    "The set contains data about Arachnid class.\n",
    "Your task in this exercise is to parse the file, process only the fields that are listed in the\n",
    "FIELDS dictionary as keys, and return a list of dictionaries of cleaned values. \n",
    "\n",
    "The following things should be done:\n",
    "- keys of the dictionary changed according to the mapping in FIELDS dictionary\n",
    "- trim out redundant description in parenthesis from the 'rdf-schema#label' field, like \"(spider)\"\n",
    "- if 'name' is \"NULL\" or contains non-alphanumeric characters, set it to the same value as 'label'.\n",
    "- if a value of a field is \"NULL\", convert it to None\n",
    "- if there is a value in 'synonym', it should be converted to an array (list)\n",
    "  by stripping the \"{}\" characters and splitting the string on \"|\". Rest of the cleanup is up to you,\n",
    "  eg removing \"*\" prefixes etc. If there is a singular synonym, the value should still be formatted\n",
    "  in a list.\n",
    "- strip leading and ending whitespace from all fields, if there is any\n",
    "- the output structure should be as follows:\n",
    "    \n",
    "        {'label': 'Argiope',\n",
    "          'uri': 'http://dbpedia.org/resource/Argiope_(spider)',\n",
    "          'description': 'The genus Argiope includes rather large and spectacular spiders that often ...',\n",
    "          'name': 'Argiope',\n",
    "          'synonym': [\"One\", \"Two\"],\n",
    "          'classification': {\n",
    "                    'family': 'Orb-weaver spider',\n",
    "                    'class': 'Arachnid',\n",
    "                    'phylum': 'Arthropod',\n",
    "                    'order': 'Spider',\n",
    "                    'kingdom': 'Animal',\n",
    "                    'genus': None\n",
    "                    }\n",
    "        }\n",
    "  \n",
    "  * Note that the value associated with the classification key is a dictionary with\n",
    "    taxonomic labels."
   ]
  },
  {
   "cell_type": "code",
   "execution_count": 1,
   "metadata": {
    "collapsed": true
   },
   "outputs": [],
   "source": [
    "FILE = '../data/arachnid.csv'"
   ]
  },
  {
   "cell_type": "code",
   "execution_count": null,
   "metadata": {
    "collapsed": true
   },
   "outputs": [],
   "source": []
  }
 ],
 "metadata": {
  "kernelspec": {
   "display_name": "Python 2",
   "language": "python",
   "name": "python2"
  },
  "language_info": {
   "codemirror_mode": {
    "name": "ipython",
    "version": 2
   },
   "file_extension": ".py",
   "mimetype": "text/x-python",
   "name": "python",
   "nbconvert_exporter": "python",
   "pygments_lexer": "ipython2",
   "version": "2.7.9"
  }
 },
 "nbformat": 4,
 "nbformat_minor": 0
}
